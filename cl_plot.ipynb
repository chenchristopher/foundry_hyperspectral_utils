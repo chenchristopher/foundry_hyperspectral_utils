{
 "cells": [
  {
   "cell_type": "markdown",
   "metadata": {},
   "source": [
    "# InGaN/GaN CL analysis\n",
    "\n",
    "Input: filename of CL h5 file to analyze \n",
    "Output: "
   ]
  },
  {
   "cell_type": "code",
   "execution_count": 1,
   "metadata": {},
   "outputs": [],
   "source": [
    "%matplotlib qt\n",
    "import numpy as np\n",
    "import h5py as h5\n",
    "import hyperspy.api as hs\n",
    "import hyperspy_gui_ipywidgets\n",
    "import seaborn as sns\n",
    "import os\n",
    "from spec_im import CLSpectralImage\n",
    "from spec_im_utils import plot_si_bands, plot_cl_summary, gui_fname, plot_bss_results, plot_decomp_results\n",
    "import matplotlib.pyplot as plt"
   ]
  },
  {
   "cell_type": "markdown",
   "metadata": {},
   "source": [
    "## Loading data from file"
   ]
  },
  {
   "cell_type": "code",
   "execution_count": 2,
   "metadata": {},
   "outputs": [],
   "source": [
    "fname = gui_fname()\n",
    "fpath = os.path.dirname(fname)\n",
    "fbase = os.path.splitext(fname)[0]\n",
    "sample = os.path.basename(fname)\n",
    "sns.set()\n",
    "sns.set_style('ticks')"
   ]
  },
  {
   "cell_type": "code",
   "execution_count": 3,
   "metadata": {},
   "outputs": [
    {
     "name": "stdout",
     "output_type": "stream",
     "text": [
      "Interpolating spectral data from nm to eV\n",
      "334.7017427179295 to 595.8221165348759 nm\n",
      "64 x 64 spatial x 1599 spectral points\n"
     ]
    }
   ],
   "source": [
    "sample = '548 2-4 @ 18 K'\n",
    "(os.path.dirname(fname),os.path.basename(fname))\n",
    "si = CLSpectralImage(fname=fname)\n",
    "esi = si.to_energy()"
   ]
  },
  {
   "cell_type": "markdown",
   "metadata": {},
   "source": [
    "## Summary"
   ]
  },
  {
   "cell_type": "code",
   "execution_count": 4,
   "metadata": {},
   "outputs": [],
   "source": [
    "f0 = plot_cl_summary(esi)"
   ]
  },
  {
   "cell_type": "markdown",
   "metadata": {},
   "source": [
    "## Plot data vs eV"
   ]
  },
  {
   "cell_type": "code",
   "execution_count": 5,
   "metadata": {
    "scrolled": true
   },
   "outputs": [],
   "source": [
    "f1 = plot_si_bands(esi, \n",
    "            (2.5,2.6,'viridis',''), (2.6,2.7,'viridis',''), (2.7,2.8,'viridis',''), (2.8,2.9,'viridis',''), (2.9,3.0,'viridis',''),\n",
    "            (3.0,3.1,'viridis',''), (3.1,3.2,'viridis',''), (3.3,3.4,'viridis',''), (3.2,3.3,'viridis',''), (3.4,3.5,'viridis',''),\n",
    "            no_of_cols=5, percentile=3)\n",
    "\n",
    "f1.set_size_inches(10,7)\n",
    "f1.tight_layout(h_pad=1)"
   ]
  },
  {
   "cell_type": "markdown",
   "metadata": {},
   "source": [
    "## Hyperspy signal setup"
   ]
  },
  {
   "cell_type": "code",
   "execution_count": 6,
   "metadata": {
    "scrolled": false
   },
   "outputs": [],
   "source": [
    "# plot an interactive map with spectra at each location\n",
    "s = esi.to_signal()\n",
    "s.plot()\n",
    "# roi = hs.roi.RectangularROI(left=0, right=100., top=0, bottom=100.)\n",
    "# scrop = roi.interactive(s)"
   ]
  },
  {
   "cell_type": "code",
   "execution_count": null,
   "metadata": {},
   "outputs": [],
   "source": [
    "scrop.plot()"
   ]
  },
  {
   "cell_type": "code",
   "execution_count": null,
   "metadata": {},
   "outputs": [],
   "source": [
    "s = scrop"
   ]
  },
  {
   "cell_type": "markdown",
   "metadata": {},
   "source": [
    "## PCA with SVD, BSS"
   ]
  },
  {
   "cell_type": "code",
   "execution_count": 12,
   "metadata": {},
   "outputs": [
    {
     "data": {
      "text/plain": [
       "<matplotlib.axes._subplots.AxesSubplot at 0x110997f0>"
      ]
     },
     "execution_count": 12,
     "metadata": {},
     "output_type": "execute_result"
    }
   ],
   "source": [
    "# perform principal component analysis, look at the explained variance\n",
    "s.decomposition(algorithm='svd')\n",
    "s.plot_explained_variance_ratio()"
   ]
  },
  {
   "cell_type": "code",
   "execution_count": 8,
   "metadata": {},
   "outputs": [
    {
     "name": "stdout",
     "output_type": "stream",
     "text": [
      "2\n",
      "fig 1 of 2\n",
      "component 1 of 8\n",
      "component 2 of 8\n",
      "component 3 of 8\n",
      "component 4 of 8\n",
      "fig 2 of 2\n",
      "component 5 of 8\n",
      "component 6 of 8\n",
      "component 7 of 8\n",
      "component 8 of 8\n"
     ]
    },
    {
     "data": {
      "text/plain": [
       "[<Figure size 1000x1000 with 12 Axes>, <Figure size 1000x1000 with 12 Axes>]"
      ]
     },
     "execution_count": 8,
     "metadata": {},
     "output_type": "execute_result"
    }
   ],
   "source": [
    "# take a look at orthogonalized \n",
    "plot_bss_results(s,esi,title='BSS',cmap='viridis',fig_rows=4,components=8,max_iter=1000)"
   ]
  },
  {
   "cell_type": "markdown",
   "metadata": {},
   "source": [
    "## PCA with NMF"
   ]
  },
  {
   "cell_type": "code",
   "execution_count": 9,
   "metadata": {},
   "outputs": [
    {
     "name": "stdout",
     "output_type": "stream",
     "text": [
      "2\n",
      "fig 1 of 2\n",
      "component 1 of 8\n",
      "component 2 of 8\n",
      "component 3 of 8\n",
      "component 4 of 8\n",
      "fig 2 of 2\n",
      "component 5 of 8\n",
      "component 6 of 8\n",
      "component 7 of 8\n",
      "component 8 of 8\n"
     ]
    },
    {
     "data": {
      "text/plain": [
       "[<Figure size 1000x1000 with 12 Axes>, <Figure size 1000x1000 with 12 Axes>]"
      ]
     },
     "execution_count": 9,
     "metadata": {},
     "output_type": "execute_result"
    }
   ],
   "source": [
    "plot_decomp_results(s, esi, title='NMF', cmap='viridis', fig_rows=4, algorithm='nmf', output_dimension=8)"
   ]
  },
  {
   "cell_type": "markdown",
   "metadata": {},
   "source": [
    "## Save PDF"
   ]
  },
  {
   "cell_type": "code",
   "execution_count": 10,
   "metadata": {
    "scrolled": true
   },
   "outputs": [],
   "source": [
    "import matplotlib.backends.backend_pdf\n",
    "pdf = matplotlib.backends.backend_pdf.PdfPages(fbase+\"_decomp.pdf\")\n",
    "for fig in range(1, plt.figure().number): ## will open an empty extra figure :(\n",
    "    pdf.savefig( fig )\n",
    "pdf.close()\n",
    "plt.close(fig='all')"
   ]
  },
  {
   "cell_type": "code",
   "execution_count": null,
   "metadata": {},
   "outputs": [],
   "source": [
    "print('test')"
   ]
  },
  {
   "cell_type": "code",
   "execution_count": null,
   "metadata": {},
   "outputs": [],
   "source": [
    "sc = s.get_decomposition_model()\n",
    "sc.plot()"
   ]
  },
  {
   "cell_type": "code",
   "execution_count": null,
   "metadata": {},
   "outputs": [],
   "source": [
    "(s-sc).plot()"
   ]
  },
  {
   "cell_type": "code",
   "execution_count": null,
   "metadata": {},
   "outputs": [],
   "source": [
    "f5 = fncn.plot_spec_bands(sc.data,En,v_array,h_array,sample,' [eV] 0.1 eV spec bands',\n",
    "            (3.3,3.4,'plasma','1'),\n",
    "            (3.2,3.3,'plasma','2'),\n",
    "            (3.1,3.2,'plasma','3'),\n",
    "            (3.0,3.1,'plasma','4'),\n",
    "            (2.9,3.0,'plasma','5'),\n",
    "            (2.8,2.9,'plasma','6'),\n",
    "            (2.7,2.8,'plasma','7'),\n",
    "            (2.6,2.7,'plasma','8'),\n",
    "            (2.5,2.6,'plasma','9'),\n",
    "            no_of_cols=5,percentile=3)\n",
    "plt.tight_layout(h_pad=1)\n",
    "f4.set_size_inches(7,7)"
   ]
  },
  {
   "cell_type": "code",
   "execution_count": null,
   "metadata": {},
   "outputs": [],
   "source": [
    "plt.tight_layout(h_pad=1)"
   ]
  },
  {
   "cell_type": "code",
   "execution_count": null,
   "metadata": {},
   "outputs": [],
   "source": [
    "plt.gcf()"
   ]
  },
  {
   "cell_type": "code",
   "execution_count": null,
   "metadata": {},
   "outputs": [],
   "source": [
    "plt.figure()\n",
    "aa = np.linspace(1e-3,20e-3,num=50)\n",
    "dd = 135*np.tan(aa/10)\n",
    "print(aa.shape)\n",
    "plt.plot(aa,dd)"
   ]
  },
  {
   "cell_type": "code",
   "execution_count": null,
   "metadata": {},
   "outputs": [],
   "source": [
    "plt.close(fig='all')"
   ]
  },
  {
   "cell_type": "code",
   "execution_count": null,
   "metadata": {},
   "outputs": [],
   "source": [
    "scrop.plot()"
   ]
  },
  {
   "cell_type": "code",
   "execution_count": null,
   "metadata": {},
   "outputs": [],
   "source": [
    "# perform principal component analysis, look at the explained variance\n",
    "scrop.decomposition(algorithm='svd')\n",
    "scrop.plot_explained_variance_ratio()"
   ]
  },
  {
   "cell_type": "code",
   "execution_count": null,
   "metadata": {},
   "outputs": [],
   "source": [
    "# take a look at orthogonalized \n",
    "scrop.blind_source_separation(number_of_components=8,on_loadings=True,max_iter=1000)\n",
    "fncn.plot_hs_results(scrop.get_bss_loadings(),scrop.get_bss_factors(),fncn.get_hs_axes(scrop),title='BSS',cmap='viridis')"
   ]
  },
  {
   "cell_type": "code",
   "execution_count": null,
   "metadata": {
    "scrolled": true
   },
   "outputs": [],
   "source": [
    "np.shape(fncn.get_hs_axes(s)[2])"
   ]
  },
  {
   "cell_type": "code",
   "execution_count": null,
   "metadata": {},
   "outputs": [],
   "source": [
    "np.shape(fncn.get_hs_axes(scrop)[1])"
   ]
  },
  {
   "cell_type": "code",
   "execution_count": null,
   "metadata": {},
   "outputs": [],
   "source": [
    "dh.max()"
   ]
  },
  {
   "cell_type": "code",
   "execution_count": null,
   "metadata": {},
   "outputs": [],
   "source": [
    "span"
   ]
  },
  {
   "cell_type": "code",
   "execution_count": null,
   "metadata": {},
   "outputs": [],
   "source": [
    "span[0]*1e-9"
   ]
  },
  {
   "cell_type": "code",
   "execution_count": null,
   "metadata": {},
   "outputs": [],
   "source": [
    "from spec_im import CLSpectralImage\n",
    "\n",
    "test_si = CLSpectralImage(fname=fname)"
   ]
  },
  {
   "cell_type": "code",
   "execution_count": null,
   "metadata": {},
   "outputs": [],
   "source": [
    "test_si"
   ]
  },
  {
   "cell_type": "code",
   "execution_count": null,
   "metadata": {},
   "outputs": [],
   "source": [
    "test_si.plot()"
   ]
  },
  {
   "cell_type": "code",
   "execution_count": null,
   "metadata": {},
   "outputs": [],
   "source": [
    "plt.figure()\n",
    "test_si[355:384].plot()"
   ]
  },
  {
   "cell_type": "code",
   "execution_count": null,
   "metadata": {},
   "outputs": [],
   "source": [
    "plt.figure()\n",
    "test_si.to_energy()[2.5:2.6].plot()"
   ]
  },
  {
   "cell_type": "code",
   "execution_count": null,
   "metadata": {},
   "outputs": [],
   "source": [
    "test_si.spec_x_array"
   ]
  },
  {
   "cell_type": "code",
   "execution_count": null,
   "metadata": {},
   "outputs": [],
   "source": [
    "dir(si)"
   ]
  },
  {
   "cell_type": "code",
   "execution_count": null,
   "metadata": {},
   "outputs": [],
   "source": [
    "list = ['1','2','3']"
   ]
  },
  {
   "cell_type": "code",
   "execution_count": null,
   "metadata": {},
   "outputs": [],
   "source": [
    "kwarg_print(**{i: ord(i) for i in list})"
   ]
  },
  {
   "cell_type": "code",
   "execution_count": null,
   "metadata": {},
   "outputs": [],
   "source": [
    "def kwarg_print(a='asdf',**kwargs):\n",
    "    print(a)\n",
    "    for kw in kwargs.keys():\n",
    "        print(kw, kwargs[kw])"
   ]
  },
  {
   "cell_type": "code",
   "execution_count": null,
   "metadata": {},
   "outputs": [],
   "source": [
    "esi.dat['se'].shape"
   ]
  },
  {
   "cell_type": "code",
   "execution_count": null,
   "metadata": {},
   "outputs": [],
   "source": [
    "esi.dat['cntr'].shape"
   ]
  },
  {
   "cell_type": "code",
   "execution_count": null,
   "metadata": {},
   "outputs": [],
   "source": []
  },
  {
   "cell_type": "code",
   "execution_count": null,
   "metadata": {},
   "outputs": [],
   "source": [
    "si.dat"
   ]
  },
  {
   "cell_type": "code",
   "execution_count": null,
   "metadata": {},
   "outputs": [],
   "source": [
    "si.plot_ctr('ctr1')"
   ]
  },
  {
   "cell_type": "code",
   "execution_count": 18,
   "metadata": {},
   "outputs": [
    {
     "data": {
      "text/plain": [
       "[<matplotlib.lines.Line2D at 0x13ec2f98>]"
      ]
     },
     "execution_count": 18,
     "metadata": {},
     "output_type": "execute_result"
    }
   ],
   "source": [
    "plt.semilogy(s.get_explained_variance_ratio().data)"
   ]
  },
  {
   "cell_type": "code",
   "execution_count": 26,
   "metadata": {},
   "outputs": [
    {
     "data": {
      "text/plain": [
       "1590"
      ]
     },
     "execution_count": 26,
     "metadata": {},
     "output_type": "execute_result"
    }
   ],
   "source": [
    "np.searchsorted(np.flip(s.get_explained_variance_ratio()).data,1e-4)"
   ]
  },
  {
   "cell_type": "code",
   "execution_count": 21,
   "metadata": {},
   "outputs": [
    {
     "data": {
      "text/plain": [
       "(1599,)"
      ]
     },
     "execution_count": 21,
     "metadata": {},
     "output_type": "execute_result"
    }
   ],
   "source": [
    "s.get_explained_variance_ratio().data.shape"
   ]
  },
  {
   "cell_type": "code",
   "execution_count": 27,
   "metadata": {},
   "outputs": [
    {
     "data": {
      "text/plain": [
       "{'filename': '190328_165648_hyperspec_cl.h5',\n",
       " 'path': 'D:\\\\Chris\\\\Google Drive\\\\CoSES\\\\Data\\\\CL\\\\548\\\\pyramid_2_4',\n",
       " 'remcon': {'SEM_mode': 'default',\n",
       "  'WD': 5.32324,\n",
       "  'aperture_x': -16.923666,\n",
       "  'aperture_xy': array([-16.923666, -10.230333]),\n",
       "  'aperture_y': -10.230333,\n",
       "  'beam_blanking': False,\n",
       "  'beamshift_xy': array([0., 0.]),\n",
       "  'connected': True,\n",
       "  'contrast0': 26.59258,\n",
       "  'contrast1': 38.21125,\n",
       "  'control_beamshift': False,\n",
       "  'debug_mode': False,\n",
       "  'detector0': 'SE2',\n",
       "  'detector1': 'InLens',\n",
       "  'dual_channel': True,\n",
       "  'eht_on': True,\n",
       "  'external_scan': True,\n",
       "  'full_size': 2.2865918976000002e-05,\n",
       "  'gun_x': 0.0,\n",
       "  'gun_xy': array([0., 0.]),\n",
       "  'gun_y': 0.0,\n",
       "  'high_current': False,\n",
       "  'kV': 3.0,\n",
       "  'magnification': 5000.0,\n",
       "  'port': 'COM4',\n",
       "  'scm_current': 9.810712e-10,\n",
       "  'scm_state': False,\n",
       "  'select_aperture': 4,\n",
       "  'stage_M': 0.0,\n",
       "  'stage_initialized': True,\n",
       "  'stage_is_moving': False,\n",
       "  'stage_position': array([ 61.17533,  62.12516,  31.79666,   0.     , 264.69961,   0.     ,\n",
       "           0.     ]),\n",
       "  'stage_rot': 264.69961,\n",
       "  'stage_tilt': 0.0,\n",
       "  'stage_x': 61.17533,\n",
       "  'stage_y': 62.12516,\n",
       "  'stage_z': 31.79666,\n",
       "  'stig_x': -17.012997,\n",
       "  'stig_xy': array([-17.012997, -16.173334]),\n",
       "  'stig_y': -16.173334},\n",
       " 'daq': {'adc_chan_names': '[\"ai0\", \"SE2\", \"InLens\", \"ai3\"]',\n",
       "  'adc_channels': '[\"ai0\", \"ai1\", \"ai2\", \"ai3\"]',\n",
       "  'adc_chans_enable': array([ True,  True,  True,  True]),\n",
       "  'adc_device': 'X-6368',\n",
       "  'adc_oversample': 200,\n",
       "  'adc_rate': 15000.0,\n",
       "  'connected': True,\n",
       "  'continuous': True,\n",
       "  'ctr_chan_names': '[\"ctr0\", \"ctr1\", \"ctr2\", \"ctr3\"]',\n",
       "  'ctr_chan_terms': '[\"PFI0\", \"PFI5\", \"PFI1\", \"PFI3\"]',\n",
       "  'ctr_channels': '[\"ctr0\", \"ctr1\", \"ctr2\", \"ctr3\"]',\n",
       "  'ctr_chans_enable': array([ True,  True,  True,  True]),\n",
       "  'ctr_device': 'X-6368',\n",
       "  'dac_chan_names': '[\"X\", \"Y\"]',\n",
       "  'dac_channels': '[\"ao0\", \"ao1\"]',\n",
       "  'dac_chans_enable': array([ True,  True]),\n",
       "  'dac_device': 'X-6368',\n",
       "  'dac_rate': 75.0,\n",
       "  'debug_mode': False,\n",
       "  'ext_clock_enable': False,\n",
       "  'ext_clock_source': '/X-6368/PFI0',\n",
       "  'trig_output_term': '/X-6368/PFI4'},\n",
       " 'data': {'Nh': 64,\n",
       "  'Nv': 64,\n",
       "  'activation': True,\n",
       "  'adc_oversample': 200,\n",
       "  'adc_rate': 15000.0,\n",
       "  'continuous_scan': False,\n",
       "  'correct_chan': 1,\n",
       "  'correct_drift': False,\n",
       "  'correlation_exp': 0.3,\n",
       "  'dac_offset_x': 0.0,\n",
       "  'dac_offset_y': 0.0,\n",
       "  'description': '90/10+0.3ND 409 458 735\\nchrisses corner\\n548 pyramid 2,4 cooling',\n",
       "  'dh': 0.31746031746031744,\n",
       "  'display_chan': 'adc0',\n",
       "  'dv': 0.31746031746031744,\n",
       "  'frame_time': 54.61333333333334,\n",
       "  'h0': -10.0,\n",
       "  'h1': 10.0,\n",
       "  'h_center': 0.0,\n",
       "  'h_span': 20.0,\n",
       "  'line_time': 0.8533333333333334,\n",
       "  'n_frames': 1,\n",
       "  'pixel_time': 0.013333333333333334,\n",
       "  'profile': False,\n",
       "  'progress': 50.0,\n",
       "  'proportional_gain': 0.3,\n",
       "  'running': True,\n",
       "  'save_h5': True,\n",
       "  'scan_type': 'raster',\n",
       "  'show_previous_scans': True,\n",
       "  'total_time': 54.61333333333334,\n",
       "  'v0': -10.0,\n",
       "  'v1': 10.0,\n",
       "  'v_center': 0.0,\n",
       "  'v_span': 20.0},\n",
       " 'andor': {'acc_time': 0.1,\n",
       "  'acq_mode': 'run_till_abort',\n",
       "  'ad_chan': 1,\n",
       "  'ccd_shape': array([ 200, 1600]),\n",
       "  'ccd_status': 'IDLE',\n",
       "  'connected': True,\n",
       "  'cooler_on': True,\n",
       "  'debug_mode': False,\n",
       "  'em_gain': 150,\n",
       "  'exposure_time': 0.007333333333333334,\n",
       "  'has_em_ccd': True,\n",
       "  'hflip': True,\n",
       "  'hs_chan_conventional': 0,\n",
       "  'hs_speed_em': 0,\n",
       "  'kin_time': 0.1,\n",
       "  'num_acc': 1,\n",
       "  'num_kin': 1,\n",
       "  'output_amp': 0,\n",
       "  'readout_mode': 'FullVerticalBinning',\n",
       "  'readout_shape': array([   1, 1600]),\n",
       "  'roi_fvb_hbin': 1,\n",
       "  'roi_img_hbin': 1,\n",
       "  'roi_img_hend': 1600,\n",
       "  'roi_img_hstart': 1,\n",
       "  'roi_img_vbin': 1,\n",
       "  'roi_img_vend': 200,\n",
       "  'roi_img_vstart': 1,\n",
       "  'roi_st_center': 100,\n",
       "  'roi_st_hbin': 1,\n",
       "  'roi_st_width': 40,\n",
       "  'shutter_open': False,\n",
       "  'temp_setpoint': -100,\n",
       "  'temp_status': 'NOT_REACHED',\n",
       "  'temperature': -44,\n",
       "  'trigger_mode': 'external',\n",
       "  'vertical_shift_speed': 0,\n",
       "  'vflip': False},\n",
       " 'acton': {'center_wl': 469.998,\n",
       "  'connected': True,\n",
       "  'debug_mode': False,\n",
       "  'echo': True,\n",
       "  'entrance_slit': 24,\n",
       "  'exit_mirror': ' FRONT',\n",
       "  'exit_slit': 41,\n",
       "  'grating_calibrations': array([[3.04687500e+08, 8.45463217e-02, 5.67668530e-01, 8.25964286e+02,\n",
       "          0.00000000e+00, 3.33333333e+03, 1.60000000e+04, 1.65688810e-06],\n",
       "         [3.04687500e+08, 8.45463217e-02, 5.67668530e-01, 8.25964286e+02,\n",
       "          0.00000000e+00, 3.33333333e+03, 1.60000000e+04, 1.65688810e-06],\n",
       "         [3.00146484e+08, 3.73577467e-02, 5.67905201e-01, 8.14321429e+02,\n",
       "          0.00000000e+00, 6.66666667e+03, 1.60000000e+04, 1.98057872e-06]]),\n",
       "  'grating_id': 1,\n",
       "  'grating_name': \"(1, '300 g/mm BLZ=  500NM ')\",\n",
       "  'port': 'COM5'},\n",
       " 'summary': {'magnification': 5000.0,\n",
       "  'kV': 3.0,\n",
       "  'WD': 5.32324,\n",
       "  'select_aperture': 4,\n",
       "  'adc_chan_names': '[\"ai0\", \"SE2\", \"InLens\", \"ai3\"]',\n",
       "  'adc_oversample': 200,\n",
       "  'adc_rate': 15000.0,\n",
       "  'ctr_chan_names': '[\"ctr0\", \"ctr1\", \"ctr2\", \"ctr3\"]',\n",
       "  'dac_rate': 75.0,\n",
       "  'description': '90/10+0.3ND 409 458 735\\nchrisses corner\\n548 pyramid 2,4 cooling',\n",
       "  'frame_time': 54.61333333333334,\n",
       "  'line_time': 0.8533333333333334,\n",
       "  'n_frames': 1,\n",
       "  'pixel_time': 0.013333333333333334,\n",
       "  'total_time': 54.61333333333334,\n",
       "  'size_in_pix': [64, 64],\n",
       "  'pix_in_V': (0.31746031746031744, 0.31746031746031744),\n",
       "  'pix_in_nm': array([346.73015873, 346.73015873]),\n",
       "  'size_in_nm': array([22190.73015873, 22190.73015873]),\n",
       "  'acc_time': 0.1,\n",
       "  'em_gain': 150,\n",
       "  'exposure_time': 0.007333333333333334,\n",
       "  'readout_shape': array([   1, 1600])},\n",
       " 'se': array([[[0.63215386, 0.11113962, 0.1350026 , 0.17746966],\n",
       "         [0.63037703, 0.11150988, 0.1379141 , 0.17755094],\n",
       "         [0.62880649, 0.1121348 , 0.12887624, 0.17738212],\n",
       "         ...,\n",
       "         [0.62902214, 0.10877429, 0.12171632, 0.17728677],\n",
       "         [0.6275938 , 0.10981166, 0.11818561, 0.17730865],\n",
       "         [0.62847987, 0.10920861, 0.12336596, 0.17723987]],\n",
       " \n",
       "        [[0.63176474, 0.10887115, 0.13710726, 0.17751811],\n",
       "         [0.63218356, 0.1123379 , 0.1484812 , 0.17731021],\n",
       "         [0.63036453, 0.11107244, 0.12571455, 0.17755407],\n",
       "         ...,\n",
       "         [0.63082554, 0.11054438, 0.12879493, 0.177404  ],\n",
       "         [0.62893619, 0.112027  , 0.13263055, 0.1775822 ],\n",
       "         [0.62757661, 0.1120395 , 0.13227717, 0.17734617]],\n",
       " \n",
       "        [[0.62998479, 0.13225103, 0.13334201, 0.17728677],\n",
       "         [0.63188507, 0.09943483, 0.13456478, 0.17737899],\n",
       "         [0.63210698, 0.10174548, 0.13032105, 0.17740244],\n",
       "         ...,\n",
       "         [0.63076147, 0.11091308, 0.12454182, 0.1773446 ],\n",
       "         [0.63079429, 0.11014443, 0.12763784, 0.17740557],\n",
       "         [0.62883618, 0.11081934, 0.13159698, 0.17735398]],\n",
       " \n",
       "        ...,\n",
       " \n",
       "        [[0.63344468, 0.11352525, 0.13264931, 0.17748685],\n",
       "         [0.63287272, 0.11091933, 0.12968621, 0.17744621],\n",
       "         [0.630949  , 0.11217074, 0.12141923, 0.17765255],\n",
       "         ...,\n",
       "         [0.63137719, 0.1093539 , 0.13142654, 0.17726801],\n",
       "         [0.62948471, 0.10711356, 0.1151928 , 0.17756814],\n",
       "         [0.62961286, 0.10774317, 0.12428069, 0.17720548]],\n",
       " \n",
       "        [[0.63241328, 0.11026629, 0.13555613, 0.17741026],\n",
       "         [0.63399945, 0.11246914, 0.14552435, 0.17736492],\n",
       "         [0.63260706, 0.11061937, 0.11531007, 0.17740869],\n",
       "         ...,\n",
       "         [0.63269301, 0.10526848, 0.12541433, 0.17731021],\n",
       "         [0.63110996, 0.10643552, 0.13359845, 0.17726332],\n",
       "         [0.62935813, 0.10941483, 0.13725581, 0.17723049]],\n",
       " \n",
       "        [[0.63059269, 0.10801813, 0.12446833, 0.17744621],\n",
       "         [0.63317277, 0.11174579, 0.13953091, 0.17736805],\n",
       "         [0.63392288, 0.11291908, 0.12897006, 0.1773321 ],\n",
       "         ...,\n",
       "         [0.63205854, 0.10502163, 0.12972374, 0.17732116],\n",
       "         [0.63257737, 0.10776816, 0.12380222, 0.17738368],\n",
       "         [0.63081148, 0.10671361, 0.11741161, 0.17738368]]]),\n",
       " 'cntr': array([[[ 9893,  1928,   832,     0],\n",
       "         [ 9893,  1928,   832,     0],\n",
       "         [ 8979,  1906,   834,     0],\n",
       "         ...,\n",
       "         [11010,  2422,   765,     0],\n",
       "         [10987,  2367,   784,     0],\n",
       "         [10644,  2237,   767,     0]],\n",
       " \n",
       "        [[11349,  2256,   747,     0],\n",
       "         [10035,  1885,   798,     0],\n",
       "         [ 8308,  1819,   793,     0],\n",
       "         ...,\n",
       "         [11724,  2435,   762,     0],\n",
       "         [11801,  2430,   804,     0],\n",
       "         [10249,  2297,   772,     0]],\n",
       " \n",
       "        [[10878,  2190,   765,     0],\n",
       "         [13744,  3428,  1191,     0],\n",
       "         [ 7939,  1975,   801,     0],\n",
       "         ...,\n",
       "         [11201,  2388,   808,     0],\n",
       "         [11759,  2297,   748,     0],\n",
       "         [10180,  2279,   722,     0]],\n",
       " \n",
       "        ...,\n",
       " \n",
       "        [[11081,  2334,   949,     0],\n",
       "         [11920,  2460,  1103,     0],\n",
       "         [14938,  2592,  1232,     0],\n",
       "         ...,\n",
       "         [12182,  2460,   985,     0],\n",
       "         [12158,  2312,  1000,     0],\n",
       "         [14163,  2547,  1041,     0]],\n",
       " \n",
       "        [[12474,  2383,   906,     0],\n",
       "         [ 9878,  2358,  1071,     0],\n",
       "         [ 9464,  2239,  1059,     0],\n",
       "         ...,\n",
       "         [14257,  2516,  1021,     0],\n",
       "         [12737,  2351,   938,     0],\n",
       "         [14318,  2450,   961,     0]],\n",
       " \n",
       "        [[12979,  2361,   942,     0],\n",
       "         [ 8542,  2240,  1013,     0],\n",
       "         [ 9314,  2356,  1052,     0],\n",
       "         ...,\n",
       "         [14757,  2525,  1022,     0],\n",
       "         [16565,  2647,  1039,     0],\n",
       "         [16329,  2600,  1029,     0]]]),\n",
       " 'SI': array([[[294, 253, 302, ..., 286, 311, 271],\n",
       "         [290, 278, 307, ..., 313, 272, 283],\n",
       "         [274, 286, 299, ..., 304, 294, 275],\n",
       "         ...,\n",
       "         [284, 277, 328, ..., 281, 308, 327],\n",
       "         [286, 294, 285, ..., 265, 282, 275],\n",
       "         [290, 280, 267, ..., 313, 321, 282]],\n",
       " \n",
       "        [[290, 300, 288, ..., 322, 274, 276],\n",
       "         [294, 253, 302, ..., 286, 311, 271],\n",
       "         [298, 285, 264, ..., 285, 289, 279],\n",
       "         ...,\n",
       "         [274, 289, 274, ..., 313, 295, 332],\n",
       "         [287, 311, 283, ..., 298, 277, 270],\n",
       "         [305, 294, 316, ..., 290, 323, 275]],\n",
       " \n",
       "        [[312, 278, 280, ..., 312, 283, 276],\n",
       "         [280, 287, 338, ..., 272, 306, 276],\n",
       "         [282, 307, 334, ..., 317, 342, 301],\n",
       "         ...,\n",
       "         [298, 291, 302, ..., 290, 313, 305],\n",
       "         [296, 264, 284, ..., 279, 303, 296],\n",
       "         [289, 315, 285, ..., 278, 324, 285]],\n",
       " \n",
       "        ...,\n",
       " \n",
       "        [[283, 312, 289, ..., 312, 297, 329],\n",
       "         [313, 288, 311, ..., 275, 299, 295],\n",
       "         [313, 278, 293, ..., 291, 295, 329],\n",
       "         ...,\n",
       "         [334, 285, 307, ..., 287, 267, 279],\n",
       "         [282, 254, 299, ..., 288, 286, 295],\n",
       "         [300, 292, 278, ..., 289, 266, 301]],\n",
       " \n",
       "        [[300, 317, 308, ..., 326, 289, 301],\n",
       "         [300, 277, 327, ..., 307, 293, 270],\n",
       "         [321, 290, 273, ..., 305, 283, 307],\n",
       "         ...,\n",
       "         [305, 322, 270, ..., 294, 301, 299],\n",
       "         [281, 314, 316, ..., 328, 277, 298],\n",
       "         [281, 306, 287, ..., 264, 301, 287]],\n",
       " \n",
       "        [[293, 305, 303, ..., 275, 282, 267],\n",
       "         [327, 302, 274, ..., 315, 269, 264],\n",
       "         [268, 310, 264, ..., 310, 294, 294],\n",
       "         ...,\n",
       "         [302, 320, 316, ..., 279, 337, 281],\n",
       "         [303, 277, 288, ..., 294, 310, 305],\n",
       "         [278, 278, 292, ..., 279, 281, 297]]]),\n",
       " 'wavelength': array([334.70174272, 334.86580373, 335.02986448, ..., 595.49808104,\n",
       "        595.6600999 , 595.82211653]),\n",
       " 'sum1D': array([1200446, 1195410, 1188673, ..., 1222908, 1222869, 1205113]),\n",
       " 'sum2D': array([[471695, 465807, 469888, ..., 475243, 471312, 477900],\n",
       "        [472814, 471695, 473554, ..., 477166, 471812, 471505],\n",
       "        [471769, 470989, 475833, ..., 478490, 468042, 475831],\n",
       "        ...,\n",
       "        [473937, 472448, 468816, ..., 467417, 471509, 471181],\n",
       "        [473043, 468751, 464907, ..., 469758, 471618, 470790],\n",
       "        [471704, 470794, 470292, ..., 471410, 477957, 466243]])}"
      ]
     },
     "execution_count": 27,
     "metadata": {},
     "output_type": "execute_result"
    }
   ],
   "source": [
    "si.dat"
   ]
  },
  {
   "cell_type": "code",
   "execution_count": null,
   "metadata": {},
   "outputs": [],
   "source": []
  }
 ],
 "metadata": {
  "kernelspec": {
   "display_name": "Python 3",
   "language": "python",
   "name": "python3"
  },
  "language_info": {
   "codemirror_mode": {
    "name": "ipython",
    "version": 3
   },
   "file_extension": ".py",
   "mimetype": "text/x-python",
   "name": "python",
   "nbconvert_exporter": "python",
   "pygments_lexer": "ipython3",
   "version": "3.6.6"
  }
 },
 "nbformat": 4,
 "nbformat_minor": 2
}
