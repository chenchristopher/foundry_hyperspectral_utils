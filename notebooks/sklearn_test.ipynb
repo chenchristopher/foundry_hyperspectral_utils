{
 "cells": [
  {
   "cell_type": "code",
   "execution_count": 2,
   "metadata": {},
   "outputs": [],
   "source": [
    "%matplotlib qt\n",
    "import numpy as np \n",
    "import matplotlib.pyplot as plt\n",
    "from spec_im_utils import gui_fname, plot_pl_summary, plot_si_bands\n",
    "from spec_im import SpectralImage, PLSpectralImage, PL3DSpectralImage\n",
    "from sklearn.decomposition import FastICA, PCA"
   ]
  },
  {
   "cell_type": "code",
   "execution_count": 3,
   "metadata": {},
   "outputs": [],
   "source": [
    "fname = gui_fname()"
   ]
  },
  {
   "cell_type": "code",
   "execution_count": 4,
   "metadata": {},
   "outputs": [
    {
     "name": "stdout",
     "output_type": "stream",
     "text": [
      "Load from D:/Chris/Google Drive/CoSES/Data/UV PL/190427_071515_oo_asi_hyperspec_3d_scan.h5 complete.\n",
      "8 x 31 x 31 spatial x 1044 spectral points\n"
     ]
    }
   ],
   "source": [
    "si = PL3DSpectralImage(fname='D:/Chris/Google Drive/CoSES/Data/UV PL/190427_071515_oo_asi_hyperspec_3d_scan.h5')"
   ]
  },
  {
   "cell_type": "code",
   "execution_count": 5,
   "metadata": {},
   "outputs": [
    {
     "ename": "ZeroDivisionError",
     "evalue": "float division by zero",
     "output_type": "error",
     "traceback": [
      "\u001b[1;31m---------------------------------------------------------------------------\u001b[0m",
      "\u001b[1;31mZeroDivisionError\u001b[0m                         Traceback (most recent call last)",
      "\u001b[1;32m<ipython-input-5-19766d1fb39d>\u001b[0m in \u001b[0;36m<module>\u001b[1;34m\u001b[0m\n\u001b[0;32m      1\u001b[0m \u001b[0msi\u001b[0m \u001b[1;33m=\u001b[0m \u001b[0msi\u001b[0m\u001b[1;33m[\u001b[0m\u001b[1;36m330\u001b[0m\u001b[1;33m:\u001b[0m\u001b[1;36m600\u001b[0m\u001b[1;33m]\u001b[0m\u001b[1;33m\u001b[0m\u001b[0m\n\u001b[1;32m----> 2\u001b[1;33m \u001b[0msi\u001b[0m\u001b[1;33m.\u001b[0m\u001b[0mplot\u001b[0m\u001b[1;33m(\u001b[0m\u001b[1;33m)\u001b[0m\u001b[1;33m\u001b[0m\u001b[0m\n\u001b[0m\u001b[0;32m      3\u001b[0m \u001b[0mplt\u001b[0m\u001b[1;33m.\u001b[0m\u001b[0mfigure\u001b[0m\u001b[1;33m(\u001b[0m\u001b[1;33m)\u001b[0m\u001b[1;33m\u001b[0m\u001b[0m\n\u001b[0;32m      4\u001b[0m \u001b[0msi\u001b[0m\u001b[1;33m.\u001b[0m\u001b[0mplot_spec\u001b[0m\u001b[1;33m(\u001b[0m\u001b[1;33m)\u001b[0m\u001b[1;33m\u001b[0m\u001b[0m\n",
      "\u001b[1;32m~\\utils\\spec_im.py\u001b[0m in \u001b[0;36mplot\u001b[1;34m(self, percentile, cmap, num_rows, **kwargs)\u001b[0m\n\u001b[0;32m    497\u001b[0m         \u001b[0mnum_slices\u001b[0m \u001b[1;33m=\u001b[0m \u001b[0mnp\u001b[0m\u001b[1;33m.\u001b[0m\u001b[0msize\u001b[0m\u001b[1;33m(\u001b[0m\u001b[0mself\u001b[0m\u001b[1;33m.\u001b[0m\u001b[0mz_array\u001b[0m\u001b[1;33m)\u001b[0m\u001b[1;33m\u001b[0m\u001b[0m\n\u001b[0;32m    498\u001b[0m         \u001b[0mslice_list\u001b[0m \u001b[1;33m=\u001b[0m \u001b[0mself\u001b[0m\u001b[1;33m.\u001b[0m\u001b[0mget_slice_list\u001b[0m\u001b[1;33m(\u001b[0m\u001b[1;33m)\u001b[0m\u001b[1;33m\u001b[0m\u001b[0m\n\u001b[1;32m--> 499\u001b[1;33m         \u001b[0mnum_cols\u001b[0m \u001b[1;33m=\u001b[0m \u001b[0mmath\u001b[0m\u001b[1;33m.\u001b[0m\u001b[0mceil\u001b[0m\u001b[1;33m(\u001b[0m\u001b[0mfloat\u001b[0m\u001b[1;33m(\u001b[0m\u001b[0mnum_slices\u001b[0m\u001b[1;33m)\u001b[0m\u001b[1;33m/\u001b[0m\u001b[0mfloat\u001b[0m\u001b[1;33m(\u001b[0m\u001b[0mnum_rows\u001b[0m\u001b[1;33m-\u001b[0m\u001b[1;36m1\u001b[0m\u001b[1;33m)\u001b[0m\u001b[1;33m)\u001b[0m\u001b[1;33m\u001b[0m\u001b[0m\n\u001b[0m\u001b[0;32m    500\u001b[0m         \u001b[1;31m# print(num_rows, num_cols, num_slices)\u001b[0m\u001b[1;33m\u001b[0m\u001b[1;33m\u001b[0m\u001b[0m\n\u001b[0;32m    501\u001b[0m         \u001b[1;32mfor\u001b[0m \u001b[0mkk\u001b[0m \u001b[1;32min\u001b[0m \u001b[0mrange\u001b[0m\u001b[1;33m(\u001b[0m\u001b[0mnum_slices\u001b[0m\u001b[1;33m)\u001b[0m\u001b[1;33m:\u001b[0m\u001b[1;33m\u001b[0m\u001b[0m\n",
      "\u001b[1;31mZeroDivisionError\u001b[0m: float division by zero"
     ]
    }
   ],
   "source": [
    "si = si[330:600]\n",
    "si.plot()\n",
    "plt.figure()\n",
    "si.plot_spec()"
   ]
  },
  {
   "cell_type": "code",
   "execution_count": null,
   "metadata": {},
   "outputs": [],
   "source": [
    "# Flatten full array for PCA fit\n",
    "(nz, ny, nx, nf) = np.shape(si.spec_im)\n",
    "si3d_array = np.zeros((nx*ny*nz, nf))\n",
    "print(np.shape(si3d_array))\n",
    "slice_list = si.get_slice_list()\n",
    "for kk in range(len(slice_list)):\n",
    "    homeslice = si.get_slice(slice_list[kk]).spec_im\n",
    "    #print('homeslice', homeslice.shape)\n",
    "    for ii in range(ny):\n",
    "        for jj in range(nx):\n",
    "            si3d_array[kk*nx*ny + ii*nx + jj,:] = homeslice[jj,ii,:]"
   ]
  },
  {
   "cell_type": "code",
   "execution_count": null,
   "metadata": {},
   "outputs": [],
   "source": [
    "# Fit PCA to full array\n",
    "from sklearn.decomposition import PCA\n",
    "pca = PCA(n_components=0.99, svd_solver='full')\n",
    "pca.fit(si3d_array)"
   ]
  },
  {
   "cell_type": "code",
   "execution_count": null,
   "metadata": {},
   "outputs": [],
   "source": [
    "# Plot explained variance ratio\n",
    "plt.figure()\n",
    "xvals = np.array(range(len(pca.explained_variance_ratio_)))+1\n",
    "plt.semilogy(xvals, pca.explained_variance_ratio_, 'b.')\n",
    "plt.xlabel('component')\n",
    "plt.ylabel('explained variance ratio');"
   ]
  },
  {
   "cell_type": "code",
   "execution_count": null,
   "metadata": {},
   "outputs": [],
   "source": [
    "# Transform full array using the PCA fit\n",
    "pca_result = pca.transform(si3d_array)"
   ]
  },
  {
   "cell_type": "code",
   "execution_count": null,
   "metadata": {},
   "outputs": [],
   "source": [
    "# Plot all PCA components\n",
    "asdf = np.dot(pca_result, pca.components_)\n",
    "plt.figure()\n",
    "for kk in range(pca_result.shape[1]):\n",
    "    plt.plot(si.spec_x_array, asdf[kk,:])"
   ]
  },
  {
   "cell_type": "code",
   "execution_count": null,
   "metadata": {},
   "outputs": [],
   "source": [
    "# Fit FastICA for singular value decomposition on PCA loadings\n",
    "\n",
    "fica = FastICA(n_components=20, max_iter=2000)\n",
    "fica.fit(pca_result)"
   ]
  },
  {
   "cell_type": "code",
   "execution_count": null,
   "metadata": {},
   "outputs": [],
   "source": [
    "# Transform the full PCA result\n",
    "tf = fica.transform(pca_result)"
   ]
  },
  {
   "cell_type": "code",
   "execution_count": null,
   "metadata": {},
   "outputs": [],
   "source": [
    "# Calculate mixed PCA components from ICA\n",
    "new_comps = np.dot(fica.mixing_.T, pca.components_)"
   ]
  },
  {
   "cell_type": "code",
   "execution_count": null,
   "metadata": {},
   "outputs": [],
   "source": [
    "# Plot each ICA component and its corresponding loading map\n",
    "ii = 5\n",
    "for kk in range(20):\n",
    "#for kk in range(tf.shape[1]):\n",
    "    plt.figure()\n",
    "    plt.subplot(2,4,1)\n",
    "    si._plot(np.reshape(tf[ii*nx*ny:(ii+1)*nx*ny, kk], (nx, ny)))\n",
    "    plt.subplot(2,1,2)\n",
    "    plt.plot(si.spec_x_array, asdf[kk,:])"
   ]
  },
  {
   "cell_type": "code",
   "execution_count": null,
   "metadata": {},
   "outputs": [],
   "source": [
    "# Flatten one of the z slices for transformation with ICA\n",
    "img = si.get_slice(slice_list[5]).spec_im\n",
    "img_flat = np.zeros((nx*ny, nf))\n",
    "for ii in range(ny):\n",
    "    for jj in range(nx):\n",
    "        img_flat[ii*nx+jj,:] = img[jj,ii,:]"
   ]
  },
  {
   "cell_type": "code",
   "execution_count": null,
   "metadata": {},
   "outputs": [],
   "source": [
    "# Transform slice with PCA, transform PCA transform with ICA\n",
    "print(img_flat.shape)\n",
    "pca_result = pca.transform(img_flat)\n",
    "print(pca_result.shape)\n",
    "tf = fica.transform(pca_result)\n",
    "print('transform shape', tf.shape)\n",
    "print('mixing', fica.mixing_.shape)"
   ]
  },
  {
   "cell_type": "code",
   "execution_count": null,
   "metadata": {},
   "outputs": [],
   "source": [
    "# Plot each ICA component and its corresponding loading map\n",
    "for kk in range(20):\n",
    "#for kk in range(tf.shape[1]):\n",
    "    plt.figure()\n",
    "    plt.subplot(2,4,1)\n",
    "    si._plot(np.reshape(tf[:, kk], (nx, ny)))\n",
    "    plt.subplot(2,1,2)\n",
    "    plt.plot(si.spec_x_array, asdf[kk,:])"
   ]
  },
  {
   "cell_type": "code",
   "execution_count": null,
   "metadata": {},
   "outputs": [],
   "source": [
    "# Plot laser of all slices to try to get a mask\n",
    "ii = 0\n",
    "for key in slice_list:\n",
    "    ssi = si.get_slice(key)\n",
    "    plot_si_bands(ssi, \n",
    "                  (340, 360, 'viridis', ''),\n",
    "#                (2.5,2.6,'viridis',''), (2.6,2.7,'viridis',''), (2.7,2.8,'viridis',''), (2.8,2.9,'viridis',''), (2.9,3.0,'viridis',''),\n",
    "#                (3.0,3.1,'viridis',''), (3.1,3.2,'viridis',''), (3.3,3.4,'viridis',''), (3.2,3.3,'viridis',''), (3.4,3.5,'viridis',''),\n",
    "                no_of_cols=1, percentile=3)\n",
    "    plt.gcf().tight_layout(h_pad=1)\n",
    "    plt.suptitle('%d: z = %s mm' % (ii, key))\n",
    "    ii += 1"
   ]
  },
  {
   "cell_type": "code",
   "execution_count": null,
   "metadata": {},
   "outputs": [],
   "source": [
    "# Make the mask\n",
    "plt.figure()\n",
    "threshold = 5.45e4\n",
    "mask = si.get_slice(slice_list[3])[340:360].spec_im.sum(axis=-1) < threshold\n",
    "plt.imshow(mask)"
   ]
  },
  {
   "cell_type": "code",
   "execution_count": null,
   "metadata": {},
   "outputs": [],
   "source": [
    "print(nx*ny, np.count_nonzero(mask.astype(int).flatten()))"
   ]
  },
  {
   "cell_type": "code",
   "execution_count": null,
   "metadata": {},
   "outputs": [],
   "source": [
    "# Flatten full array for PCA fit\n",
    "(nz, ny, nx, nf) = np.shape(si.spec_im)\n",
    "mask_size = np.count_nonzero(mask)\n",
    "masked_array = np.zeros((mask_size*nz, nf))\n",
    "print(np.shape(masked_array))\n",
    "slice_list = si.get_slice_list()\n",
    "for kk in range(len(slice_list)):\n",
    "    homeslice = si.get_slice(slice_list[kk]).spec_im\n",
    "    masked_array[kk*mask_size:(kk+1)*mask_size,:] = np.reshape(homeslice[np.nonzero(mask)], (mask_size, nf))"
   ]
  },
  {
   "cell_type": "code",
   "execution_count": null,
   "metadata": {},
   "outputs": [],
   "source": [
    "pca = PCA(n_components=0.99, svd_solver='full')\n",
    "pca_result = pca.fit_transform(masked_array)\n",
    "# Plot explained variance ratio\n",
    "plt.figure()\n",
    "xvals = np.array(range(len(pca.explained_variance_ratio_)))+1\n",
    "plt.semilogy(xvals, pca.explained_variance_ratio_, 'b.')\n",
    "plt.xlabel('component')\n",
    "plt.ylabel('explained variance ratio');"
   ]
  },
  {
   "cell_type": "code",
   "execution_count": null,
   "metadata": {},
   "outputs": [],
   "source": [
    "fica = FastICA(n_components=10, max_iter=2000)\n",
    "tf = fica.fit_transform(pca_result)"
   ]
  },
  {
   "cell_type": "code",
   "execution_count": null,
   "metadata": {},
   "outputs": [],
   "source": [
    "# Calculate mixed PCA components from ICA\n",
    "new_comps = np.dot(fica.mixing_.T, pca.components_)"
   ]
  },
  {
   "cell_type": "code",
   "execution_count": null,
   "metadata": {},
   "outputs": [],
   "source": [
    "ii = 2\n",
    "print(tf.shape)\n",
    "# Plot each ICA component and its corresponding loading map\n",
    "#for kk in range(10):\n",
    "#for ii in range(nz):\n",
    "for ii in [5]:\n",
    "    for kk in range(tf.shape[1]):\n",
    "        comp = new_comps[kk, :]\n",
    "        comp_fft = np.fft.fft(comp)\n",
    "        comp_avg = np.average(comp)\n",
    "        comp_fft_avg = np.average(comp_fft.real)\n",
    "        freq = np.fft.fftfreq(comp.size, d=si.spec_x_array[1]-si.spec_x_array[0])\n",
    "        fft_count = np.count_nonzero(np.abs(comp_fft[100:-100]) > 1000)\n",
    "        label = '%d, avg = %0.2f, fft_average = %0.2f, %d' % (kk, comp_avg, comp_fft_avg, fft_count)\n",
    "        print(label)\n",
    "        #if np.abs(comp_fft_avg) < 10 and np.abs(comp_avg) > 8 and fft_count < 2:\n",
    "        if True:\n",
    "            plt.figure()\n",
    "            plt.subplot(1,2,1)\n",
    "            asdf = np.empty(nx*ny)\n",
    "            asdf[:] = np.nan\n",
    "            asdf[np.nonzero(mask.flatten())] = tf[ii*mask_size:(ii+1)*mask_size, kk] \n",
    "            asdf = np.reshape(asdf, (nx, ny))\n",
    "            plt.title('component %d loading' % kk)\n",
    "            si._plot(asdf)\n",
    "            plt.subplot(2,2,2)\n",
    "            plt.plot(si.spec_x_array, comp)\n",
    "            plt.xlabel('$\\lambda$ (nm)')\n",
    "            plt.title('component %d' % kk)\n",
    "            plt.subplot(2,2,4)\n",
    "            plt.plot(freq, comp_fft.real,'b-')\n",
    "            plt.plot(freq, comp_fft.imag,'r--')\n",
    "            plt.xlabel('nm$^{-1}$')\n",
    "            plt.title('component %d FFT' % kk)\n",
    "            plt.suptitle('z = %s mm' % slice_list[ii])"
   ]
  },
  {
   "cell_type": "code",
   "execution_count": null,
   "metadata": {},
   "outputs": [],
   "source": []
  }
 ],
 "metadata": {
  "kernelspec": {
   "display_name": "Python 3",
   "language": "python",
   "name": "python3"
  },
  "language_info": {
   "codemirror_mode": {
    "name": "ipython",
    "version": 3
   },
   "file_extension": ".py",
   "mimetype": "text/x-python",
   "name": "python",
   "nbconvert_exporter": "python",
   "pygments_lexer": "ipython3",
   "version": "3.6.6"
  }
 },
 "nbformat": 4,
 "nbformat_minor": 2
}
