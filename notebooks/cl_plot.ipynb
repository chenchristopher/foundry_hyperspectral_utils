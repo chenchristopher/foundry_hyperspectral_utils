{
 "cells": [
  {
   "cell_type": "markdown",
   "metadata": {},
   "source": [
    "# InGaN/GaN CL analysis\n",
    "\n",
    "Input: filename of CL h5 file to analyze \n",
    "Output: "
   ]
  },
  {
   "cell_type": "code",
   "execution_count": 1,
   "metadata": {
    "ExecuteTime": {
     "end_time": "2019-05-30T23:30:36.212412Z",
     "start_time": "2019-05-30T23:30:30.209069Z"
    },
    "init_cell": true
   },
   "outputs": [],
   "source": [
    "%matplotlib qt\n",
    "import numpy as np\n",
    "import h5py as h5\n",
    "import hyperspy.api as hs\n",
    "import hyperspy_gui_ipywidgets\n",
    "import seaborn as sns\n",
    "import os\n",
    "from spec_im import CLSpectralImage\n",
    "from spec_im import plot_si_bands, plot_cl_summary, gui_fname, plot_bss_results, plot_decomp_results\n",
    "import matplotlib.pyplot as plt"
   ]
  },
  {
   "cell_type": "markdown",
   "metadata": {},
   "source": [
    "## Loading data from file"
   ]
  },
  {
   "cell_type": "code",
   "execution_count": 2,
   "metadata": {
    "ExecuteTime": {
     "end_time": "2019-05-30T23:31:30.365510Z",
     "start_time": "2019-05-30T23:30:36.216413Z"
    },
    "init_cell": true
   },
   "outputs": [],
   "source": [
    "fname = gui_fname()\n",
    "fpath = os.path.dirname(fname)\n",
    "fbase = os.path.splitext(fname)[0]\n",
    "sample = os.path.basename(fname)\n",
    "sns.set()\n",
    "sns.set_style('ticks')"
   ]
  },
  {
   "cell_type": "code",
   "execution_count": 3,
   "metadata": {
    "ExecuteTime": {
     "end_time": "2019-05-30T23:31:32.491631Z",
     "start_time": "2019-05-30T23:31:30.368510Z"
    },
    "init_cell": true
   },
   "outputs": [
    {
     "name": "stdout",
     "output_type": "stream",
     "text": [
      "Load from D:/Chris/Google Drive/CoSES/Data/CL/548/pyramid_2_2/190328_151031_hyperspec_cl.h5 complete.\n",
      "1 x 96 x 96 spatial x 1600 spectral points\n",
      "Interpolating spectral data from nm to eV\n",
      "334.7017427179295 to 595.8221165348759 nm\n",
      "96 x 96 spatial x 1599 spectral points\n"
     ]
    }
   ],
   "source": [
    "sample = '548 2-4 @ 18 K'\n",
    "(os.path.dirname(fname),os.path.basename(fname))\n",
    "si = CLSpectralImage(fname=fname)\n",
    "esi = si.to_energy()"
   ]
  },
  {
   "cell_type": "markdown",
   "metadata": {},
   "source": [
    "## Summary"
   ]
  },
  {
   "cell_type": "code",
   "execution_count": 5,
   "metadata": {
    "ExecuteTime": {
     "end_time": "2019-05-30T23:32:05.764534Z",
     "start_time": "2019-05-30T23:32:04.585467Z"
    }
   },
   "outputs": [],
   "source": [
    "f0 = plot_cl_summary(esi, show_axes=True)"
   ]
  },
  {
   "cell_type": "markdown",
   "metadata": {},
   "source": [
    "## Plot data vs eV"
   ]
  },
  {
   "cell_type": "code",
   "execution_count": null,
   "metadata": {
    "scrolled": true
   },
   "outputs": [],
   "source": [
    "f1 = plot_si_bands(esi, \n",
    "            (2.5,2.6,'viridis',''), (2.6,2.7,'viridis',''), (2.7,2.8,'viridis',''), (2.8,2.9,'viridis',''), (2.9,3.0,'viridis',''),\n",
    "            (3.0,3.1,'viridis',''), (3.1,3.2,'viridis',''), (3.3,3.4,'viridis',''), (3.2,3.3,'viridis',''), (3.4,3.5,'viridis',''),\n",
    "            no_of_cols=5, percentile=3)\n",
    "\n",
    "f1.set_size_inches(10,7)\n",
    "f1.tight_layout(h_pad=1)"
   ]
  },
  {
   "cell_type": "markdown",
   "metadata": {},
   "source": [
    "## Hyperspy signal setup"
   ]
  },
  {
   "cell_type": "code",
   "execution_count": 6,
   "metadata": {
    "ExecuteTime": {
     "end_time": "2019-05-30T23:32:12.392914Z",
     "start_time": "2019-05-30T23:32:11.520864Z"
    },
    "scrolled": false
   },
   "outputs": [],
   "source": [
    "# plot an interactive map with spectra at each location\n",
    "s = esi.to_signal()\n",
    "s.plot()\n",
    "# roi = hs.roi.RectangularROI(left=0, right=100., top=0, bottom=100.)\n",
    "# scrop = roi.interactive(s)"
   ]
  },
  {
   "cell_type": "code",
   "execution_count": 8,
   "metadata": {
    "ExecuteTime": {
     "end_time": "2019-05-30T23:32:52.672217Z",
     "start_time": "2019-05-30T23:32:51.644159Z"
    }
   },
   "outputs": [
    {
     "data": {
      "application/vnd.jupyter.widget-view+json": {
       "model_id": "",
       "version_major": 2,
       "version_minor": 0
      },
      "text/plain": [
       "VBox(children=(VBox(children=(Button(description='Show derivative histogram', layout=Layout(width='auto'), sty…"
      ]
     },
     "metadata": {},
     "output_type": "display_data"
    }
   ],
   "source": [
    "s.spikes_removal_tool()"
   ]
  },
  {
   "cell_type": "code",
   "execution_count": null,
   "metadata": {},
   "outputs": [],
   "source": [
    "scrop.plot()"
   ]
  },
  {
   "cell_type": "code",
   "execution_count": null,
   "metadata": {},
   "outputs": [],
   "source": [
    "s = scrop"
   ]
  },
  {
   "cell_type": "markdown",
   "metadata": {},
   "source": [
    "## PCA with SVD, BSS"
   ]
  },
  {
   "cell_type": "code",
   "execution_count": 9,
   "metadata": {
    "ExecuteTime": {
     "end_time": "2019-05-30T23:47:41.032029Z",
     "start_time": "2019-05-30T23:47:34.912679Z"
    }
   },
   "outputs": [
    {
     "data": {
      "text/plain": [
       "<matplotlib.axes._subplots.AxesSubplot at 0x15a3b160>"
      ]
     },
     "execution_count": 9,
     "metadata": {},
     "output_type": "execute_result"
    }
   ],
   "source": [
    "# perform principal component analysis, look at the explained variance\n",
    "s.decomposition(algorithm='svd')\n",
    "s.plot_explained_variance_ratio()"
   ]
  },
  {
   "cell_type": "code",
   "execution_count": 14,
   "metadata": {
    "ExecuteTime": {
     "end_time": "2019-05-30T23:59:23.338198Z",
     "start_time": "2019-05-30T23:59:22.858171Z"
    }
   },
   "outputs": [
    {
     "data": {
      "application/vnd.jupyter.widget-view+json": {
       "model_id": "ccf6c12b8ee14be481e3bb4fa2d9fced",
       "version_major": 2,
       "version_minor": 0
      },
      "text/plain": [
       "VBox(children=(HBox(children=(Label(value='Decomposition component index', layout=Layout(width='15%')), IntSli…"
      ]
     },
     "metadata": {},
     "output_type": "display_data"
    }
   ],
   "source": [
    "s.plot_decomposition_results()"
   ]
  },
  {
   "cell_type": "code",
   "execution_count": 16,
   "metadata": {
    "ExecuteTime": {
     "end_time": "2019-05-31T00:00:39.132534Z",
     "start_time": "2019-05-31T00:00:34.838288Z"
    }
   },
   "outputs": [
    {
     "data": {
      "text/plain": [
       "[<Figure size 1000x1000 with 15 Axes>,\n",
       " <Figure size 1000x1000 with 15 Axes>,\n",
       " <Figure size 1000x1000 with 9 Axes>]"
      ]
     },
     "execution_count": 16,
     "metadata": {},
     "output_type": "execute_result"
    }
   ],
   "source": [
    "# take a look at orthogonalized \n",
    "plot_bss_results(s,esi,title='BSS',cmap='viridis',fig_rows=5,components=13, max_iter=1000)"
   ]
  },
  {
   "cell_type": "markdown",
   "metadata": {},
   "source": [
    "## PCA with NMF"
   ]
  },
  {
   "cell_type": "code",
   "execution_count": 17,
   "metadata": {
    "ExecuteTime": {
     "end_time": "2019-05-31T00:01:19.212826Z",
     "start_time": "2019-05-31T00:01:06.125077Z"
    }
   },
   "outputs": [
    {
     "data": {
      "text/plain": [
       "[<Figure size 1000x1000 with 15 Axes>,\n",
       " <Figure size 1000x1000 with 15 Axes>,\n",
       " <Figure size 1000x1000 with 9 Axes>]"
      ]
     },
     "execution_count": 17,
     "metadata": {},
     "output_type": "execute_result"
    }
   ],
   "source": [
    "plot_decomp_results(s, esi, title='NMF', cmap='viridis', fig_rows=5, algorithm='nmf', output_dimension=13)"
   ]
  },
  {
   "cell_type": "markdown",
   "metadata": {},
   "source": [
    "## Save PDF"
   ]
  },
  {
   "cell_type": "code",
   "execution_count": null,
   "metadata": {
    "scrolled": true
   },
   "outputs": [],
   "source": [
    "import matplotlib.backends.backend_pdf\n",
    "pdf = matplotlib.backends.backend_pdf.PdfPages(fbase+\"_decomp.pdf\")\n",
    "for fig in range(1, plt.figure().number): ## will open an empty extra figure :(\n",
    "    pdf.savefig( fig )\n",
    "pdf.close()\n",
    "plt.close(fig='all')"
   ]
  },
  {
   "cell_type": "code",
   "execution_count": null,
   "metadata": {},
   "outputs": [],
   "source": [
    "print('test')"
   ]
  },
  {
   "cell_type": "code",
   "execution_count": null,
   "metadata": {},
   "outputs": [],
   "source": [
    "sc = s.get_decomposition_model()\n",
    "sc.plot()"
   ]
  },
  {
   "cell_type": "code",
   "execution_count": null,
   "metadata": {},
   "outputs": [],
   "source": [
    "(s-sc).plot()"
   ]
  },
  {
   "cell_type": "code",
   "execution_count": null,
   "metadata": {},
   "outputs": [],
   "source": [
    "f5 = fncn.plot_spec_bands(sc.data,En,v_array,h_array,sample,' [eV] 0.1 eV spec bands',\n",
    "            (3.3,3.4,'plasma','1'),\n",
    "            (3.2,3.3,'plasma','2'),\n",
    "            (3.1,3.2,'plasma','3'),\n",
    "            (3.0,3.1,'plasma','4'),\n",
    "            (2.9,3.0,'plasma','5'),\n",
    "            (2.8,2.9,'plasma','6'),\n",
    "            (2.7,2.8,'plasma','7'),\n",
    "            (2.6,2.7,'plasma','8'),\n",
    "            (2.5,2.6,'plasma','9'),\n",
    "            no_of_cols=5,percentile=3)\n",
    "plt.tight_layout(h_pad=1)\n",
    "f4.set_size_inches(7,7)"
   ]
  },
  {
   "cell_type": "code",
   "execution_count": null,
   "metadata": {},
   "outputs": [],
   "source": [
    "plt.tight_layout(h_pad=1)"
   ]
  },
  {
   "cell_type": "code",
   "execution_count": null,
   "metadata": {},
   "outputs": [],
   "source": [
    "plt.gcf()"
   ]
  },
  {
   "cell_type": "code",
   "execution_count": null,
   "metadata": {},
   "outputs": [],
   "source": [
    "plt.figure()\n",
    "aa = np.linspace(1e-3,20e-3,num=50)\n",
    "dd = 135*np.tan(aa/10)\n",
    "print(aa.shape)\n",
    "plt.plot(aa,dd)"
   ]
  },
  {
   "cell_type": "code",
   "execution_count": null,
   "metadata": {},
   "outputs": [],
   "source": [
    "plt.close(fig='all')"
   ]
  },
  {
   "cell_type": "code",
   "execution_count": null,
   "metadata": {},
   "outputs": [],
   "source": [
    "scrop.plot()"
   ]
  },
  {
   "cell_type": "code",
   "execution_count": null,
   "metadata": {},
   "outputs": [],
   "source": [
    "# perform principal component analysis, look at the explained variance\n",
    "scrop.decomposition(algorithm='svd')\n",
    "scrop.plot_explained_variance_ratio()"
   ]
  },
  {
   "cell_type": "code",
   "execution_count": null,
   "metadata": {},
   "outputs": [],
   "source": [
    "# take a look at orthogonalized \n",
    "scrop.blind_source_separation(number_of_components=8,on_loadings=True,max_iter=1000)\n",
    "fncn.plot_hs_results(scrop.get_bss_loadings(),scrop.get_bss_factors(),fncn.get_hs_axes(scrop),title='BSS',cmap='viridis')"
   ]
  },
  {
   "cell_type": "code",
   "execution_count": null,
   "metadata": {
    "scrolled": true
   },
   "outputs": [],
   "source": [
    "np.shape(fncn.get_hs_axes(s)[2])"
   ]
  },
  {
   "cell_type": "code",
   "execution_count": null,
   "metadata": {},
   "outputs": [],
   "source": [
    "np.shape(fncn.get_hs_axes(scrop)[1])"
   ]
  },
  {
   "cell_type": "code",
   "execution_count": null,
   "metadata": {},
   "outputs": [],
   "source": [
    "dh.max()"
   ]
  },
  {
   "cell_type": "code",
   "execution_count": null,
   "metadata": {},
   "outputs": [],
   "source": [
    "span"
   ]
  },
  {
   "cell_type": "code",
   "execution_count": null,
   "metadata": {},
   "outputs": [],
   "source": [
    "span[0]*1e-9"
   ]
  },
  {
   "cell_type": "code",
   "execution_count": null,
   "metadata": {},
   "outputs": [],
   "source": [
    "from spec_im import CLSpectralImage\n",
    "\n",
    "test_si = CLSpectralImage(fname=fname)"
   ]
  },
  {
   "cell_type": "code",
   "execution_count": null,
   "metadata": {},
   "outputs": [],
   "source": [
    "test_si"
   ]
  },
  {
   "cell_type": "code",
   "execution_count": null,
   "metadata": {},
   "outputs": [],
   "source": [
    "test_si.plot()"
   ]
  },
  {
   "cell_type": "code",
   "execution_count": null,
   "metadata": {},
   "outputs": [],
   "source": [
    "plt.figure()\n",
    "test_si[355:384].plot()"
   ]
  },
  {
   "cell_type": "code",
   "execution_count": null,
   "metadata": {},
   "outputs": [],
   "source": [
    "plt.figure()\n",
    "test_si.to_energy()[2.5:2.6].plot()"
   ]
  },
  {
   "cell_type": "code",
   "execution_count": null,
   "metadata": {},
   "outputs": [],
   "source": [
    "test_si.spec_x_array"
   ]
  },
  {
   "cell_type": "code",
   "execution_count": null,
   "metadata": {},
   "outputs": [],
   "source": [
    "dir(si)"
   ]
  },
  {
   "cell_type": "code",
   "execution_count": null,
   "metadata": {},
   "outputs": [],
   "source": [
    "list = ['1','2','3']"
   ]
  },
  {
   "cell_type": "code",
   "execution_count": null,
   "metadata": {},
   "outputs": [],
   "source": [
    "kwarg_print(**{i: ord(i) for i in list})"
   ]
  },
  {
   "cell_type": "code",
   "execution_count": null,
   "metadata": {},
   "outputs": [],
   "source": [
    "def kwarg_print(a='asdf',**kwargs):\n",
    "    print(a)\n",
    "    for kw in kwargs.keys():\n",
    "        print(kw, kwargs[kw])"
   ]
  },
  {
   "cell_type": "code",
   "execution_count": null,
   "metadata": {},
   "outputs": [],
   "source": [
    "esi.dat['se'].shape"
   ]
  },
  {
   "cell_type": "code",
   "execution_count": null,
   "metadata": {},
   "outputs": [],
   "source": [
    "esi.dat['cntr'].shape"
   ]
  },
  {
   "cell_type": "code",
   "execution_count": null,
   "metadata": {},
   "outputs": [],
   "source": []
  },
  {
   "cell_type": "code",
   "execution_count": null,
   "metadata": {},
   "outputs": [],
   "source": [
    "si.dat"
   ]
  },
  {
   "cell_type": "code",
   "execution_count": null,
   "metadata": {},
   "outputs": [],
   "source": [
    "si.plot_ctr('ctr1')"
   ]
  },
  {
   "cell_type": "code",
   "execution_count": null,
   "metadata": {},
   "outputs": [],
   "source": [
    "plt.semilogy(s.get_explained_variance_ratio().data)"
   ]
  },
  {
   "cell_type": "code",
   "execution_count": null,
   "metadata": {},
   "outputs": [],
   "source": [
    "np.searchsorted(np.flip(s.get_explained_variance_ratio()).data,1e-4)"
   ]
  },
  {
   "cell_type": "code",
   "execution_count": null,
   "metadata": {},
   "outputs": [],
   "source": [
    "s.get_explained_variance_ratio().data.shape"
   ]
  },
  {
   "cell_type": "code",
   "execution_count": null,
   "metadata": {},
   "outputs": [],
   "source": [
    "si.dat"
   ]
  },
  {
   "cell_type": "code",
   "execution_count": null,
   "metadata": {},
   "outputs": [],
   "source": []
  }
 ],
 "metadata": {
  "celltoolbar": "Initialization Cell",
  "kernelspec": {
   "display_name": "Python 3",
   "language": "python",
   "name": "python3"
  },
  "language_info": {
   "codemirror_mode": {
    "name": "ipython",
    "version": 3
   },
   "file_extension": ".py",
   "mimetype": "text/x-python",
   "name": "python",
   "nbconvert_exporter": "python",
   "pygments_lexer": "ipython3",
   "version": "3.6.6"
  },
  "toc": {
   "base_numbering": 1,
   "nav_menu": {},
   "number_sections": true,
   "sideBar": true,
   "skip_h1_title": false,
   "title_cell": "Table of Contents",
   "title_sidebar": "Contents",
   "toc_cell": false,
   "toc_position": {},
   "toc_section_display": true,
   "toc_window_display": true
  },
  "varInspector": {
   "cols": {
    "lenName": 16,
    "lenType": 16,
    "lenVar": 40
   },
   "kernels_config": {
    "python": {
     "delete_cmd_postfix": "",
     "delete_cmd_prefix": "del ",
     "library": "var_list.py",
     "varRefreshCmd": "print(var_dic_list())"
    },
    "r": {
     "delete_cmd_postfix": ") ",
     "delete_cmd_prefix": "rm(",
     "library": "var_list.r",
     "varRefreshCmd": "cat(var_dic_list()) "
    }
   },
   "types_to_exclude": [
    "module",
    "function",
    "builtin_function_or_method",
    "instance",
    "_Feature"
   ],
   "window_display": false
  }
 },
 "nbformat": 4,
 "nbformat_minor": 2
}
