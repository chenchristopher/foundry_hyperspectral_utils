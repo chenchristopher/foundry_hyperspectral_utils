{
 "cells": [
  {
   "cell_type": "code",
   "execution_count": 1,
   "metadata": {},
   "outputs": [],
   "source": [
    "%matplotlib qt\n",
    "import cl_utils as cl\n",
    "import os\n",
    "import matplotlib.pyplot as plt"
   ]
  },
  {
   "cell_type": "code",
   "execution_count": 2,
   "metadata": {},
   "outputs": [
    {
     "name": "stdout",
     "output_type": "stream",
     "text": [
      "D:\\Chris\\Google Drive\\CoSES\\Data\\CL\\548\\pyramid_2_2\\190328_164827_hyperspec_cl.h5\n",
      "Interpolating spectral data from nm to eV\n",
      "334.7017427179295 to 595.8221165348759 nm\n",
      "64 x 64 spatial x 1599 spectral points\n",
      "11 components\n"
     ]
    }
   ],
   "source": [
    "cl.make_si_summary('../548/pyramid_2_2/190328_164827_hyperspec_cl.h5', threshold=2e-5)"
   ]
  },
  {
   "cell_type": "code",
   "execution_count": 4,
   "metadata": {},
   "outputs": [],
   "source": [
    "plt.close(fig='all')"
   ]
  },
  {
   "cell_type": "code",
   "execution_count": null,
   "metadata": {},
   "outputs": [
    {
     "name": "stdout",
     "output_type": "stream",
     "text": [
      "Summarizing D:\\Chris\\Google Drive\\CoSES\\Data\\CL\n",
      "Summarizing D:\\Chris\\Google Drive\\CoSES\\Data\\CL\\20190326\n",
      "D:\\Chris\\Google Drive\\CoSES\\Data\\CL\\20190326\\190326_130059_hyperspec_cl.h5\n",
      "Interpolating spectral data from nm to eV\n",
      "-278.24854084463 to 266.4525650766961 nm\n",
      "128 x 128 spatial x 1599 spectral points\n",
      "2 components\n",
      "\n",
      "D:\\Chris\\Google Drive\\CoSES\\Data\\CL\\20190326\\190326_130129_hyperspec_cl.h5\n",
      "Interpolating spectral data from nm to eV\n",
      "285.28422929337904 to 822.5298068659379 nm\n",
      "128 x 128 spatial x 1599 spectral points\n",
      "Error,  x and y must be the same size\n",
      "\n",
      "D:\\Chris\\Google Drive\\CoSES\\Data\\CL\\20190326\\190326_130845_hyperspec_cl.h5\n",
      "Interpolating spectral data from nm to eV\n",
      "285.28422929337904 to 822.5298068659379 nm\n",
      "256 x 256 spatial x 1599 spectral points\n",
      "14 components\n",
      "\n",
      "D:\\Chris\\Google Drive\\CoSES\\Data\\CL\\20190326\\190326_142253_hyperspec_cl.h5\n",
      "Interpolating spectral data from nm to eV\n",
      "285.28422929337904 to 822.5298068659379 nm\n",
      "256 x 256 spatial x 1599 spectral points\n",
      "13 components\n"
     ]
    },
    {
     "name": "stderr",
     "output_type": "stream",
     "text": [
      "C:\\CondaEnvs\\hyperspy\\lib\\site-packages\\sklearn\\decomposition\\fastica_.py:121: ConvergenceWarning: FastICA did not converge. Consider increasing tolerance or the maximum number of iterations.\n",
      "  ConvergenceWarning)\n"
     ]
    },
    {
     "name": "stdout",
     "output_type": "stream",
     "text": [
      "\n",
      "D:\\Chris\\Google Drive\\CoSES\\Data\\CL\\20190326\\190326_153819_hyperspec_cl.h5\n",
      "Interpolating spectral data from nm to eV\n",
      "285.28422929337904 to 822.5298068659379 nm\n",
      "256 x 256 spatial x 1599 spectral points\n",
      "Too many components (18) for threshold 0.000020.\n",
      "15 components\n",
      "\n",
      "D:\\Chris\\Google Drive\\CoSES\\Data\\CL\\20190326\\190326_165005_hyperspec_cl.h5\n",
      "Interpolating spectral data from nm to eV\n",
      "285.28422929337904 to 822.5298068659379 nm\n",
      "256 x 256 spatial x 1599 spectral points\n",
      "10 components\n",
      "\n",
      "D:\\Chris\\Google Drive\\CoSES\\Data\\CL\\20190326\\190326_170529_hyperspec_cl.h5\n",
      "Interpolating spectral data from nm to eV\n",
      "285.28422929337904 to 822.5298068659379 nm\n",
      "256 x 256 spatial x 1599 spectral points\n",
      "5 components\n",
      "\n",
      "D:\\Chris\\Google Drive\\CoSES\\Data\\CL\\20190326\\190326_171617_hyperspec_cl.h5\n",
      "Interpolating spectral data from nm to eV\n",
      "285.28422929337904 to 822.5298068659379 nm\n",
      "256 x 256 spatial x 1599 spectral points\n",
      "Too many components (16) for threshold 0.000020.\n",
      "15 components\n",
      "\n",
      "D:\\Chris\\Google Drive\\CoSES\\Data\\CL\\20190326\\190326_230413_hyperspec_cl.h5\n",
      "Interpolating spectral data from nm to eV\n",
      "285.28422929337904 to 822.5298068659379 nm\n",
      "256 x 256 spatial x 1599 spectral points\n",
      "Too many components (18) for threshold 0.000020.\n",
      "15 components\n",
      "\n",
      "D:\\Chris\\Google Drive\\CoSES\\Data\\CL\\20190326\\190327_072922_hyperspec_cl.h5\n",
      "Interpolating spectral data from nm to eV\n",
      "285.28422929337904 to 822.5298068659379 nm\n",
      "256 x 256 spatial x 1599 spectral points\n",
      "Too many components (30) for threshold 0.000020.\n",
      "15 components\n",
      "\n",
      "D:\\Chris\\Google Drive\\CoSES\\Data\\CL\\20190326\\190327_083355_hyperspec_cl.h5\n",
      "Interpolating spectral data from nm to eV\n",
      "285.28422929337904 to 822.5298068659379 nm\n",
      "256 x 256 spatial x 1599 spectral points\n",
      "Too many components (18) for threshold 0.000020.\n",
      "15 components\n",
      "\n",
      "D:\\Chris\\Google Drive\\CoSES\\Data\\CL\\20190326\\190327_114819_hyperspec_cl.h5\n",
      "Interpolating spectral data from nm to eV\n",
      "285.28422929337904 to 822.5298068659379 nm\n",
      "192 x 192 spatial x 1599 spectral points\n",
      "Too many components (17) for threshold 0.000020.\n",
      "15 components\n",
      "\n",
      "D:\\Chris\\Google Drive\\CoSES\\Data\\CL\\20190326\\190327_125931_hyperspec_cl.h5\n",
      "Could not open D:\\Chris\\Google Drive\\CoSES\\Data\\CL\\20190326\\190327_125931_hyperspec_cl.h5 \"Unable to open object (object 'spec_map' doesn't exist)\"\n",
      "\n",
      "D:\\Chris\\Google Drive\\CoSES\\Data\\CL\\20190326\\190327_125955_hyperspec_cl.h5\n",
      "Interpolating spectral data from nm to eV\n",
      "285.28422929337904 to 822.5298068659379 nm\n",
      "192 x 192 spatial x 1599 spectral points\n",
      "Error,  x and y must be the same size\n",
      "\n",
      "D:\\Chris\\Google Drive\\CoSES\\Data\\CL\\20190326\\190327_130151_hyperspec_cl.h5\n",
      "Interpolating spectral data from nm to eV\n",
      "285.28422929337904 to 822.5298068659379 nm\n",
      "192 x 192 spatial x 1599 spectral points\n",
      "Too many components (17) for threshold 0.000020.\n",
      "15 components\n",
      "\n",
      "D:\\Chris\\Google Drive\\CoSES\\Data\\CL\\20190326\\190327_141042_hyperspec_cl.h5\n",
      "Interpolating spectral data from nm to eV\n",
      "285.28422929337904 to 822.5298068659379 nm\n",
      "128 x 128 spatial x 1599 spectral points\n",
      "Error,  x and y must be the same size\n",
      "\n",
      "D:\\Chris\\Google Drive\\CoSES\\Data\\CL\\20190326\\190327_141152_hyperspec_cl.h5\n",
      "Interpolating spectral data from nm to eV\n",
      "285.28422929337904 to 822.5298068659379 nm\n",
      "128 x 128 spatial x 1599 spectral points\n",
      "Error,  x and y must be the same size\n",
      "\n",
      "D:\\Chris\\Google Drive\\CoSES\\Data\\CL\\20190326\\190327_145106_hyperspec_cl.h5\n",
      "Interpolating spectral data from nm to eV\n",
      "285.28422929337904 to 822.5298068659379 nm\n",
      "128 x 128 spatial x 1599 spectral points\n",
      "Too many components (16) for threshold 0.000020.\n",
      "15 components\n",
      "\n",
      "D:\\Chris\\Google Drive\\CoSES\\Data\\CL\\20190326\\190327_151557_hyperspec_cl.h5\n",
      "Interpolating spectral data from nm to eV\n",
      "285.28422929337904 to 822.5298068659379 nm\n",
      "64 x 64 spatial x 1599 spectral points\n",
      "12 components\n",
      "\n",
      "D:\\Chris\\Google Drive\\CoSES\\Data\\CL\\20190326\\190327_153036_hyperspec_cl.h5\n",
      "Interpolating spectral data from nm to eV\n",
      "174.55955067149242 to 713.3518446411896 nm\n",
      "64 x 64 spatial x 1599 spectral points\n",
      "Too many components (15) for threshold 0.000020.\n",
      "15 components\n",
      "\n",
      "D:\\Chris\\Google Drive\\CoSES\\Data\\CL\\20190326\\190327_153048_hyperspec_cl.h5\n",
      "Interpolating spectral data from nm to eV\n",
      "174.55955067149242 to 713.3518446411896 nm\n",
      "64 x 64 spatial x 1599 spectral points\n",
      "Error,  x and y must be the same size\n",
      "\n",
      "D:\\Chris\\Google Drive\\CoSES\\Data\\CL\\20190326\\190327_154957_hyperspec_cl.h5\n",
      "Interpolating spectral data from nm to eV\n",
      "174.55955067149242 to 713.3518446411896 nm\n",
      "16 x 16 spatial x 1599 spectral points\n",
      "Error,  x and y must be the same size\n",
      "\n",
      "D:\\Chris\\Google Drive\\CoSES\\Data\\CL\\20190326\\190327_155453_hyperspec_cl.h5\n",
      "Interpolating spectral data from nm to eV\n",
      "174.55955067149242 to 713.3518446411896 nm\n",
      "16 x 16 spatial x 1599 spectral points\n",
      "Error,  x and y must be the same size\n",
      "\n",
      "D:\\Chris\\Google Drive\\CoSES\\Data\\CL\\20190326\\190327_155536_hyperspec_cl.h5\n",
      "Interpolating spectral data from nm to eV\n",
      "174.55955067149242 to 713.3518446411896 nm\n",
      "4 x 4 spatial x 1599 spectral points\n",
      "Too many components (15) for threshold 0.000020.\n",
      "15 components\n"
     ]
    },
    {
     "name": "stderr",
     "output_type": "stream",
     "text": [
      "C:\\CondaEnvs\\hyperspy\\lib\\site-packages\\sklearn\\decomposition\\fastica_.py:121: ConvergenceWarning: FastICA did not converge. Consider increasing tolerance or the maximum number of iterations.\n",
      "  ConvergenceWarning)\n"
     ]
    },
    {
     "name": "stdout",
     "output_type": "stream",
     "text": [
      "\n",
      "D:\\Chris\\Google Drive\\CoSES\\Data\\CL\\20190326\\190327_155733_hyperspec_cl.h5\n",
      "Interpolating spectral data from nm to eV\n",
      "174.55955067149242 to 713.3518446411896 nm\n",
      "4 x 4 spatial x 1599 spectral points\n",
      "Too many components (15) for threshold 0.000020.\n",
      "15 components\n"
     ]
    },
    {
     "name": "stderr",
     "output_type": "stream",
     "text": [
      "C:\\CondaEnvs\\hyperspy\\lib\\site-packages\\sklearn\\decomposition\\fastica_.py:121: ConvergenceWarning: FastICA did not converge. Consider increasing tolerance or the maximum number of iterations.\n",
      "  ConvergenceWarning)\n"
     ]
    },
    {
     "name": "stdout",
     "output_type": "stream",
     "text": [
      "\n",
      "D:\\Chris\\Google Drive\\CoSES\\Data\\CL\\20190326\\190327_155941_hyperspec_cl.h5\n",
      "Interpolating spectral data from nm to eV\n",
      "174.55955067149242 to 713.3518446411896 nm\n",
      "32 x 32 spatial x 1599 spectral points\n"
     ]
    },
    {
     "name": "stderr",
     "output_type": "stream",
     "text": [
      "C:\\CondaEnvs\\hyperspy\\lib\\site-packages\\hyperspy\\learn\\mva.py:384: RuntimeWarning: invalid value encountered in true_divide\n",
      "  explained_variance / explained_variance.sum()\n",
      "C:\\CondaEnvs\\hyperspy\\lib\\site-packages\\numpy\\core\\_methods.py:32: RuntimeWarning: invalid value encountered in reduce\n",
      "  return umr_minimum(a, axis, None, out, keepdims, initial)\n",
      "C:\\CondaEnvs\\hyperspy\\lib\\site-packages\\hyperspy\\signal.py:1696: RuntimeWarning: invalid value encountered in less\n",
      "  getattr(self.data, op_name)(other))\n"
     ]
    },
    {
     "name": "stdout",
     "output_type": "stream",
     "text": [
      "Error,  index 0 is out of bounds for axis 0 with size 0\n",
      "\n",
      "D:\\Chris\\Google Drive\\CoSES\\Data\\CL\\20190326\\190327_160011_hyperspec_cl.h5\n",
      "Interpolating spectral data from nm to eV\n",
      "174.55955067149242 to 713.3518446411896 nm\n",
      "32 x 32 spatial x 1599 spectral points\n",
      "Error,  x and y must be the same size\n",
      "\n",
      "D:\\Chris\\Google Drive\\CoSES\\Data\\CL\\20190326\\190327_160543_hyperspec_cl.h5\n",
      "Interpolating spectral data from nm to eV\n",
      "174.55955067149242 to 713.3518446411896 nm\n",
      "32 x 32 spatial x 1599 spectral points\n",
      "Error,  x and y must be the same size\n",
      "\n",
      "D:\\Chris\\Google Drive\\CoSES\\Data\\CL\\20190326\\190327_163348_hyperspec_cl.h5\n",
      "Interpolating spectral data from nm to eV\n",
      "174.55955067149242 to 713.3518446411896 nm\n",
      "64 x 64 spatial x 1599 spectral points\n",
      "Too many components (25) for threshold 0.000020.\n",
      "15 components\n",
      "\n",
      "D:\\Chris\\Google Drive\\CoSES\\Data\\CL\\20190326\\190327_164212_hyperspec_cl.h5\n",
      "Interpolating spectral data from nm to eV\n",
      "174.55955067149242 to 713.3518446411896 nm\n",
      "128 x 128 spatial x 1599 spectral points\n",
      "Too many components (22) for threshold 0.000020.\n",
      "15 components\n",
      "\n",
      "completed.\n",
      "Summarizing D:\\Chris\\Google Drive\\CoSES\\Data\\CL\\548\n",
      "Summarizing D:\\Chris\\Google Drive\\CoSES\\Data\\CL\\548\\.ipynb_checkpoints\n",
      "completed.\n",
      "Summarizing D:\\Chris\\Google Drive\\CoSES\\Data\\CL\\548\\bugged\n",
      "D:\\Chris\\Google Drive\\CoSES\\Data\\CL\\548\\bugged\\190328_162418_hyperspec_cl.h5\n",
      "Interpolating spectral data from nm to eV\n",
      "334.7017427179295 to 595.8221165348759 nm\n",
      "256 x 256 spatial x 1599 spectral points\n",
      "3 components\n",
      "\n",
      "D:\\Chris\\Google Drive\\CoSES\\Data\\CL\\548\\bugged\\190328_163603_hyperspec_cl.h5\n",
      "Interpolating spectral data from nm to eV\n",
      "334.7017427179295 to 595.8221165348759 nm\n",
      "64 x 64 spatial x 1599 spectral points\n",
      "6 components\n",
      "\n",
      "D:\\Chris\\Google Drive\\CoSES\\Data\\CL\\548\\bugged\\190328_164310_hyperspec_cl.h5\n",
      "Interpolating spectral data from nm to eV\n",
      "334.7017427179295 to 595.8221165348759 nm\n",
      "64 x 64 spatial x 1599 spectral points\n",
      "6 components\n",
      "\n",
      "completed.\n",
      "Summarizing D:\\Chris\\Google Drive\\CoSES\\Data\\CL\\548\\large_area\n",
      "completed.\n",
      "Summarizing D:\\Chris\\Google Drive\\CoSES\\Data\\CL\\548\\pyramid_1_2\n",
      "D:\\Chris\\Google Drive\\CoSES\\Data\\CL\\548\\pyramid_1_2\\190328_170007_hyperspec_cl.h5\n",
      "Interpolating spectral data from nm to eV\n",
      "334.7017427179295 to 595.8221165348759 nm\n",
      "64 x 64 spatial x 1599 spectral points\n",
      "Too many components (19) for threshold 0.000020.\n",
      "15 components\n"
     ]
    }
   ],
   "source": [
    "cl.recursive_summarize('../', threshold=2e-5)"
   ]
  },
  {
   "cell_type": "code",
   "execution_count": null,
   "metadata": {},
   "outputs": [],
   "source": [
    "a = plt.plot(1)\n",
    "type(a)"
   ]
  },
  {
   "cell_type": "code",
   "execution_count": null,
   "metadata": {},
   "outputs": [],
   "source": []
  }
 ],
 "metadata": {
  "kernelspec": {
   "display_name": "Python 3",
   "language": "python",
   "name": "python3"
  },
  "language_info": {
   "codemirror_mode": {
    "name": "ipython",
    "version": 3
   },
   "file_extension": ".py",
   "mimetype": "text/x-python",
   "name": "python",
   "nbconvert_exporter": "python",
   "pygments_lexer": "ipython3",
   "version": "3.6.6"
  }
 },
 "nbformat": 4,
 "nbformat_minor": 2
}
