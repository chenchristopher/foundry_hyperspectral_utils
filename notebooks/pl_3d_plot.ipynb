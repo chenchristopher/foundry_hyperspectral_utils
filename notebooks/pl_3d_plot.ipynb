{
 "cells": [
  {
   "cell_type": "code",
   "execution_count": 1,
   "metadata": {},
   "outputs": [],
   "source": [
    "%matplotlib qt\n",
    "import numpy as np \n",
    "import matplotlib.pyplot as plt\n",
    "from spec_im import gui_fname, plot_pl_summary, plot_pl_3d_summary, plot_si_bands, plot_bss_results, plot_decomp_results\n",
    "from spec_im import SpectralImage, PLSpectralImage, PL3DSpectralImage\n",
    "import math\n",
    "import hyperspy.api as hs\n",
    "hs.preferences.gui(toolkit=\"traitsui\")"
   ]
  },
  {
   "cell_type": "markdown",
   "metadata": {},
   "source": [
    "# pl_3d_plot\n",
    "Plots a 3D spectral image. "
   ]
  },
  {
   "cell_type": "markdown",
   "metadata": {},
   "source": [
    "## 1. Load file"
   ]
  },
  {
   "cell_type": "code",
   "execution_count": 2,
   "metadata": {},
   "outputs": [],
   "source": [
    "#fname = gui_fname()\n",
    "fname = 'D:/Chris/BBOD_Share/uv_microscope/190430 confocal GaN pyramid uvpl/190424_163834_oo_asi_hyperspec_3d_scan.h5'"
   ]
  },
  {
   "cell_type": "code",
   "execution_count": 3,
   "metadata": {},
   "outputs": [
    {
     "name": "stdout",
     "output_type": "stream",
     "text": [
      "Load from D:/Chris/BBOD_Share/uv_microscope/190430 confocal GaN pyramid uvpl/190424_163834_oo_asi_hyperspec_3d_scan.h5 complete.\n",
      "5 x 41 x 41 spatial x 1044 spectral points\n"
     ]
    }
   ],
   "source": [
    "si = PL3DSpectralImage(fname=fname)\n",
    "#si.plot_spec()"
   ]
  },
  {
   "cell_type": "code",
   "execution_count": null,
   "metadata": {},
   "outputs": [],
   "source": [
    "plt.figure()\n",
    "si = si[200:950]\n",
    "si.plot_spec()"
   ]
  },
  {
   "cell_type": "code",
   "execution_count": 4,
   "metadata": {},
   "outputs": [
    {
     "name": "stdout",
     "output_type": "stream",
     "text": [
      "-8.100746268656621\n"
     ]
    }
   ],
   "source": [
    "#plt.figure()\n",
    "si.set_background(lims=(700, 900))\n",
    "#si.plot_spec()"
   ]
  },
  {
   "cell_type": "code",
   "execution_count": 5,
   "metadata": {},
   "outputs": [],
   "source": [
    "si = si[356:500]\n",
    "plt.figure()\n",
    "si.plot_spec()"
   ]
  },
  {
   "cell_type": "markdown",
   "metadata": {},
   "source": [
    "## 2. Visualize file"
   ]
  },
  {
   "cell_type": "code",
   "execution_count": null,
   "metadata": {},
   "outputs": [],
   "source": [
    "plot_pl_3d_summary(si, num_rows=4);"
   ]
  },
  {
   "cell_type": "code",
   "execution_count": 6,
   "metadata": {},
   "outputs": [],
   "source": [
    "s = si.to_signal()"
   ]
  },
  {
   "cell_type": "code",
   "execution_count": 7,
   "metadata": {
    "scrolled": true
   },
   "outputs": [
    {
     "data": {
      "application/vnd.jupyter.widget-view+json": {
       "model_id": "ac41d9da44bf4fe886a60196b0d9a954",
       "version_major": 2,
       "version_minor": 0
      },
      "text/plain": [
       "VBox(children=(HBox(children=(Label(value='x', layout=Layout(width='15%')), IntSlider(value=0, description='in…"
      ]
     },
     "metadata": {},
     "output_type": "display_data"
    }
   ],
   "source": [
    "s.plot(navigator_kwds=dict(cmap='viridis'))"
   ]
  },
  {
   "cell_type": "code",
   "execution_count": 8,
   "metadata": {},
   "outputs": [
    {
     "data": {
      "application/vnd.jupyter.widget-view+json": {
       "model_id": "70629b5a7b2e44cb857df7d5b4161084",
       "version_major": 2,
       "version_minor": 0
      },
      "text/plain": [
       "VBox(children=(HBox(children=(Label(value='x', layout=Layout(width='15%')), IntSlider(value=25, description='i…"
      ]
     },
     "metadata": {},
     "output_type": "display_data"
    },
    {
     "data": {
      "application/vnd.jupyter.widget-view+json": {
       "model_id": "",
       "version_major": 2,
       "version_minor": 0
      },
      "text/plain": [
       "VBox(children=(VBox(children=(Button(description='Show derivative histogram', layout=Layout(width='auto'), sty…"
      ]
     },
     "metadata": {},
     "output_type": "display_data"
    }
   ],
   "source": [
    "s.spikes_removal_tool()"
   ]
  },
  {
   "cell_type": "code",
   "execution_count": null,
   "metadata": {
    "scrolled": false
   },
   "outputs": [],
   "source": [
    "plt.figure()\n",
    "si.plot(show_cbar=True, cbar_orientation='vertical', cbar_position='right', show_axes=True, show_scalebar=False)"
   ]
  },
  {
   "cell_type": "code",
   "execution_count": null,
   "metadata": {},
   "outputs": [],
   "source": [
    "s2d = s.as_signal2D((0,1))"
   ]
  },
  {
   "cell_type": "code",
   "execution_count": null,
   "metadata": {},
   "outputs": [],
   "source": [
    "s2d.plot(cmap='viridis', navigator_kwds=dict(cmap='viridis'))"
   ]
  },
  {
   "cell_type": "code",
   "execution_count": null,
   "metadata": {},
   "outputs": [],
   "source": [
    "s1d = s2d.as_signal1D(3)"
   ]
  },
  {
   "cell_type": "code",
   "execution_count": null,
   "metadata": {
    "scrolled": true
   },
   "outputs": [],
   "source": [
    "s1d = s2d.transpose(navigation_axes=[2,3,1])"
   ]
  },
  {
   "cell_type": "code",
   "execution_count": null,
   "metadata": {},
   "outputs": [],
   "source": [
    "s1d"
   ]
  },
  {
   "cell_type": "code",
   "execution_count": null,
   "metadata": {},
   "outputs": [],
   "source": [
    ".plot()"
   ]
  },
  {
   "cell_type": "code",
   "execution_count": null,
   "metadata": {},
   "outputs": [],
   "source": [
    "s1d.plot()"
   ]
  },
  {
   "cell_type": "code",
   "execution_count": null,
   "metadata": {},
   "outputs": [],
   "source": [
    "s1d.decomposition(algorithm='svd')\n",
    "s1d.plot_explained_variance_ratio()"
   ]
  },
  {
   "cell_type": "code",
   "execution_count": null,
   "metadata": {},
   "outputs": [],
   "source": [
    "s1d.plot_decomposition_results()"
   ]
  },
  {
   "cell_type": "code",
   "execution_count": null,
   "metadata": {},
   "outputs": [],
   "source": [
    "s2d"
   ]
  },
  {
   "cell_type": "markdown",
   "metadata": {},
   "source": [
    "## 3. Hyperspy decomposition"
   ]
  },
  {
   "cell_type": "code",
   "execution_count": 9,
   "metadata": {},
   "outputs": [
    {
     "data": {
      "text/plain": [
       "<matplotlib.axes._subplots.AxesSubplot at 0x17413e80>"
      ]
     },
     "execution_count": 9,
     "metadata": {},
     "output_type": "execute_result"
    }
   ],
   "source": [
    "# perform principal component analysis, look at the explained variance\n",
    "s.decomposition(algorithm='svd')\n",
    "s.plot_explained_variance_ratio()"
   ]
  },
  {
   "cell_type": "code",
   "execution_count": 10,
   "metadata": {},
   "outputs": [
    {
     "data": {
      "application/vnd.jupyter.widget-view+json": {
       "model_id": "c4eb08fda7b64bc99fe031840b3f9a9b",
       "version_major": 2,
       "version_minor": 0
      },
      "text/plain": [
       "VBox(children=(HBox(children=(Label(value='z', layout=Layout(width='15%')), IntSlider(value=0, description='in…"
      ]
     },
     "metadata": {},
     "output_type": "display_data"
    }
   ],
   "source": [
    "s.plot_decomposition_results()"
   ]
  },
  {
   "cell_type": "code",
   "execution_count": null,
   "metadata": {},
   "outputs": [],
   "source": [
    "COMPS = 4"
   ]
  },
  {
   "cell_type": "code",
   "execution_count": null,
   "metadata": {
    "scrolled": false
   },
   "outputs": [],
   "source": [
    "# take a look at orthogonalized \n",
    "plot_bss_results(s,si,title='BSS',cmap='viridis',fig_rows=min((5, COMPS)),components=COMPS,max_iter=2000)"
   ]
  },
  {
   "cell_type": "code",
   "execution_count": 11,
   "metadata": {},
   "outputs": [
    {
     "data": {
      "application/vnd.jupyter.widget-view+json": {
       "model_id": "152897ba9bcf4813be5d73252933e672",
       "version_major": 2,
       "version_minor": 0
      },
      "text/plain": [
       "VBox(children=(HBox(children=(Label(value='x', layout=Layout(width='15%')), IntSlider(value=0, description='in…"
      ]
     },
     "metadata": {},
     "output_type": "display_data"
    }
   ],
   "source": [
    "sc = s.get_decomposition_model(components=4)\n",
    "sc.plot(navigator_kwds={'cmap': 'viridis'})"
   ]
  },
  {
   "cell_type": "code",
   "execution_count": null,
   "metadata": {},
   "outputs": [],
   "source": [
    "(s-sc).plot()"
   ]
  },
  {
   "cell_type": "code",
   "execution_count": 16,
   "metadata": {},
   "outputs": [],
   "source": [
    "sc2d = sc.as_signal2D((0,1))"
   ]
  },
  {
   "cell_type": "code",
   "execution_count": 17,
   "metadata": {},
   "outputs": [],
   "source": [
    "sc2d.plot(cmap='viridis',navigator_kwds={'cmap': 'viridis'})"
   ]
  },
  {
   "cell_type": "code",
   "execution_count": 14,
   "metadata": {},
   "outputs": [],
   "source": [
    "sc.decomposition(algorithm='nmf', output_dimension=4)"
   ]
  },
  {
   "cell_type": "code",
   "execution_count": 18,
   "metadata": {},
   "outputs": [
    {
     "data": {
      "application/vnd.jupyter.widget-view+json": {
       "model_id": "7f9f26283e9f42e2af45a30823a0d7f6",
       "version_major": 2,
       "version_minor": 0
      },
      "text/plain": [
       "VBox(children=(HBox(children=(Label(value='Decomposition component index', layout=Layout(width='15%')), IntSli…"
      ]
     },
     "metadata": {},
     "output_type": "display_data"
    }
   ],
   "source": [
    "sc2d.decomposition(algorithm='nmf', output_dimension=8)\n",
    "sc2d.plot_decomposition_results()"
   ]
  },
  {
   "cell_type": "code",
   "execution_count": null,
   "metadata": {},
   "outputs": [],
   "source": []
  },
  {
   "cell_type": "code",
   "execution_count": 15,
   "metadata": {},
   "outputs": [
    {
     "data": {
      "application/vnd.jupyter.widget-view+json": {
       "model_id": "41d30ba656ef400589b13c12fc64604d",
       "version_major": 2,
       "version_minor": 0
      },
      "text/plain": [
       "VBox(children=(HBox(children=(Label(value='z', layout=Layout(width='15%')), IntSlider(value=0, description='in…"
      ]
     },
     "metadata": {},
     "output_type": "display_data"
    }
   ],
   "source": [
    "sc.plot_decomposition_results()"
   ]
  },
  {
   "cell_type": "code",
   "execution_count": null,
   "metadata": {},
   "outputs": [],
   "source": [
    "plot_decomp_results(nzsc, asdf, title='NMF', cmap='viridis', fig_rows=4, algorithm='nmf', output_dimension=8)"
   ]
  },
  {
   "cell_type": "markdown",
   "metadata": {},
   "source": [
    "## A1. sklearn based native decomposition"
   ]
  },
  {
   "cell_type": "code",
   "execution_count": null,
   "metadata": {},
   "outputs": [],
   "source": [
    "si.decomposition(algorithm='svd', output_dimension=0.9999)"
   ]
  },
  {
   "cell_type": "code",
   "execution_count": null,
   "metadata": {},
   "outputs": [],
   "source": [
    "si.plot_explained_variance_ratio()"
   ]
  },
  {
   "cell_type": "code",
   "execution_count": null,
   "metadata": {},
   "outputs": [],
   "source": [
    "si.blind_source_separation(number_of_components=10, max_iter=2000)"
   ]
  },
  {
   "cell_type": "code",
   "execution_count": null,
   "metadata": {},
   "outputs": [],
   "source": [
    "ii = 0\n",
    "slice_list = si.get_slice_list()\n",
    "loadings = si.get_bss_loadings()\n",
    "factors = si.get_bss_factors()\n",
    "num_factors = factors.shape[0]\n",
    "\n",
    "num_rows = 5\n",
    "num_figures = math.ceil(float(num_factors)/num_rows)\n",
    "print(loadings.shape, factors.shape, si.spec_x_array.shape)\n",
    "(nz, ny, nx, nf) = np.shape(si.spec_im)\n",
    "num_cols = 3 + nz\n",
    "show_scalebar=False\n",
    "\n",
    "for jj in range(num_figures):\n",
    "    plt.figure()\n",
    "    for kk in range(num_rows):\n",
    "        if jj*num_rows + kk >= num_factors:  \n",
    "            break\n",
    "        index = kk + jj*num_rows\n",
    "        # print(num_rows, num_cols, 3*kk + 1)\n",
    "        for ii in range(nz):\n",
    "            plt.subplot(num_rows, num_cols, num_cols*kk + 1 + ii)\n",
    "            if kk == 0:\n",
    "                z_pos = 'z = %0.2f $\\mu$m' % ((si.z_array[ii]-si.z_array[0])*1e3)\n",
    "            else:\n",
    "                z_pos = ''\n",
    "                \n",
    "            if kk==0 and ii==0:\n",
    "                show_scalebar=True\n",
    "            else:\n",
    "                show_scalebar=False\n",
    "            \n",
    "            si._plot(loadings[index, ii, :, :], cbar_orientation='vertical', cbar_position='right',\n",
    "                     title='%s' % z_pos, show_scalebar=show_scalebar)\n",
    "            # print(num_rows, num_cols, (3*kk + 2, 3*kk+3))\n",
    "        plt.subplot(num_rows, num_cols, (num_cols*kk + nz + 1, num_cols*kk + nz + 2))\n",
    "        si._plot_spec(factors[index,:])\n",
    "        plt.title('%d' % index)\n",
    "        "
   ]
  },
  {
   "cell_type": "code",
   "execution_count": null,
   "metadata": {},
   "outputs": [],
   "source": [
    "slice_list = si.get_slice_list()\n",
    "plt.figure()\n",
    "si.get_slice(slice_list[1])[330:360].plot()"
   ]
  },
  {
   "cell_type": "code",
   "execution_count": null,
   "metadata": {},
   "outputs": [],
   "source": [
    "mask = si.get_slice(slice_list[2])[330:360].spec_im.sum(axis=-1) < 7.95e4\n",
    "print(mask.shape)\n",
    "plt.figure()\n",
    "plt.imshow(mask)\n",
    "si.apply_mask(mask)"
   ]
  },
  {
   "cell_type": "code",
   "execution_count": null,
   "metadata": {},
   "outputs": [],
   "source": [
    "# mask2 = np.empty(np.shape(si.spec_im.sum(axis=-1)))\n",
    "# mask2[kk in range(np.size(si.z_array)), :, :, :] = mask\n",
    "# #si.apply_mask(mask2)\n",
    "# print('mask size', np.size(mask2), 'nonzero values in mask', np.count_nonzero(mask2.flatten()), '', np.size(si.spec_im.sum(axis=-1)))"
   ]
  },
  {
   "cell_type": "code",
   "execution_count": null,
   "metadata": {},
   "outputs": [],
   "source": [
    "si.decomposition(algorithm='svd', output_dimension=0.9999)\n",
    "si.plot_explained_variance_ratio()"
   ]
  },
  {
   "cell_type": "code",
   "execution_count": null,
   "metadata": {},
   "outputs": [],
   "source": [
    "si.blind_source_separation(number_of_components=10)"
   ]
  },
  {
   "cell_type": "code",
   "execution_count": null,
   "metadata": {},
   "outputs": [],
   "source": [
    "ii = 0\n",
    "slice_list = si.get_slice_list()\n",
    "loadings = si.get_bss_loadings()\n",
    "factors = si.get_bss_factors()\n",
    "num_factors = factors.shape[0]\n",
    "\n",
    "num_rows = 5\n",
    "num_figures = math.ceil(float(num_factors)/num_rows)\n",
    "print(loadings.shape, factors.shape, si.spec_x_array.shape)\n",
    "(nz, ny, nx, nf) = np.shape(si.spec_im)\n",
    "num_cols = 3 + nz\n",
    "show_scalebar=False\n",
    "\n",
    "for jj in range(num_figures):\n",
    "    plt.figure()\n",
    "    for kk in range(num_rows):\n",
    "        if jj*num_rows + kk >= num_factors:  \n",
    "            break\n",
    "        index = kk + jj*num_rows\n",
    "        # print(num_rows, num_cols, 3*kk + 1)\n",
    "        for ii in range(nz):\n",
    "            plt.subplot(num_rows, num_cols, num_cols*kk + 1 + ii)\n",
    "            if kk == 0:\n",
    "                z_pos = 'z = %0.2f $\\mu$m' % ((si.z_array[ii]-si.z_array[0])*1e3)\n",
    "            else:\n",
    "                z_pos = ''\n",
    "                \n",
    "            if kk==0 and ii==0:\n",
    "                show_scalebar=True\n",
    "            else:\n",
    "                show_scalebar=False\n",
    "            \n",
    "            si._plot(loadings[index, ii, :, :], cbar_orientation='vertical', cbar_position='right',\n",
    "                     title='%s' % z_pos, show_scalebar=show_scalebar)\n",
    "            # print(num_rows, num_cols, (3*kk + 2, 3*kk+3))\n",
    "        plt.subplot(num_rows, num_cols, (num_cols*kk + nz + 1, num_cols*kk + nz + 2))\n",
    "        si._plot_spec(factors[index,:])\n",
    "        plt.title('%d' % index)\n",
    "        "
   ]
  },
  {
   "cell_type": "code",
   "execution_count": null,
   "metadata": {},
   "outputs": [],
   "source": [
    "sc = s.get_decomposition_model(components=10)\n",
    "sc.plot()"
   ]
  },
  {
   "cell_type": "code",
   "execution_count": null,
   "metadata": {},
   "outputs": [],
   "source": [
    "print('asdf')"
   ]
  },
  {
   "cell_type": "code",
   "execution_count": null,
   "metadata": {},
   "outputs": [],
   "source": []
  },
  {
   "cell_type": "code",
   "execution_count": null,
   "metadata": {},
   "outputs": [],
   "source": [
    "sc = s.get_decomposition_model(components=4)\n",
    "sc.plot()"
   ]
  },
  {
   "cell_type": "code",
   "execution_count": null,
   "metadata": {},
   "outputs": [],
   "source": [
    "from hyperspy.signals import Signal2D"
   ]
  },
  {
   "cell_type": "code",
   "execution_count": null,
   "metadata": {},
   "outputs": [],
   "source": []
  }
 ],
 "metadata": {
  "kernelspec": {
   "display_name": "Python 3",
   "language": "python",
   "name": "python3"
  },
  "language_info": {
   "codemirror_mode": {
    "name": "ipython",
    "version": 3
   },
   "file_extension": ".py",
   "mimetype": "text/x-python",
   "name": "python",
   "nbconvert_exporter": "python",
   "pygments_lexer": "ipython3",
   "version": "3.6.6"
  }
 },
 "nbformat": 4,
 "nbformat_minor": 2
}
