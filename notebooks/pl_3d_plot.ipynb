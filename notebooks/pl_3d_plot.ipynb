{
 "cells": [
  {
   "cell_type": "markdown",
   "metadata": {},
   "source": [
    "# pl_3d_plot\n",
    "Plots a 3D spectral image. "
   ]
  },
  {
   "cell_type": "markdown",
   "metadata": {
    "heading_collapsed": true
   },
   "source": [
    "# Imports"
   ]
  },
  {
   "cell_type": "code",
   "execution_count": 1,
   "metadata": {
    "ExecuteTime": {
     "end_time": "2019-05-30T20:58:40.426019Z",
     "start_time": "2019-05-30T20:58:33.958649Z"
    },
    "hidden": true,
    "init_cell": true
   },
   "outputs": [],
   "source": [
    "%matplotlib qt\n",
    "import numpy as np \n",
    "import matplotlib.pyplot as plt\n",
    "from spec_im import gui_fname, plot_pl_summary, plot_pl_summary, plot_si_bands, plot_bss_results, plot_decomp_results\n",
    "from spec_im import PLSpectralImage\n",
    "import math\n",
    "import hyperspy.api as hs\n",
    "import seaborn as sns\n",
    "import os\n",
    "\n",
    "sns.set()\n",
    "sns.set_style('ticks')\n",
    "\n",
    "hs.preferences.gui(toolkit=\"traitsui\")"
   ]
  },
  {
   "cell_type": "code",
   "execution_count": 2,
   "metadata": {
    "ExecuteTime": {
     "end_time": "2019-05-30T20:58:40.605029Z",
     "start_time": "2019-05-30T20:58:40.429019Z"
    },
    "hidden": true,
    "init_cell": true
   },
   "outputs": [],
   "source": [
    "def plot_3d_bss_results(s, spec_im, title='', cmap='gray', fig_rows=5, **kwargs):\n",
    "    return plot_3d_hs_results(s.get_bss_loadings(), s.get_bss_factors(),\n",
    "                           spec_im, title=title, cmap=cmap,\n",
    "                           num_rows=fig_rows, **kwargs)\n",
    "\n",
    "def plot_3d_decomp_results(s, spec_im, title='', cmap='gray', fig_rows=5, **kwargs):\n",
    "    return plot_3d_hs_results(s.get_decomposition_loadings(),\n",
    "                           s.get_decomposition_factors(),\n",
    "                           spec_im, title=title, cmap=cmap,\n",
    "                           num_rows=fig_rows, **kwargs)\n",
    "\n",
    "def plot_3d_hs_results(loadings, factors, spec_im, num_rows=6, title='',\n",
    "                    **kwargs):\n",
    "    units, scaling = spec_im.get_unit_scaling()\n",
    "    # grab the blind source separation loadings and factors\n",
    "    loading_list = loadings.split()\n",
    "    factor_list = factors.split()\n",
    "    no_of_loadings = len(loading_list)\n",
    "\n",
    "    # some quick math to calculate the number of rows per figure and number of figures\n",
    "    nz = len(spec_im.z_array)\n",
    "    no_of_figs = no_of_loadings//num_rows\n",
    "    if no_of_loadings > no_of_figs*num_rows:\n",
    "        no_of_figs = no_of_figs+1\n",
    "\n",
    "    fig_list = list()\n",
    "\n",
    "    for jj in range(0, no_of_figs):\n",
    "        #print('fig ' + str(jj+1) + ' of ' + str(no_of_figs))\n",
    "        f = plt.figure()\n",
    "\n",
    "        # start of list for this figure\n",
    "        l0 = jj*num_rows\n",
    "\n",
    "        for ll in range(num_rows):\n",
    "            lx = l0 + ll\n",
    "            if lx >= no_of_loadings:\n",
    "                break\n",
    "            #print('component ' + str(lx+1) + ' of ' + str(no_of_loadings))\n",
    "            for ii in range(nz):\n",
    "                ax = plt.subplot(num_rows, 3+nz, 3*ll+ll*nz+1+ii)\n",
    "                spec_im._plot(loading_list[lx].data[ii,:,:], **kwargs)\n",
    "                if ll == 0:                  \n",
    "                    zval = spec_im.z_array[ii]-spec_im.z_array[0]\n",
    "                    ax.set_title('z = %0.1f %s' % (zval*scaling, units))\n",
    "  \n",
    "            plt.subplot(num_rows, 3+nz, (3*ll+(ll+1)*nz+2, 3*ll+(ll+1)*nz+3))\n",
    "            plt.plot(spec_im.spec_x_array, factor_list[lx].data)\n",
    "            plt.title('%d' % lx)\n",
    "            plt.gca().ticklabel_format(axis='y', style='sci', scilimits=(0, 0))\n",
    "            plt.xlabel(spec_im.spec_units)\n",
    "\n",
    "        plt.axis('tight')\n",
    "#             plt.suptitle(title + ' pg ' + str(jj+1) + ' of ' + str(no_of_figs) + ' z = %0.4f mm' % spec_im.z_array[ii])\n",
    "        plt.suptitle('%s no %d of %d' % (title, jj+1, no_of_figs))\n",
    "        f.set_size_inches(10,10)\n",
    "        plt.tight_layout(h_pad=1)\n",
    "        plt.subplots_adjust(top=0.92)\n",
    "        fig_list.append(f)\n",
    "\n",
    "    return fig_list"
   ]
  },
  {
   "cell_type": "markdown",
   "metadata": {},
   "source": [
    "# Load file"
   ]
  },
  {
   "cell_type": "code",
   "execution_count": 3,
   "metadata": {
    "ExecuteTime": {
     "end_time": "2019-05-30T20:58:40.611030Z",
     "start_time": "2019-05-30T20:58:40.607030Z"
    },
    "init_cell": true
   },
   "outputs": [],
   "source": [
    "#fname = gui_fname()\n",
    "fname = 'D:/Chris/BBOD_Share/uv_microscope/190430 confocal GaN pyramid uvpl/190427_082002_oo_asi_hyperspec_3d_scan.h5'"
   ]
  },
  {
   "cell_type": "code",
   "execution_count": 4,
   "metadata": {
    "ExecuteTime": {
     "end_time": "2019-05-30T20:58:40.620030Z",
     "start_time": "2019-05-30T20:58:40.615030Z"
    },
    "init_cell": true
   },
   "outputs": [],
   "source": [
    "fpath = os.path.dirname(fname)\n",
    "fbase = os.path.splitext(fname)[0]\n",
    "sample = os.path.basename(fname)"
   ]
  },
  {
   "cell_type": "code",
   "execution_count": 5,
   "metadata": {
    "ExecuteTime": {
     "end_time": "2019-05-30T20:58:42.876159Z",
     "start_time": "2019-05-30T20:58:40.625031Z"
    },
    "init_cell": true,
    "scrolled": false
   },
   "outputs": [
    {
     "name": "stdout",
     "output_type": "stream",
     "text": [
      "Load from D:/Chris/BBOD_Share/uv_microscope/190430 confocal GaN pyramid uvpl/190427_082002_oo_asi_hyperspec_3d_scan.h5 complete.\n",
      "9 x 102 x 101 spatial x 1044 spectral points\n"
     ]
    }
   ],
   "source": [
    "si = PLSpectralImage(fname=fname)"
   ]
  },
  {
   "cell_type": "markdown",
   "metadata": {},
   "source": [
    "## Cropping the spectrum"
   ]
  },
  {
   "cell_type": "code",
   "execution_count": null,
   "metadata": {
    "ExecuteTime": {
     "end_time": "2019-05-30T15:22:05.058910Z",
     "start_time": "2019-05-30T15:22:04.895901Z"
    }
   },
   "outputs": [],
   "source": [
    "si.plot_spec()"
   ]
  },
  {
   "cell_type": "code",
   "execution_count": null,
   "metadata": {
    "ExecuteTime": {
     "end_time": "2019-05-30T17:19:53.075178Z",
     "start_time": "2019-05-30T17:19:50.913054Z"
    }
   },
   "outputs": [],
   "source": [
    "plt.figure()\n",
    "si = si[200:950]\n",
    "si.plot_spec()"
   ]
  },
  {
   "cell_type": "code",
   "execution_count": null,
   "metadata": {
    "ExecuteTime": {
     "end_time": "2019-05-30T17:19:58.610494Z",
     "start_time": "2019-05-30T17:19:53.183184Z"
    }
   },
   "outputs": [],
   "source": [
    "plt.figure()\n",
    "si.set_background(lims=(700, 900))\n",
    "si.plot_spec()"
   ]
  },
  {
   "cell_type": "code",
   "execution_count": null,
   "metadata": {
    "ExecuteTime": {
     "end_time": "2019-05-30T17:20:00.431598Z",
     "start_time": "2019-05-30T17:19:58.726501Z"
    }
   },
   "outputs": [],
   "source": [
    "si = si[354:500]\n",
    "plt.figure()\n",
    "si.plot_spec()"
   ]
  },
  {
   "cell_type": "markdown",
   "metadata": {},
   "source": [
    "## Convert to eV"
   ]
  },
  {
   "cell_type": "code",
   "execution_count": null,
   "metadata": {
    "ExecuteTime": {
     "end_time": "2019-05-30T17:20:02.653726Z",
     "start_time": "2019-05-30T17:20:00.528604Z"
    },
    "scrolled": true
   },
   "outputs": [],
   "source": [
    "esi = si.to_energy()"
   ]
  },
  {
   "cell_type": "markdown",
   "metadata": {},
   "source": [
    "# Visualize file"
   ]
  },
  {
   "cell_type": "code",
   "execution_count": null,
   "metadata": {
    "ExecuteTime": {
     "end_time": "2019-05-30T17:08:15.527280Z",
     "start_time": "2019-05-30T17:08:14.792238Z"
    },
    "scrolled": true
   },
   "outputs": [],
   "source": [
    "plot_pl_summary(si, num_rows=4, show_axes=False, show_scalebar=True, scalebar_alpha=0.5);"
   ]
  },
  {
   "cell_type": "code",
   "execution_count": null,
   "metadata": {
    "ExecuteTime": {
     "end_time": "2019-05-06T22:18:22.779921Z",
     "start_time": "2019-05-06T22:18:22.775921Z"
    }
   },
   "outputs": [],
   "source": [
    "esi.z_array = esi.z_array[0:7]\n",
    "esi.spec_im = esi.spec_im[0:7,:,:,:]"
   ]
  },
  {
   "cell_type": "code",
   "execution_count": null,
   "metadata": {
    "ExecuteTime": {
     "end_time": "2019-05-30T17:20:04.124810Z",
     "start_time": "2019-05-30T17:20:02.752731Z"
    }
   },
   "outputs": [],
   "source": [
    "plot_pl_summary(esi, num_rows=4, show_axes=False, show_scalebar=True, scalebar_alpha=0.5);"
   ]
  },
  {
   "cell_type": "markdown",
   "metadata": {},
   "source": [
    "Below is useful for fixing pyplot.suptitle and pyplot.axis('tight') conflicts"
   ]
  },
  {
   "cell_type": "code",
   "execution_count": null,
   "metadata": {
    "ExecuteTime": {
     "end_time": "2019-05-30T17:20:45.896199Z",
     "start_time": "2019-05-30T17:20:45.880198Z"
    }
   },
   "outputs": [],
   "source": [
    "plt.subplots_adjust(top=0.9)"
   ]
  },
  {
   "cell_type": "markdown",
   "metadata": {},
   "source": [
    "## To Signal1D"
   ]
  },
  {
   "cell_type": "code",
   "execution_count": null,
   "metadata": {
    "ExecuteTime": {
     "end_time": "2019-05-29T20:48:22.661888Z",
     "start_time": "2019-05-29T20:48:22.465877Z"
    }
   },
   "outputs": [],
   "source": [
    "s = esi.to_signal()"
   ]
  },
  {
   "cell_type": "code",
   "execution_count": null,
   "metadata": {
    "ExecuteTime": {
     "end_time": "2019-05-29T20:48:26.177089Z",
     "start_time": "2019-05-29T20:48:25.497050Z"
    },
    "scrolled": true
   },
   "outputs": [],
   "source": [
    "s.plot(navigator_kwds=dict(cmap='viridis'))"
   ]
  },
  {
   "cell_type": "code",
   "execution_count": null,
   "metadata": {},
   "outputs": [],
   "source": [
    "roi = hs.roi.RectangularROI(left=0, right=100., top=0, bottom=100.)\n",
    "scrop = roi.interactive(s)"
   ]
  },
  {
   "cell_type": "code",
   "execution_count": null,
   "metadata": {
    "ExecuteTime": {
     "end_time": "2019-05-06T22:16:25.631221Z",
     "start_time": "2019-05-06T22:16:24.537158Z"
    }
   },
   "outputs": [],
   "source": [
    "roi = hs.roi.SpanROI(left=2, right=3.4)\n",
    "s.plot(navigator_kwds=dict(cmap='viridis'))\n",
    "scrop = roi.interactive(s)"
   ]
  },
  {
   "cell_type": "code",
   "execution_count": null,
   "metadata": {
    "ExecuteTime": {
     "end_time": "2019-05-29T20:48:53.083628Z",
     "start_time": "2019-05-29T20:48:51.959564Z"
    },
    "scrolled": false
   },
   "outputs": [],
   "source": [
    "s.spikes_removal_tool()"
   ]
  },
  {
   "cell_type": "markdown",
   "metadata": {
    "heading_collapsed": true
   },
   "source": [
    "## Signal2D\n",
    "Visualization with Signal2D for spectral contributions from individual bins. Could also be used for alignment. "
   ]
  },
  {
   "cell_type": "code",
   "execution_count": null,
   "metadata": {
    "ExecuteTime": {
     "end_time": "2019-05-08T23:44:28.943004Z",
     "start_time": "2019-05-08T23:44:28.653987Z"
    },
    "hidden": true
   },
   "outputs": [],
   "source": [
    "s2d = s.as_signal2D((0,1))"
   ]
  },
  {
   "cell_type": "code",
   "execution_count": null,
   "metadata": {
    "ExecuteTime": {
     "end_time": "2019-05-08T23:46:25.259656Z",
     "start_time": "2019-05-08T23:46:24.529615Z"
    },
    "hidden": true
   },
   "outputs": [],
   "source": [
    "s2d.plot(cmap='viridis', navigator_kwds=dict(cmap='viridis'))"
   ]
  },
  {
   "cell_type": "markdown",
   "metadata": {
    "hidden": true
   },
   "source": [
    "### Alignment"
   ]
  },
  {
   "cell_type": "code",
   "execution_count": null,
   "metadata": {
    "ExecuteTime": {
     "end_time": "2019-05-08T23:46:45.256800Z",
     "start_time": "2019-05-08T23:46:44.789773Z"
    },
    "hidden": true,
    "scrolled": true
   },
   "outputs": [],
   "source": [
    "shifts = s2d.inav[95,:].estimate_shift2D()\n",
    "print(shifts)"
   ]
  },
  {
   "cell_type": "code",
   "execution_count": null,
   "metadata": {
    "ExecuteTime": {
     "end_time": "2019-05-06T20:46:58.205221Z",
     "start_time": "2019-05-06T20:46:58.191221Z"
    },
    "hidden": true
   },
   "outputs": [],
   "source": [
    "val = -2\n",
    "nf = np.size(esi.spec_x_array)\n",
    "nz = np.size(esi.z_array)\n",
    "stupid_shift = np.empty((nf*nz,2))\n",
    "for kk in range(nz):\n",
    "#     if kk == 1:\n",
    "#         stupid_shift_val = [-val, 0]\n",
    "#     elif kk ==2:\n",
    "#         stupid_shift_val = [0, val]\n",
    "#     elif kk ==3:\n",
    "#         stupid_shift_val = [val, 0]\n",
    "#     elif kk ==4:\n",
    "#         stupid_shift_val = [0, -val]\n",
    "#     else:\n",
    "#         stupid_shift_val = [0, 0]\n",
    "    for jj in range(nf):\n",
    "        stupid_shift_val = [kk*val, 0]\n",
    "        stupid_shift[nf*kk + jj] = stupid_shift_val"
   ]
  },
  {
   "cell_type": "code",
   "execution_count": null,
   "metadata": {
    "ExecuteTime": {
     "end_time": "2019-05-06T20:46:59.193278Z",
     "start_time": "2019-05-06T20:46:58.973265Z"
    },
    "hidden": true
   },
   "outputs": [],
   "source": [
    "s2d.align2D(shifts=stupid_shift)"
   ]
  },
  {
   "cell_type": "code",
   "execution_count": null,
   "metadata": {
    "ExecuteTime": {
     "end_time": "2019-05-06T20:47:04.480580Z",
     "start_time": "2019-05-06T20:47:04.124560Z"
    },
    "hidden": true
   },
   "outputs": [],
   "source": [
    "s2d.plot(cmap='viridis', navigator_kwds=dict(cmap='viridis'))"
   ]
  },
  {
   "cell_type": "markdown",
   "metadata": {
    "heading_collapsed": true
   },
   "source": [
    "## Back to Signal1D\n",
    "Could be used to load the aligned maps for decomposition."
   ]
  },
  {
   "cell_type": "code",
   "execution_count": null,
   "metadata": {
    "ExecuteTime": {
     "end_time": "2019-05-06T20:47:40.402635Z",
     "start_time": "2019-05-06T20:47:40.366633Z"
    },
    "hidden": true
   },
   "outputs": [],
   "source": [
    "s1d = s2d.as_signal1D(3)"
   ]
  },
  {
   "cell_type": "code",
   "execution_count": null,
   "metadata": {
    "ExecuteTime": {
     "end_time": "2019-05-06T20:47:41.128677Z",
     "start_time": "2019-05-06T20:47:41.108675Z"
    },
    "hidden": true,
    "scrolled": true
   },
   "outputs": [],
   "source": [
    "s1d = s2d.transpose(navigation_axes=[2,3,1])"
   ]
  },
  {
   "cell_type": "code",
   "execution_count": null,
   "metadata": {
    "ExecuteTime": {
     "end_time": "2019-05-06T20:47:43.115790Z",
     "start_time": "2019-05-06T20:47:42.284743Z"
    },
    "hidden": true
   },
   "outputs": [],
   "source": [
    "s1d.plot()"
   ]
  },
  {
   "cell_type": "code",
   "execution_count": null,
   "metadata": {
    "ExecuteTime": {
     "end_time": "2019-05-06T20:48:18.066789Z",
     "start_time": "2019-05-06T20:48:18.059789Z"
    },
    "hidden": true
   },
   "outputs": [],
   "source": [
    "s = s1d"
   ]
  },
  {
   "cell_type": "markdown",
   "metadata": {},
   "source": [
    "# Hyperspy decomposition"
   ]
  },
  {
   "cell_type": "code",
   "execution_count": null,
   "metadata": {
    "ExecuteTime": {
     "end_time": "2019-05-29T21:15:44.714808Z",
     "start_time": "2019-05-29T21:15:43.772754Z"
    }
   },
   "outputs": [],
   "source": [
    "# perform principal component analysis, look at the explained variance\n",
    "s.decomposition(algorithm='svd')\n",
    "s.plot_explained_variance_ratio()"
   ]
  },
  {
   "cell_type": "code",
   "execution_count": null,
   "metadata": {
    "ExecuteTime": {
     "end_time": "2019-05-29T21:15:48.558028Z",
     "start_time": "2019-05-29T21:15:48.003996Z"
    }
   },
   "outputs": [],
   "source": [
    "s.plot_decomposition_results()"
   ]
  },
  {
   "cell_type": "code",
   "execution_count": null,
   "metadata": {
    "ExecuteTime": {
     "end_time": "2019-05-29T21:17:34.223071Z",
     "start_time": "2019-05-29T21:17:34.216071Z"
    }
   },
   "outputs": [],
   "source": [
    "COMPS = 8"
   ]
  },
  {
   "cell_type": "code",
   "execution_count": null,
   "metadata": {
    "ExecuteTime": {
     "end_time": "2019-05-29T21:17:36.635209Z",
     "start_time": "2019-05-29T21:17:35.431140Z"
    },
    "scrolled": true
   },
   "outputs": [],
   "source": [
    "s.blind_source_separation(number_of_components=COMPS)\n",
    "s.plot_bss_results()"
   ]
  },
  {
   "cell_type": "code",
   "execution_count": null,
   "metadata": {
    "ExecuteTime": {
     "end_time": "2019-05-09T06:07:01.034788Z",
     "start_time": "2019-05-09T06:06:57.660595Z"
    },
    "scrolled": true
   },
   "outputs": [],
   "source": [
    "sc = s.get_decomposition_model(components=(0,1,2,3,4,5,6,7,22,23))\n",
    "sc.plot(navigator_kwds={'cmap': 'viridis'})"
   ]
  },
  {
   "cell_type": "code",
   "execution_count": null,
   "metadata": {
    "ExecuteTime": {
     "end_time": "2019-05-09T06:07:38.166912Z",
     "start_time": "2019-05-09T06:07:35.657768Z"
    }
   },
   "outputs": [],
   "source": [
    "sc_si = esi.copy(signal=sc)\n",
    "sc_si.spec_im = np.squeeze(sc_si.spec_im)\n",
    "plot_pl_summary(sc_si, num_rows=6);"
   ]
  },
  {
   "cell_type": "code",
   "execution_count": null,
   "metadata": {
    "ExecuteTime": {
     "end_time": "2019-05-06T20:50:10.963247Z",
     "start_time": "2019-05-06T20:50:10.102197Z"
    }
   },
   "outputs": [],
   "source": [
    "(s-sc).plot()"
   ]
  },
  {
   "cell_type": "code",
   "execution_count": null,
   "metadata": {
    "ExecuteTime": {
     "end_time": "2019-05-09T06:12:00.926941Z",
     "start_time": "2019-05-09T06:11:32.841335Z"
    }
   },
   "outputs": [],
   "source": [
    "sc.decomposition(algorithm='nmf', output_dimension=6)"
   ]
  },
  {
   "cell_type": "code",
   "execution_count": null,
   "metadata": {
    "ExecuteTime": {
     "end_time": "2019-05-09T06:12:02.007003Z",
     "start_time": "2019-05-09T06:12:01.347965Z"
    }
   },
   "outputs": [],
   "source": [
    "sc.plot_decomposition_results()"
   ]
  },
  {
   "cell_type": "code",
   "execution_count": null,
   "metadata": {
    "ExecuteTime": {
     "end_time": "2019-05-09T06:14:41.151105Z",
     "start_time": "2019-05-09T06:14:35.115760Z"
    },
    "scrolled": false
   },
   "outputs": [],
   "source": [
    "plot_3d_decomp_results(sc, esi, cmap='viridis', fig_rows=4, cbar_orientation='horizontal',\n",
    "                       cbar_position='bottom', show_axes=False, title='NMF')"
   ]
  },
  {
   "cell_type": "code",
   "execution_count": null,
   "metadata": {
    "ExecuteTime": {
     "end_time": "2019-05-09T00:15:53.159775Z",
     "start_time": "2019-05-09T00:15:53.037768Z"
    }
   },
   "outputs": [],
   "source": [
    "sc2d = sc.as_signal2D((0,1))"
   ]
  },
  {
   "cell_type": "code",
   "execution_count": null,
   "metadata": {
    "ExecuteTime": {
     "end_time": "2019-05-09T00:15:54.324841Z",
     "start_time": "2019-05-09T00:15:53.852814Z"
    }
   },
   "outputs": [],
   "source": [
    "sc2d.plot(cmap='viridis',navigator_kwds={'cmap': 'viridis'})"
   ]
  },
  {
   "cell_type": "code",
   "execution_count": null,
   "metadata": {
    "ExecuteTime": {
     "end_time": "2019-05-06T21:24:43.070764Z",
     "start_time": "2019-05-06T21:24:42.589737Z"
    }
   },
   "outputs": [],
   "source": [
    "sc2d.decomposition(algorithm='svd')\n",
    "sc2d.plot_explained_variance_ratio()"
   ]
  },
  {
   "cell_type": "code",
   "execution_count": null,
   "metadata": {
    "ExecuteTime": {
     "end_time": "2019-05-06T21:25:02.878897Z",
     "start_time": "2019-05-06T21:25:01.063794Z"
    }
   },
   "outputs": [],
   "source": [
    "sc2d.decomposition(algorithm='nmf', output_dimension=25)\n",
    "sc2d.plot_decomposition_results()"
   ]
  },
  {
   "cell_type": "code",
   "execution_count": null,
   "metadata": {
    "ExecuteTime": {
     "end_time": "2019-05-06T20:54:40.103641Z",
     "start_time": "2019-05-06T20:54:40.050638Z"
    }
   },
   "outputs": [],
   "source": [
    "sc2d_spat = sc.as_signal2D((2,3))"
   ]
  },
  {
   "cell_type": "code",
   "execution_count": null,
   "metadata": {
    "ExecuteTime": {
     "end_time": "2019-05-06T20:54:42.514778Z",
     "start_time": "2019-05-06T20:54:42.091754Z"
    }
   },
   "outputs": [],
   "source": [
    "sc2d_spat.plot()"
   ]
  },
  {
   "cell_type": "code",
   "execution_count": null,
   "metadata": {
    "ExecuteTime": {
     "end_time": "2019-05-06T20:57:06.293002Z",
     "start_time": "2019-05-06T20:57:05.732970Z"
    }
   },
   "outputs": [],
   "source": [
    "sc2d_spat.decomposition(algorithm='svd')\n",
    "sc2d_spat.plot_explained_variance_ratio()"
   ]
  },
  {
   "cell_type": "code",
   "execution_count": null,
   "metadata": {
    "ExecuteTime": {
     "end_time": "2019-05-06T20:57:21.009844Z",
     "start_time": "2019-05-06T20:57:19.852778Z"
    }
   },
   "outputs": [],
   "source": [
    "sc2d_spat.decomposition(algorithm='nmf', output_dimension=20)"
   ]
  },
  {
   "cell_type": "code",
   "execution_count": null,
   "metadata": {
    "ExecuteTime": {
     "end_time": "2019-05-06T20:57:24.662053Z",
     "start_time": "2019-05-06T20:57:24.173025Z"
    }
   },
   "outputs": [],
   "source": [
    "sc2d_spat.plot_decomposition_results()"
   ]
  },
  {
   "cell_type": "code",
   "execution_count": null,
   "metadata": {},
   "outputs": [],
   "source": [
    "sc.plot_decomposition_results()"
   ]
  },
  {
   "cell_type": "code",
   "execution_count": null,
   "metadata": {
    "ExecuteTime": {
     "end_time": "2019-05-29T21:22:03.626480Z",
     "start_time": "2019-05-29T21:21:35.082848Z"
    }
   },
   "outputs": [],
   "source": [
    "import matplotlib.backends.backend_pdf\n",
    "pdf = matplotlib.backends.backend_pdf.PdfPages(fbase+\"_decomp.pdf\")\n",
    "for fig in range(1, plt.figure().number): ## will open an empty extra figure :(\n",
    "    pdf.savefig( fig )\n",
    "pdf.close()\n",
    "plt.close(fig='all')"
   ]
  },
  {
   "cell_type": "markdown",
   "metadata": {
    "heading_collapsed": true
   },
   "source": [
    "## A1. sklearn based native decomposition"
   ]
  },
  {
   "cell_type": "code",
   "execution_count": null,
   "metadata": {
    "hidden": true
   },
   "outputs": [],
   "source": [
    "si.decomposition(algorithm='svd', output_dimension=0.9999)"
   ]
  },
  {
   "cell_type": "code",
   "execution_count": null,
   "metadata": {
    "hidden": true
   },
   "outputs": [],
   "source": [
    "si.plot_explained_variance_ratio()"
   ]
  },
  {
   "cell_type": "code",
   "execution_count": null,
   "metadata": {
    "hidden": true
   },
   "outputs": [],
   "source": [
    "si.blind_source_separation(number_of_components=10, max_iter=2000)"
   ]
  },
  {
   "cell_type": "code",
   "execution_count": null,
   "metadata": {
    "hidden": true
   },
   "outputs": [],
   "source": [
    "ii = 0\n",
    "slice_list = si.get_slice_list()\n",
    "loadings = si.get_bss_loadings()\n",
    "factors = si.get_bss_factors()\n",
    "num_factors = factors.shape[0]\n",
    "\n",
    "num_rows = 5\n",
    "num_figures = math.ceil(float(num_factors)/num_rows)\n",
    "print(loadings.shape, factors.shape, si.spec_x_array.shape)\n",
    "(nz, ny, nx, nf) = np.shape(si.spec_im)\n",
    "num_cols = 3 + nz\n",
    "show_scalebar=False\n",
    "\n",
    "for jj in range(num_figures):\n",
    "    plt.figure()\n",
    "    for kk in range(num_rows):\n",
    "        if jj*num_rows + kk >= num_factors:  \n",
    "            break\n",
    "        index = kk + jj*num_rows\n",
    "        # print(num_rows, num_cols, 3*kk + 1)\n",
    "        for ii in range(nz):\n",
    "            plt.subplot(num_rows, num_cols, num_cols*kk + 1 + ii)\n",
    "            if kk == 0:\n",
    "                z_pos = 'z = %0.2f $\\mu$m' % ((si.z_array[ii]-si.z_array[0])*1e3)\n",
    "            else:\n",
    "                z_pos = ''\n",
    "                \n",
    "            if kk==0 and ii==0:\n",
    "                show_scalebar=True\n",
    "            else:\n",
    "                show_scalebar=False\n",
    "            \n",
    "            si._plot(loadings[index, ii, :, :], cbar_orientation='vertical', cbar_position='right',\n",
    "                     title='%s' % z_pos, show_scalebar=show_scalebar)\n",
    "            # print(num_rows, num_cols, (3*kk + 2, 3*kk+3))\n",
    "        plt.subplot(num_rows, num_cols, (num_cols*kk + nz + 1, num_cols*kk + nz + 2))\n",
    "        si._plot_spec(factors[index,:])\n",
    "        plt.title('%d' % index)\n",
    "        "
   ]
  },
  {
   "cell_type": "code",
   "execution_count": null,
   "metadata": {
    "hidden": true
   },
   "outputs": [],
   "source": [
    "slice_list = si.get_slice_list()\n",
    "plt.figure()\n",
    "si.get_slice(slice_list[1])[330:360].plot()"
   ]
  },
  {
   "cell_type": "code",
   "execution_count": null,
   "metadata": {
    "hidden": true
   },
   "outputs": [],
   "source": [
    "mask = si.get_slice(slice_list[2])[330:360].spec_im.sum(axis=-1) < 7.95e4\n",
    "print(mask.shape)\n",
    "plt.figure()\n",
    "plt.imshow(mask)\n",
    "si.apply_mask(mask)"
   ]
  },
  {
   "cell_type": "code",
   "execution_count": null,
   "metadata": {
    "hidden": true
   },
   "outputs": [],
   "source": [
    "# mask2 = np.empty(np.shape(si.spec_im.sum(axis=-1)))\n",
    "# mask2[kk in range(np.size(si.z_array)), :, :, :] = mask\n",
    "# #si.apply_mask(mask2)\n",
    "# print('mask size', np.size(mask2), 'nonzero values in mask', np.count_nonzero(mask2.flatten()), '', np.size(si.spec_im.sum(axis=-1)))"
   ]
  },
  {
   "cell_type": "code",
   "execution_count": null,
   "metadata": {
    "hidden": true
   },
   "outputs": [],
   "source": [
    "si.decomposition(algorithm='svd', output_dimension=0.9999)\n",
    "si.plot_explained_variance_ratio()"
   ]
  },
  {
   "cell_type": "code",
   "execution_count": null,
   "metadata": {
    "hidden": true
   },
   "outputs": [],
   "source": [
    "si.blind_source_separation(number_of_components=10)"
   ]
  },
  {
   "cell_type": "code",
   "execution_count": null,
   "metadata": {
    "hidden": true
   },
   "outputs": [],
   "source": [
    "ii = 0\n",
    "slice_list = si.get_slice_list()\n",
    "loadings = si.get_bss_loadings()\n",
    "factors = si.get_bss_factors()\n",
    "num_factors = factors.shape[0]\n",
    "\n",
    "num_rows = 5\n",
    "num_figures = math.ceil(float(num_factors)/num_rows)\n",
    "print(loadings.shape, factors.shape, si.spec_x_array.shape)\n",
    "(nz, ny, nx, nf) = np.shape(si.spec_im)\n",
    "num_cols = 3 + nz\n",
    "show_scalebar=False\n",
    "\n",
    "for jj in range(num_figures):\n",
    "    plt.figure()\n",
    "    for kk in range(num_rows):\n",
    "        if jj*num_rows + kk >= num_factors:  \n",
    "            break\n",
    "        index = kk + jj*num_rows\n",
    "        # print(num_rows, num_cols, 3*kk + 1)\n",
    "        for ii in range(nz):\n",
    "            plt.subplot(num_rows, num_cols, num_cols*kk + 1 + ii)\n",
    "            if kk == 0:\n",
    "                z_pos = 'z = %0.2f $\\mu$m' % ((si.z_array[ii]-si.z_array[0])*1e3)\n",
    "            else:\n",
    "                z_pos = ''\n",
    "                \n",
    "            if kk==0 and ii==0:\n",
    "                show_scalebar=True\n",
    "            else:\n",
    "                show_scalebar=False\n",
    "            \n",
    "            si._plot(loadings[index, ii, :, :], cbar_orientation='vertical', cbar_position='right',\n",
    "                     title='%s' % z_pos, show_scalebar=show_scalebar)\n",
    "            # print(num_rows, num_cols, (3*kk + 2, 3*kk+3))\n",
    "        plt.subplot(num_rows, num_cols, (num_cols*kk + nz + 1, num_cols*kk + nz + 2))\n",
    "        si._plot_spec(factors[index,:])\n",
    "        plt.title('%d' % index)\n",
    "        "
   ]
  },
  {
   "cell_type": "code",
   "execution_count": null,
   "metadata": {
    "hidden": true
   },
   "outputs": [],
   "source": [
    "sc = s.get_decomposition_model(components=10)\n",
    "sc.plot()"
   ]
  },
  {
   "cell_type": "code",
   "execution_count": null,
   "metadata": {
    "hidden": true
   },
   "outputs": [],
   "source": [
    "print('asdf')"
   ]
  },
  {
   "cell_type": "code",
   "execution_count": null,
   "metadata": {
    "ExecuteTime": {
     "end_time": "2019-05-09T03:15:11.746130Z",
     "start_time": "2019-05-09T03:15:11.038090Z"
    },
    "hidden": true
   },
   "outputs": [],
   "source": [
    "plot_3d_decomp_results(sc, si, cmap='viridis', fig_rows=5)"
   ]
  },
  {
   "cell_type": "code",
   "execution_count": null,
   "metadata": {
    "hidden": true
   },
   "outputs": [],
   "source": [
    "sc = s.get_decomposition_model(components=4)\n",
    "sc.plot()"
   ]
  },
  {
   "cell_type": "code",
   "execution_count": null,
   "metadata": {
    "hidden": true
   },
   "outputs": [],
   "source": [
    "from hyperspy.signals import Signal2D"
   ]
  },
  {
   "cell_type": "code",
   "execution_count": null,
   "metadata": {
    "ExecuteTime": {
     "end_time": "2019-05-09T02:28:11.260808Z",
     "start_time": "2019-05-09T02:28:11.236807Z"
    },
    "hidden": true
   },
   "outputs": [],
   "source": [
    "from matplotlib.cm import ScalarMappable\n",
    "from mpl_toolkits.mplot3d import Axes3D\n",
    "from mpl_toolkits.axes_grid1 import make_axes_locatable\n",
    "\n",
    "def voxelplot(spec_im, arr, cmap='viridis', alpha=0.2, pmin=5, pmax=95, tval=35):\n",
    "    assert isinstance(spec_im, PLSpectralImage)\n",
    "    assert len(spec_im.z_array) > 1\n",
    "    \n",
    "    units, scaling = spec_im.get_unit_scaling()\n",
    "    x_array = spec_im.x_array*scaling\n",
    "    y_array = spec_im.y_array*scaling\n",
    "    z_array = spec_im.z_array*scaling\n",
    "    \n",
    "    dx = x_array[1] - x_array[0]\n",
    "    nx = len(x_array)\n",
    "    x_coords = np.linspace(0, x_array[-1]-x_array[0]+dx, num=nx+1)\n",
    "    \n",
    "    dy = y_array[1] - y_array[0]\n",
    "    ny = len(y_array)\n",
    "    y_coords = np.linspace(0, y_array[-1]-y_array[0]+dy, num=ny+1)\n",
    "    \n",
    "    dz = z_array[1] - z_array[0]\n",
    "    nz = len(z_array)\n",
    "    z_coords = np.linspace(0, z_array[-1]-z_array[0]+dz, num=nz+1)\n",
    "    \n",
    "    y_corners, x_corners, z_corners = np.meshgrid(y_coords, x_coords, z_coords)\n",
    "    \n",
    "    mapper = ScalarMappable(cmap=cmap)\n",
    "    mapper.set_array(arr)\n",
    "    mapper.set_clim(vmin=np.percentile(arr, pmin), vmax=np.percentile(arr, pmax))\n",
    "    tmin = np.percentile(arr, tval)\n",
    "    \n",
    "    vol = np.zeros(arr.shape + (4,))\n",
    "    filled = np.zeros(arr.shape, dtype=bool)\n",
    "    ec = np.zeros(arr.shape + (4,))\n",
    "    for kk in range(nz):\n",
    "#         print('calculating rgba vals for %d of %d layers' % (kk, nz))\n",
    "        vol[kk, :, :, :] = mapper.to_rgba(arr[kk, :, :], alpha=alpha, bytes=False)\n",
    "    filled[np.nonzero(arr > tmin)] = True\n",
    "    \n",
    "    fig = plt.figure()\n",
    "#     ax = plt.subplot(1,8,(1,7), projection='3d')\n",
    "    ax = fig.gca(projection='3d')\n",
    "#     divider = make_axes_locatable(ax)\n",
    "#     cax = plt.subplot(1,8,8)\n",
    "#     print('x_corners', x_corners.shape)\n",
    "#     print('y_corners', y_corners.shape)\n",
    "#     print('z_corners', z_corners.shape)\n",
    "#     print('filled', filled.shape)\n",
    "#     print('vol', vol.shape)\n",
    "    \n",
    "    vx = ax.voxels(x_corners, y_corners, z_corners, np.swapaxes(filled, 0, 2),\n",
    "              facecolors=np.swapaxes(vol, 0, 2), edgecolors=np.swapaxes(ec, 0, 2))\n",
    "    ax.set_xlabel(units)\n",
    "    ax.set_ylabel(units)\n",
    "    ax.set_zlabel(units)\n",
    "#     fig.colorbar(vx, cax=cax, orientation='vertical')\n",
    "    "
   ]
  },
  {
   "cell_type": "code",
   "execution_count": null,
   "metadata": {
    "ExecuteTime": {
     "end_time": "2019-05-09T02:28:20.867357Z",
     "start_time": "2019-05-09T02:28:11.863842Z"
    },
    "hidden": true,
    "scrolled": false
   },
   "outputs": [],
   "source": [
    "voxelplot(si, si.spec_im.sum(axis=-1), tval=80)"
   ]
  },
  {
   "cell_type": "code",
   "execution_count": null,
   "metadata": {
    "ExecuteTime": {
     "end_time": "2019-05-09T02:41:01.065838Z",
     "start_time": "2019-05-09T02:40:52.944374Z"
    },
    "hidden": true
   },
   "outputs": [],
   "source": [
    "voxelplot(si, list(sc.get_decomposition_loadings())[2].data, alpha=0.1, pmin=75, pmax=95, tval=90)"
   ]
  },
  {
   "cell_type": "code",
   "execution_count": null,
   "metadata": {
    "ExecuteTime": {
     "end_time": "2019-05-09T04:39:49.180543Z",
     "start_time": "2019-05-09T04:39:49.174543Z"
    },
    "hidden": true
   },
   "outputs": [],
   "source": [
    "print('asdf')"
   ]
  },
  {
   "cell_type": "code",
   "execution_count": null,
   "metadata": {
    "hidden": true
   },
   "outputs": [],
   "source": []
  }
 ],
 "metadata": {
  "celltoolbar": "Initialization Cell",
  "kernelspec": {
   "display_name": "Python 3",
   "language": "python",
   "name": "python3"
  },
  "language_info": {
   "codemirror_mode": {
    "name": "ipython",
    "version": 3
   },
   "file_extension": ".py",
   "mimetype": "text/x-python",
   "name": "python",
   "nbconvert_exporter": "python",
   "pygments_lexer": "ipython3",
   "version": "3.6.6"
  },
  "notify_time": "30",
  "toc": {
   "base_numbering": 1,
   "nav_menu": {
    "height": "221px",
    "width": "306px"
   },
   "number_sections": true,
   "sideBar": true,
   "skip_h1_title": false,
   "title_cell": "Table of Contents",
   "title_sidebar": "Contents",
   "toc_cell": false,
   "toc_position": {},
   "toc_section_display": true,
   "toc_window_display": true
  },
  "varInspector": {
   "cols": {
    "lenName": 16,
    "lenType": 16,
    "lenVar": 40
   },
   "kernels_config": {
    "python": {
     "delete_cmd_postfix": "",
     "delete_cmd_prefix": "del ",
     "library": "var_list.py",
     "varRefreshCmd": "print(var_dic_list())"
    },
    "r": {
     "delete_cmd_postfix": ") ",
     "delete_cmd_prefix": "rm(",
     "library": "var_list.r",
     "varRefreshCmd": "cat(var_dic_list()) "
    }
   },
   "types_to_exclude": [
    "module",
    "function",
    "builtin_function_or_method",
    "instance",
    "_Feature"
   ],
   "window_display": false
  }
 },
 "nbformat": 4,
 "nbformat_minor": 2
}
