{
 "cells": [
  {
   "cell_type": "markdown",
   "metadata": {},
   "source": [
    "# InGaN/GaN PL analysis"
   ]
  },
  {
   "cell_type": "code",
   "execution_count": 4,
   "metadata": {
    "ExecuteTime": {
     "end_time": "2019-05-30T20:58:43.407190Z",
     "start_time": "2019-05-30T20:58:43.105172Z"
    },
    "init_cell": true
   },
   "outputs": [],
   "source": [
    "%matplotlib qt\n",
    "import numpy as np\n",
    "import hyperspy.api as hs\n",
    "import hyperspy_gui_ipywidgets\n",
    "import seaborn as sns\n",
    "import os\n",
    "from spec_im import PLSpectralImage\n",
    "from spec_im import plot_si_bands, plot_pl_summary, gui_fname, plot_bss_results, plot_decomp_results\n",
    "import matplotlib.pyplot as plt\n",
    "\n",
    "sns.set()\n",
    "sns.set_style('ticks')\n",
    "\n",
    "hs.preferences.gui(toolkit=\"traitsui\")"
   ]
  },
  {
   "cell_type": "code",
   "execution_count": null,
   "metadata": {
    "ExecuteTime": {
     "end_time": "2019-05-30T00:03:48.773583Z",
     "start_time": "2019-05-30T00:03:44.911Z"
    }
   },
   "outputs": [],
   "source": [
    "plt.subplots_adjust(top=0.9)"
   ]
  },
  {
   "cell_type": "markdown",
   "metadata": {},
   "source": [
    "## Loading data from file"
   ]
  },
  {
   "cell_type": "code",
   "execution_count": 5,
   "metadata": {
    "ExecuteTime": {
     "end_time": "2019-05-30T20:58:43.415190Z",
     "start_time": "2019-05-30T20:58:43.411190Z"
    },
    "init_cell": true
   },
   "outputs": [],
   "source": [
    "# fname = gui_fname()\n",
    "fname = 'D:/Chris/BBOD_Share/uv_microscope/548 uGaN qw 5um 3 cryo/190422_171223_andor_asi_hyperspec_scan.h5'\n",
    "fpath = os.path.dirname(fname)\n",
    "fbase = os.path.splitext(fname)[0]\n",
    "sample = os.path.basename(fname)"
   ]
  },
  {
   "cell_type": "code",
   "execution_count": 6,
   "metadata": {
    "ExecuteTime": {
     "end_time": "2019-05-30T20:58:43.656204Z",
     "start_time": "2019-05-30T20:58:43.417190Z"
    },
    "init_cell": true
   },
   "outputs": [
    {
     "name": "stdout",
     "output_type": "stream",
     "text": [
      "Load from D:/Chris/BBOD_Share/uv_microscope/548 uGaN qw 5um 3 cryo/190422_171223_andor_asi_hyperspec_scan.h5 complete.\n",
      "1 x 51 x 51 spatial x 2000 spectral points\n"
     ]
    }
   ],
   "source": [
    "(os.path.dirname(fname),os.path.basename(fname))\n",
    "si = PLSpectralImage(fname=fname)"
   ]
  },
  {
   "cell_type": "code",
   "execution_count": null,
   "metadata": {
    "ExecuteTime": {
     "end_time": "2019-05-30T20:50:36.176322Z",
     "start_time": "2019-05-30T20:50:36.115318Z"
    }
   },
   "outputs": [],
   "source": [
    "si.plot_spec()"
   ]
  },
  {
   "cell_type": "code",
   "execution_count": null,
   "metadata": {
    "ExecuteTime": {
     "end_time": "2019-05-30T19:01:30.341921Z",
     "start_time": "2019-05-30T19:01:30.242916Z"
    }
   },
   "outputs": [],
   "source": [
    "si.set_background(lims=[600,900]) "
   ]
  },
  {
   "cell_type": "code",
   "execution_count": 7,
   "metadata": {
    "ExecuteTime": {
     "end_time": "2019-05-30T20:58:51.888675Z",
     "start_time": "2019-05-30T20:58:51.769668Z"
    }
   },
   "outputs": [],
   "source": [
    "si = si[354:700]"
   ]
  },
  {
   "cell_type": "code",
   "execution_count": 8,
   "metadata": {
    "ExecuteTime": {
     "end_time": "2019-05-30T20:58:53.569771Z",
     "start_time": "2019-05-30T20:58:53.041741Z"
    }
   },
   "outputs": [
    {
     "name": "stdout",
     "output_type": "stream",
     "text": [
      "Interpolating spectral data from nm to eV\n",
      "354.10366588180545 to 638.0430830917055 nm\n",
      "51 x 51 spatial x 1927 spectral points\n"
     ]
    }
   ],
   "source": [
    "esi = si.to_energy()"
   ]
  },
  {
   "cell_type": "markdown",
   "metadata": {},
   "source": [
    "## Summary"
   ]
  },
  {
   "cell_type": "code",
   "execution_count": 9,
   "metadata": {
    "ExecuteTime": {
     "end_time": "2019-05-30T20:58:55.016854Z",
     "start_time": "2019-05-30T20:58:54.568828Z"
    }
   },
   "outputs": [],
   "source": [
    "f0 = plot_pl_summary(si, show_axes=False, show_scalebar=True, scalebar_alpha=0.5)\n",
    "plt.subplots_adjust(top=0.9)\n",
    "f01 = plot_pl_summary(esi,show_axes=False, show_scalebar=True, scalebar_alpha=0.5)\n",
    "plt.subplots_adjust(top=0.9)"
   ]
  },
  {
   "cell_type": "code",
   "execution_count": null,
   "metadata": {
    "ExecuteTime": {
     "end_time": "2019-05-30T20:55:50.258286Z",
     "start_time": "2019-05-30T20:55:50.252286Z"
    }
   },
   "outputs": [],
   "source": [
    "plt.subplots_adjust(top=0.8)"
   ]
  },
  {
   "cell_type": "markdown",
   "metadata": {},
   "source": [
    "## Plot data vs eV"
   ]
  },
  {
   "cell_type": "code",
   "execution_count": null,
   "metadata": {
    "ExecuteTime": {
     "end_time": "2019-05-29T23:04:14.582151Z",
     "start_time": "2019-05-29T23:04:13.862110Z"
    },
    "scrolled": true
   },
   "outputs": [],
   "source": [
    "images = []\n",
    "labels = []\n",
    "for kk in range(10):\n",
    "    img = s.isig[(2.5+kk*0.1):(2.6+kk*0.1)].sum(axis=-1).transpose()\n",
    "    images.append(img)\n",
    "    labels.append('%0.1f to %0.1f eV' % ((2.5+kk*0.1), (2.6+kk*0.1)))\n",
    "hs.plot.plot_images(images, labelwrap=20, cmap='viridis', per_row=5, label=labels, suptitle=si.name, axes_decor='off', scalebar=[0,])"
   ]
  },
  {
   "cell_type": "code",
   "execution_count": 10,
   "metadata": {
    "ExecuteTime": {
     "end_time": "2019-05-30T20:59:06.136490Z",
     "start_time": "2019-05-30T20:59:04.553399Z"
    },
    "scrolled": true
   },
   "outputs": [],
   "source": [
    "f1 = plot_si_bands(esi, \n",
    "            (2.5,2.6,'viridis',''), (2.6,2.7,'viridis',''), (2.7,2.8,'viridis',''), (2.8,2.9,'viridis',''), (2.9,3.0,'viridis',''),\n",
    "            (3.0,3.1,'viridis',''), (3.1,3.2,'viridis',''), (3.2,3.3,'viridis',''), (3.3,3.4,'viridis',''), (3.4,3.5,'viridis',''),\n",
    "            no_of_cols=5, percentile=5, show_axes=False, show_scalebar=True, scalebar_alpha=0.5)\n",
    "f1.set_size_inches(10,7)\n",
    "f1.tight_layout(h_pad=1)"
   ]
  },
  {
   "cell_type": "markdown",
   "metadata": {},
   "source": [
    "## Hyperspy signal setup"
   ]
  },
  {
   "cell_type": "code",
   "execution_count": 11,
   "metadata": {
    "ExecuteTime": {
     "end_time": "2019-05-30T21:01:16.387940Z",
     "start_time": "2019-05-30T21:01:15.970916Z"
    },
    "scrolled": false
   },
   "outputs": [],
   "source": [
    "# plot an interactive map with spectra at each location\n",
    "s = esi.to_signal()\n",
    "s.plot(navigator_kwds={'cmap': 'viridis'})\n",
    "# roi = hs.roi.RectangularROI(left=0, right=100., top=0, bottom=100.)\n",
    "# scrop = roi.interactive(s)"
   ]
  },
  {
   "cell_type": "code",
   "execution_count": null,
   "metadata": {
    "ExecuteTime": {
     "end_time": "2019-05-22T22:13:14.324265Z",
     "start_time": "2019-05-22T22:13:14.056250Z"
    }
   },
   "outputs": [],
   "source": [
    "(s.sum(axis=-1) > 0.9e9).plot(navigator_kwds={'cmap': 'viridis'})"
   ]
  },
  {
   "cell_type": "code",
   "execution_count": null,
   "metadata": {
    "ExecuteTime": {
     "end_time": "2019-05-22T22:13:06.631825Z",
     "start_time": "2019-05-22T22:13:06.600823Z"
    }
   },
   "outputs": [],
   "source": [
    "mask = s.sum(axis=-1) < 0.9e9\n",
    "mask"
   ]
  },
  {
   "cell_type": "code",
   "execution_count": 13,
   "metadata": {
    "ExecuteTime": {
     "end_time": "2019-05-30T21:01:47.613726Z",
     "start_time": "2019-05-30T21:01:46.736676Z"
    }
   },
   "outputs": [
    {
     "data": {
      "application/vnd.jupyter.widget-view+json": {
       "model_id": "",
       "version_major": 2,
       "version_minor": 0
      },
      "text/plain": [
       "VBox(children=(VBox(children=(Button(description='Show derivative histogram', layout=Layout(width='auto'), sty…"
      ]
     },
     "metadata": {},
     "output_type": "display_data"
    }
   ],
   "source": [
    "s.spikes_removal_tool()"
   ]
  },
  {
   "cell_type": "code",
   "execution_count": null,
   "metadata": {},
   "outputs": [],
   "source": [
    "scrop.plot()"
   ]
  },
  {
   "cell_type": "code",
   "execution_count": null,
   "metadata": {},
   "outputs": [],
   "source": [
    "s = scrop"
   ]
  },
  {
   "cell_type": "code",
   "execution_count": null,
   "metadata": {
    "ExecuteTime": {
     "end_time": "2019-05-22T22:08:27.135839Z",
     "start_time": "2019-05-22T22:08:27.127839Z"
    }
   },
   "outputs": [],
   "source": [
    "s"
   ]
  },
  {
   "cell_type": "markdown",
   "metadata": {},
   "source": [
    "## PCA with SVD, BSS"
   ]
  },
  {
   "cell_type": "code",
   "execution_count": 14,
   "metadata": {
    "ExecuteTime": {
     "end_time": "2019-05-30T21:03:01.041926Z",
     "start_time": "2019-05-30T21:02:54.510552Z"
    }
   },
   "outputs": [
    {
     "data": {
      "text/plain": [
       "<matplotlib.axes._subplots.AxesSubplot at 0x1f898780>"
      ]
     },
     "execution_count": 14,
     "metadata": {},
     "output_type": "execute_result"
    }
   ],
   "source": [
    "# perform principal component analysis, look at the explained variance\n",
    "s.decomposition(algorithm='svd',)\n",
    "s.plot_explained_variance_ratio()"
   ]
  },
  {
   "cell_type": "code",
   "execution_count": 15,
   "metadata": {
    "ExecuteTime": {
     "end_time": "2019-05-30T21:03:01.899975Z",
     "start_time": "2019-05-30T21:03:01.416947Z"
    }
   },
   "outputs": [
    {
     "data": {
      "application/vnd.jupyter.widget-view+json": {
       "model_id": "069b6c9c507248b8ade4f700b492274f",
       "version_major": 2,
       "version_minor": 0
      },
      "text/plain": [
       "VBox(children=(HBox(children=(Label(value='Decomposition component index', layout=Layout(width='15%')), IntSli…"
      ]
     },
     "metadata": {},
     "output_type": "display_data"
    }
   ],
   "source": [
    "s.plot_decomposition_results()"
   ]
  },
  {
   "cell_type": "code",
   "execution_count": 16,
   "metadata": {
    "ExecuteTime": {
     "end_time": "2019-05-30T21:03:56.044072Z",
     "start_time": "2019-05-30T21:03:56.038071Z"
    }
   },
   "outputs": [],
   "source": [
    "COMPS = 16"
   ]
  },
  {
   "cell_type": "code",
   "execution_count": 17,
   "metadata": {
    "ExecuteTime": {
     "end_time": "2019-05-30T21:04:01.739397Z",
     "start_time": "2019-05-30T21:03:57.461153Z"
    },
    "scrolled": false
   },
   "outputs": [
    {
     "data": {
      "text/plain": [
       "[<Figure size 1000x1000 with 12 Axes>,\n",
       " <Figure size 1000x1000 with 12 Axes>,\n",
       " <Figure size 1000x1000 with 12 Axes>,\n",
       " <Figure size 1000x1000 with 12 Axes>]"
      ]
     },
     "execution_count": 17,
     "metadata": {},
     "output_type": "execute_result"
    }
   ],
   "source": [
    "# take a look at orthogonalized \n",
    "plot_bss_results(s, esi, title='BSS', cmap='viridis', fig_rows=4, components=COMPS, max_iter=2000, \n",
    "                show_axes=False, show_scalebar=True, scalebar_alpha=0.5)\n",
    "# s.blind_source_separation(number_of_components=COMPS, max_iter=2000, on_loadings=True)\n",
    "# hs.plot.plot_images(s.get_bss_loadings(), labelwrap=20, cmap='viridis', per_row=1, suptitle='BSS loadings of %s' % si.name, axes_decor='off', scalebar=[0,])\n",
    "# hs.plot.plot_spectra(s.get_bss_factors(), style='mosaic', legend='auto')"
   ]
  },
  {
   "cell_type": "code",
   "execution_count": null,
   "metadata": {
    "ExecuteTime": {
     "end_time": "2019-05-09T15:22:36.979495Z",
     "start_time": "2019-05-09T15:22:36.038441Z"
    }
   },
   "outputs": [],
   "source": [
    "list(s.get_decomposition_factors())[0].data.shape"
   ]
  },
  {
   "cell_type": "code",
   "execution_count": null,
   "metadata": {
    "ExecuteTime": {
     "end_time": "2019-05-09T15:22:50.144248Z",
     "start_time": "2019-05-09T15:22:50.137248Z"
    }
   },
   "outputs": [],
   "source": [
    "si.spec_im.shape"
   ]
  },
  {
   "cell_type": "markdown",
   "metadata": {},
   "source": [
    "## PCA with NMF"
   ]
  },
  {
   "cell_type": "code",
   "execution_count": null,
   "metadata": {
    "ExecuteTime": {
     "end_time": "2019-05-30T00:14:38.600751Z",
     "start_time": "2019-05-30T00:14:36.399625Z"
    }
   },
   "outputs": [],
   "source": [
    "plot_decomp_results(s, esi, title='NMF', cmap='viridis', fig_rows=4, algorithm='nmf', output_dimension=COMPS,\n",
    "                   show_axes=False, show_scalebar=True, scalebar_alpha=0.5)\n",
    "#s.decomposition(algorithm='nmf', output_dimension=COMPS)\n",
    "#hs.plot.plot_images(s.get_decomposition_loadings())\n",
    "#hs.plot.plot_spectra(s.get_decomposition_factors(), style='mosaic')"
   ]
  },
  {
   "cell_type": "code",
   "execution_count": null,
   "metadata": {
    "ExecuteTime": {
     "end_time": "2019-05-24T17:29:30.191355Z",
     "start_time": "2019-05-24T17:29:29.333306Z"
    }
   },
   "outputs": [],
   "source": [
    "s.plot_decomposition_results()"
   ]
  },
  {
   "cell_type": "code",
   "execution_count": null,
   "metadata": {
    "ExecuteTime": {
     "end_time": "2019-05-24T17:21:49.930030Z",
     "start_time": "2019-05-24T17:21:45.193759Z"
    }
   },
   "outputs": [],
   "source": [
    "sig_list = []\n",
    "load_list = list(s.get_decomposition_loadings())\n",
    "factor_list = list(s.get_decomposition_factors())\n",
    "\n",
    "for kk in range(COMPS):\n",
    "    sig_list.append(load_list[kk])\n",
    "    sig_list.append(factor_list[kk])\n",
    "\n",
    "hs.plot.plot_signals(sig_list)"
   ]
  },
  {
   "cell_type": "markdown",
   "metadata": {},
   "source": [
    "## Save PDF"
   ]
  },
  {
   "cell_type": "code",
   "execution_count": null,
   "metadata": {
    "ExecuteTime": {
     "end_time": "2019-05-30T00:15:53.023008Z",
     "start_time": "2019-05-30T00:14:54.381654Z"
    },
    "scrolled": true
   },
   "outputs": [],
   "source": [
    "import matplotlib.backends.backend_pdf\n",
    "pdf = matplotlib.backends.backend_pdf.PdfPages(fbase+\"_decomp.pdf\")\n",
    "for fig in range(1, plt.figure().number): ## will open an empty extra figure :(\n",
    "    pdf.savefig( fig )\n",
    "pdf.close()\n",
    "plt.close(fig='all')"
   ]
  },
  {
   "cell_type": "code",
   "execution_count": null,
   "metadata": {},
   "outputs": [],
   "source": [
    "print('test')"
   ]
  },
  {
   "cell_type": "code",
   "execution_count": null,
   "metadata": {
    "ExecuteTime": {
     "end_time": "2019-05-24T17:25:08.946413Z",
     "start_time": "2019-05-24T17:25:08.466385Z"
    }
   },
   "outputs": [],
   "source": [
    "sc = s.get_decomposition_model()\n",
    "sc.plot()"
   ]
  },
  {
   "cell_type": "code",
   "execution_count": null,
   "metadata": {
    "ExecuteTime": {
     "end_time": "2019-05-24T17:25:29.644596Z",
     "start_time": "2019-05-24T17:25:29.221572Z"
    }
   },
   "outputs": [],
   "source": [
    "(s-sc).plot()"
   ]
  },
  {
   "cell_type": "code",
   "execution_count": null,
   "metadata": {
    "ExecuteTime": {
     "end_time": "2019-05-24T18:46:51.486822Z",
     "start_time": "2019-05-24T18:46:51.463821Z"
    }
   },
   "outputs": [],
   "source": [
    "m = sc.create_model()"
   ]
  },
  {
   "cell_type": "code",
   "execution_count": null,
   "metadata": {
    "ExecuteTime": {
     "end_time": "2019-05-24T18:46:56.443105Z",
     "start_time": "2019-05-24T18:46:56.398103Z"
    }
   },
   "outputs": [],
   "source": [
    "bkg = hs.model.components1D.Offset(offset=3.2e6) \n",
    "bkg.offset.bmin = 0.0\n",
    "bkg.offset.bmax = 1e8\n",
    "bkg.offset.bounded = True\n",
    "gan1 = hs.model.components1D.Lorentzian(centre=3.4,)\n",
    "gan1.A.value = 2e7\n",
    "gan1.A.bmin = 0.0\n",
    "gan1.A.bmax = 1e8\n",
    "gan1.A.bounded = True\n",
    "gan1.centre.bmin = gan1.centre.value - 0.05\n",
    "gan1.centre.bmax = gan1.centre.value + 0.05\n",
    "gan1.centre.bounded = True\n",
    "gan1.gamma.bmin = -10\n",
    "gan1.gamma.bmax = 20.0\n",
    "gan1.gamma.bounded = True\n",
    "gan1.gamma.value = 0.1\n",
    "gan2 = hs.model.components1D.Lorentzian(centre=3.25,)\n",
    "gan2.A.value = 2e7\n",
    "gan2.A.bmin = -10\n",
    "gan2.A.bmax = 1e8\n",
    "gan2.A.bounded = True\n",
    "gan2.centre.bmin = gan2.centre.value - 0.05\n",
    "gan2.centre.bmax = gan2.centre.value + 0.05\n",
    "gan2.centre.bounded = True\n",
    "gan2.gamma.bmin = -10\n",
    "gan2.gamma.bmax = 20.0\n",
    "gan2.gamma.bounded = True\n",
    "gan2.gamma.value = 0.1\n",
    "ingan1 = hs.model.components1D.Lorentzian(centre=3.06,)\n",
    "ingan1.A.value = 2e7\n",
    "ingan1.A.bmin = -10\n",
    "ingan1.A.bmax = 1e8\n",
    "ingan1.A.bounded = True\n",
    "ingan1.centre.bmin = ingan1.centre.value - 0.05\n",
    "ingan1.centre.bmax = ingan1.centre.value + 0.05\n",
    "ingan1.centre.bounded = True\n",
    "ingan1.gamma.value = 0.1\n",
    "ingan1.gamma.bmin = -10\n",
    "ingan1.gamma.bmax = 20.0\n",
    "ingan1.gamma.bounded = True\n",
    "ingan2 = hs.model.components1D.Lorentzian(centre=2.89,)\n",
    "ingan2.A.value = 2e7\n",
    "ingan2.A.bmin = 0.0\n",
    "ingan2.A.bmax = 1e8\n",
    "ingan2.A.bounded = True\n",
    "ingan2.centre.bmin = ingan2.centre.value - 0.05\n",
    "ingan2.centre.bmax = ingan2.centre.value + 0.05\n",
    "ingan2.centre.bounded = True\n",
    "ingan2.gamma.value = 0.1\n",
    "ingan2.gamma.bmin = -10\n",
    "ingan2.gamma.bmax = 20.0\n",
    "ingan2.gamma.bounded = True\n",
    "ingan3 = hs.model.components1D.Lorentzian(centre=2.78,)\n",
    "ingan3.A.value = 2e7\n",
    "ingan3.A.bmin = 0.0\n",
    "ingan3.A.bmax = 1e8\n",
    "ingan3.A.bounded = True\n",
    "ingan3.centre.bmin = ingan3.centre.value - 0.05\n",
    "ingan3.centre.bmax = ingan3.centre.value + 0.05\n",
    "ingan3.centre.bounded = True\n",
    "ingan3.gamma.value = 0.1\n",
    "ingan3.gamma.bmin = -10\n",
    "ingan3.gamma.bmax = 20.0\n",
    "ingan3.gamma.bounded = True"
   ]
  },
  {
   "cell_type": "code",
   "execution_count": null,
   "metadata": {
    "ExecuteTime": {
     "end_time": "2019-05-24T18:46:57.025139Z",
     "start_time": "2019-05-24T18:46:57.014138Z"
    }
   },
   "outputs": [],
   "source": [
    "m.extend((bkg, gan1, gan2, ingan1, ingan2, ingan3))"
   ]
  },
  {
   "cell_type": "code",
   "execution_count": null,
   "metadata": {
    "ExecuteTime": {
     "end_time": "2019-05-24T18:46:57.557169Z",
     "start_time": "2019-05-24T18:46:57.551169Z"
    }
   },
   "outputs": [],
   "source": [
    "m.components.Offset.name = 'bkg'\n",
    "m.components.Lorentzian.name = 'gan1'\n",
    "m.components.Lorentzian_0.name = 'gan2'\n",
    "m.components.Lorentzian_1.name = 'ingan1'\n",
    "m.components.Lorentzian_2.name = 'ingan2'\n",
    "m.components.Lorentzian_3.name = 'ingan3'"
   ]
  },
  {
   "cell_type": "code",
   "execution_count": null,
   "metadata": {
    "ExecuteTime": {
     "end_time": "2019-05-24T18:46:58.583228Z",
     "start_time": "2019-05-24T18:46:58.125202Z"
    }
   },
   "outputs": [],
   "source": [
    "m.fit(bounded=True)"
   ]
  },
  {
   "cell_type": "code",
   "execution_count": null,
   "metadata": {
    "ExecuteTime": {
     "end_time": "2019-05-24T18:46:58.956249Z",
     "start_time": "2019-05-24T18:46:58.909246Z"
    }
   },
   "outputs": [],
   "source": [
    "m.print_current_values()"
   ]
  },
  {
   "cell_type": "code",
   "execution_count": null,
   "metadata": {
    "ExecuteTime": {
     "end_time": "2019-05-24T18:47:04.529568Z",
     "start_time": "2019-05-24T18:47:04.022539Z"
    }
   },
   "outputs": [],
   "source": [
    "m.plot(plot_components=True)"
   ]
  },
  {
   "cell_type": "code",
   "execution_count": null,
   "metadata": {
    "ExecuteTime": {
     "end_time": "2019-05-24T18:33:46.682934Z",
     "start_time": "2019-05-24T18:33:46.674933Z"
    }
   },
   "outputs": [],
   "source": [
    "m.components.gan1.A.value"
   ]
  },
  {
   "cell_type": "code",
   "execution_count": null,
   "metadata": {},
   "outputs": [],
   "source": [
    "# perform principal component analysis, look at the explained variance\n",
    "scrop.decomposition(algorithm='svd')\n",
    "scrop.plot_explained_variance_ratio()"
   ]
  },
  {
   "cell_type": "code",
   "execution_count": null,
   "metadata": {},
   "outputs": [],
   "source": [
    "# take a look at orthogonalized \n",
    "scrop.blind_source_separation(number_of_components=8,on_loadings=True,max_iter=1000)\n",
    "fncn.plot_hs_results(scrop.get_bss_loadings(),scrop.get_bss_factors(),fncn.get_hs_axes(scrop),title='BSS',cmap='viridis')"
   ]
  },
  {
   "cell_type": "code",
   "execution_count": null,
   "metadata": {
    "scrolled": true
   },
   "outputs": [],
   "source": [
    "np.shape(fncn.get_hs_axes(s)[2])"
   ]
  },
  {
   "cell_type": "code",
   "execution_count": null,
   "metadata": {},
   "outputs": [],
   "source": [
    "np.shape(fncn.get_hs_axes(scrop)[1])"
   ]
  },
  {
   "cell_type": "code",
   "execution_count": null,
   "metadata": {},
   "outputs": [],
   "source": [
    "dh.max()"
   ]
  },
  {
   "cell_type": "code",
   "execution_count": null,
   "metadata": {},
   "outputs": [],
   "source": [
    "span"
   ]
  },
  {
   "cell_type": "code",
   "execution_count": null,
   "metadata": {},
   "outputs": [],
   "source": [
    "span[0]*1e-9"
   ]
  },
  {
   "cell_type": "code",
   "execution_count": null,
   "metadata": {},
   "outputs": [],
   "source": [
    "from spec_im import CLSpectralImage\n",
    "\n",
    "test_si = CLSpectralImage(fname=fname)"
   ]
  },
  {
   "cell_type": "code",
   "execution_count": null,
   "metadata": {},
   "outputs": [],
   "source": [
    "test_si"
   ]
  },
  {
   "cell_type": "code",
   "execution_count": null,
   "metadata": {},
   "outputs": [],
   "source": [
    "test_si.plot()"
   ]
  },
  {
   "cell_type": "code",
   "execution_count": null,
   "metadata": {},
   "outputs": [],
   "source": [
    "plt.figure()\n",
    "test_si[355:384].plot()"
   ]
  },
  {
   "cell_type": "code",
   "execution_count": null,
   "metadata": {},
   "outputs": [],
   "source": [
    "plt.figure()\n",
    "test_si.to_energy()[2.5:2.6].plot()"
   ]
  },
  {
   "cell_type": "code",
   "execution_count": null,
   "metadata": {},
   "outputs": [],
   "source": [
    "test_si.spec_x_array"
   ]
  },
  {
   "cell_type": "code",
   "execution_count": null,
   "metadata": {},
   "outputs": [],
   "source": [
    "dir(si)"
   ]
  },
  {
   "cell_type": "code",
   "execution_count": null,
   "metadata": {},
   "outputs": [],
   "source": [
    "list = ['1','2','3']"
   ]
  },
  {
   "cell_type": "code",
   "execution_count": null,
   "metadata": {},
   "outputs": [],
   "source": [
    "kwarg_print(**{i: ord(i) for i in list})"
   ]
  },
  {
   "cell_type": "code",
   "execution_count": null,
   "metadata": {},
   "outputs": [],
   "source": [
    "def kwarg_print(a='asdf',**kwargs):\n",
    "    print(a)\n",
    "    for kw in kwargs.keys():\n",
    "        print(kw, kwargs[kw])"
   ]
  },
  {
   "cell_type": "code",
   "execution_count": null,
   "metadata": {},
   "outputs": [],
   "source": [
    "esi.dat['se'].shape"
   ]
  },
  {
   "cell_type": "code",
   "execution_count": null,
   "metadata": {},
   "outputs": [],
   "source": [
    "esi.dat['cntr'].shape"
   ]
  },
  {
   "cell_type": "code",
   "execution_count": null,
   "metadata": {},
   "outputs": [],
   "source": []
  },
  {
   "cell_type": "code",
   "execution_count": null,
   "metadata": {},
   "outputs": [],
   "source": [
    "si.dat"
   ]
  },
  {
   "cell_type": "code",
   "execution_count": null,
   "metadata": {},
   "outputs": [],
   "source": [
    "si.plot_ctr('ctr1')"
   ]
  },
  {
   "cell_type": "code",
   "execution_count": null,
   "metadata": {},
   "outputs": [],
   "source": [
    "plt.semilogy(s.get_explained_variance_ratio().data)"
   ]
  },
  {
   "cell_type": "code",
   "execution_count": null,
   "metadata": {},
   "outputs": [],
   "source": [
    "np.searchsorted(np.flip(s.get_explained_variance_ratio()).data,1e-4)"
   ]
  },
  {
   "cell_type": "code",
   "execution_count": null,
   "metadata": {},
   "outputs": [],
   "source": [
    "s.get_explained_variance_ratio().data.shape"
   ]
  },
  {
   "cell_type": "code",
   "execution_count": null,
   "metadata": {},
   "outputs": [],
   "source": [
    "si.dat"
   ]
  },
  {
   "cell_type": "code",
   "execution_count": null,
   "metadata": {},
   "outputs": [],
   "source": [
    "from h5py import File\n",
    "fh = File(fname)"
   ]
  },
  {
   "cell_type": "code",
   "execution_count": null,
   "metadata": {},
   "outputs": [],
   "source": [
    "tree = h5_to_dictionary(fh, debug=True)"
   ]
  },
  {
   "cell_type": "code",
   "execution_count": null,
   "metadata": {},
   "outputs": [],
   "source": [
    "fh.close()"
   ]
  },
  {
   "cell_type": "code",
   "execution_count": null,
   "metadata": {},
   "outputs": [],
   "source": [
    "tree['measurement']['andor_asi_hyperspec_scan']['spec_map'].shape"
   ]
  },
  {
   "cell_type": "code",
   "execution_count": null,
   "metadata": {},
   "outputs": [],
   "source": [
    "list(fh['app'].items())"
   ]
  },
  {
   "cell_type": "code",
   "execution_count": null,
   "metadata": {},
   "outputs": [],
   "source": [
    "for kk in list(fh['app']['settings'].items()): print(kk[0], kk[1])"
   ]
  },
  {
   "cell_type": "code",
   "execution_count": null,
   "metadata": {},
   "outputs": [],
   "source": [
    "for kk in list(fh['measurement']['andor_asi_hyperspec_scan'].items()): \n",
    "    print(kk[0],kk[1])\n",
    "    if 'HDF5 dataset' in str(kk[1]): \n",
    "        print('that is a dataset')"
   ]
  },
  {
   "cell_type": "code",
   "execution_count": null,
   "metadata": {},
   "outputs": [],
   "source": [
    "'a' in 'abc'"
   ]
  },
  {
   "cell_type": "code",
   "execution_count": null,
   "metadata": {},
   "outputs": [],
   "source": [
    "tree.keys()"
   ]
  },
  {
   "cell_type": "code",
   "execution_count": null,
   "metadata": {},
   "outputs": [],
   "source": []
  }
 ],
 "metadata": {
  "celltoolbar": "Initialization Cell",
  "kernelspec": {
   "display_name": "Python 3",
   "language": "python",
   "name": "python3"
  },
  "language_info": {
   "codemirror_mode": {
    "name": "ipython",
    "version": 3
   },
   "file_extension": ".py",
   "mimetype": "text/x-python",
   "name": "python",
   "nbconvert_exporter": "python",
   "pygments_lexer": "ipython3",
   "version": "3.6.6"
  },
  "notify_time": "10",
  "toc": {
   "base_numbering": 1,
   "nav_menu": {},
   "number_sections": true,
   "sideBar": true,
   "skip_h1_title": false,
   "title_cell": "Table of Contents",
   "title_sidebar": "Contents",
   "toc_cell": false,
   "toc_position": {
    "height": "calc(100% - 180px)",
    "left": "10px",
    "top": "150px",
    "width": "226.391px"
   },
   "toc_section_display": true,
   "toc_window_display": true
  },
  "varInspector": {
   "cols": {
    "lenName": 16,
    "lenType": 16,
    "lenVar": 40
   },
   "kernels_config": {
    "python": {
     "delete_cmd_postfix": "",
     "delete_cmd_prefix": "del ",
     "library": "var_list.py",
     "varRefreshCmd": "print(var_dic_list())"
    },
    "r": {
     "delete_cmd_postfix": ") ",
     "delete_cmd_prefix": "rm(",
     "library": "var_list.r",
     "varRefreshCmd": "cat(var_dic_list()) "
    }
   },
   "types_to_exclude": [
    "module",
    "function",
    "builtin_function_or_method",
    "instance",
    "_Feature"
   ],
   "window_display": false
  }
 },
 "nbformat": 4,
 "nbformat_minor": 2
}
