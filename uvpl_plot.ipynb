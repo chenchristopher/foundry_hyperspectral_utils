{
 "cells": [
  {
   "cell_type": "markdown",
   "metadata": {},
   "source": [
    "# InGaN/GaN UV PL analysis\n",
    "\n",
    "Input: filename of UV PL h5 file to analyze \n",
    "Output: "
   ]
  },
  {
   "cell_type": "code",
   "execution_count": 7,
   "metadata": {},
   "outputs": [],
   "source": [
    "%matplotlib qt\n",
    "import numpy as np\n",
    "import matplotlib.pyplot as plt\n",
    "import h5py as h5\n",
    "import pandas as pd \n",
    "import IPython\n",
    "import hyperspy.api as hs\n",
    "import hyperspy_gui_ipywidgets\n",
    "import hyperspy.signals as sgl\n",
    "import ctc_funcs as fncn\n",
    "import matplotlib\n",
    "import scipy as sp\n",
    "import seaborn as sns\n",
    "from qtpy import QtWidgets\n",
    "import os\n",
    "\n",
    "def gui_fname(dir=None):\n",
    "    \"\"\"Select a file via a dialog and return the file name\"\"\"\n",
    "    if dir is None: dir = '../'\n",
    "    fname = QtWidgets.QFileDialog.getOpenFileName(None, \"select data file...\", dir, filter=\"h5 files (*asi_OO_hyperspec_scan.h5)\")\n",
    "    return fname[0]"
   ]
  },
  {
   "cell_type": "markdown",
   "metadata": {},
   "source": [
    "## Loading data from file"
   ]
  },
  {
   "cell_type": "code",
   "execution_count": 8,
   "metadata": {},
   "outputs": [],
   "source": [
    "fname = gui_fname()\n",
    "fbase = os.path.splitext(fname)[0]\n",
    "sns.set()\n",
    "sns.set_style('ticks')"
   ]
  },
  {
   "cell_type": "code",
   "execution_count": 9,
   "metadata": {},
   "outputs": [
    {
     "name": "stdout",
     "output_type": "stream",
     "text": [
      "Loading UVPL scan: D:/Chris/Google Drive/CoSES/Data/UV PL/25K 548 uGaN qw 5um 3 10kHz/190325_132351_asi_OO_hyperspec_scan.h5\n",
      "Sample: 25K 548 uGaN qw 5um 3 10kHz \n",
      "Correcting negative minimum value in spec map: -3.0\n",
      "43 x 42 spatial x 1044 spectral points\n"
     ]
    }
   ],
   "source": [
    "(sample, wls, spec_map, h_array, v_array, nh, nv, nf, dh, dv) = fncn.load_uvpl_map(fname)"
   ]
  },
  {
   "cell_type": "code",
   "execution_count": 10,
   "metadata": {},
   "outputs": [
    {
     "name": "stdout",
     "output_type": "stream",
     "text": [
      "Interpolating spectral data from nm to eV\n",
      "330.5604670320708 to 800.2132730178669 nm\n",
      "43 x 42 spatial x 610 spectral points\n"
     ]
    }
   ],
   "source": [
    "(En, En_spec_map, ne) = fncn.rebin_spec_map(spec_map, wls,spec_min=330,spec_max=800)"
   ]
  },
  {
   "cell_type": "markdown",
   "metadata": {},
   "source": [
    "## Plot data vs wavelength"
   ]
  },
  {
   "cell_type": "code",
   "execution_count": 13,
   "metadata": {},
   "outputs": [],
   "source": [
    "f = fncn.plot_all_data(wls,spec_map,linlog=False)\n",
    "plt.xlabel('Wavelength (nm)')\n",
    "plt.ylabel('Spectrometer CCD counts (a.u.)')\n",
    "plt.title(sample + ': summed spectrum');"
   ]
  },
  {
   "cell_type": "code",
   "execution_count": 14,
   "metadata": {},
   "outputs": [
    {
     "name": "stdout",
     "output_type": "stream",
     "text": [
      "Desired spectral range: 330 to 355\n",
      "Integrating indicies from 179 to 210\n",
      "Desired spectral range: 355 to 384\n",
      "Integrating indicies from 210 to 247\n",
      "Desired spectral range: 384 to 410\n",
      "Integrating indicies from 247 to 280\n",
      "Desired spectral range: 410 to 480\n",
      "Integrating indicies from 280 to 370\n",
      "Desired spectral range: 480 to 650\n",
      "Integrating indicies from 370 to 591\n"
     ]
    }
   ],
   "source": [
    "# Use this function to plot summed maps in the spectral regions corresponding to PL, Si Raman, and WS2 Raman\n",
    "f2 = fncn.plot_spec_bands(spec_map,wls,v_array,h_array,sample,' [nm] spec bands',\n",
    "            (330,355,'plasma','laser'),\n",
    "            (355,384,'plasma','GaN'),\n",
    "            (384,410,'plasma','InGaN 1'),\n",
    "            (410,480,'plasma','InGaN 2'),\n",
    "            (480,650,'plasma','defect'),\n",
    "            no_of_cols=3,\n",
    "            percentile=3)\n",
    "\n",
    "plt.tight_layout(h_pad=1)\n",
    "f2.set_size_inches(7,7)"
   ]
  },
  {
   "cell_type": "markdown",
   "metadata": {},
   "source": [
    "## Plot data vs eV"
   ]
  },
  {
   "cell_type": "code",
   "execution_count": 15,
   "metadata": {},
   "outputs": [],
   "source": [
    "f3 = fncn.plot_all_data(En,En_spec_map,linlog=False)\n",
    "plt.xlabel('$E$ (eV)')\n",
    "plt.ylabel('I($E$) (a.u.)')\n",
    "plt.title(sample + ': summed spectrum');"
   ]
  },
  {
   "cell_type": "code",
   "execution_count": 16,
   "metadata": {},
   "outputs": [
    {
     "name": "stdout",
     "output_type": "stream",
     "text": [
      "Desired spectral range: 1.5 to 3.6\n",
      "Integrating indicies from 0 to 568\n",
      "Desired spectral range: 1.5 to 2.5\n",
      "Integrating indicies from 0 to 263\n",
      "Desired spectral range: 2.5 to 3.0\n",
      "Integrating indicies from 263 to 402\n",
      "Desired spectral range: 3.0 to 3.2\n",
      "Integrating indicies from 402 to 457\n",
      "Desired spectral range: 3.2 to 3.5\n",
      "Integrating indicies from 457 to 540\n",
      "Desired spectral range: 3.5 to 3.6\n",
      "Integrating indicies from 540 to 568\n"
     ]
    }
   ],
   "source": [
    "# Use this function to plot summed maps in the spectral regions corresponding to PL, Si Raman, and WS2 Raman\n",
    "f4 = fncn.plot_spec_bands(En_spec_map,En,v_array,h_array,sample,' [eV] spec bands',\n",
    "                          (1.5,3.6,'viridis','all'),\n",
    "                          (1.5,2.5,'viridis','defect'),\n",
    "                          (2.5,3.0,'viridis','InGaN 2'),\n",
    "                          (3.0,3.2,'viridis','InGaN 1'),\n",
    "                          (3.2,3.5,'viridis','GaN'),\n",
    "                          (3.5,3.6,'viridis','laser'),\n",
    "            no_of_cols=3,percentile=3)\n",
    "plt.tight_layout(h_pad=1)\n",
    "f4.set_size_inches(7,7)"
   ]
  },
  {
   "cell_type": "code",
   "execution_count": 17,
   "metadata": {
    "scrolled": true
   },
   "outputs": [
    {
     "name": "stdout",
     "output_type": "stream",
     "text": [
      "Desired spectral range: 3.3 to 3.4\n",
      "Integrating indicies from 485 to 512\n",
      "Desired spectral range: 3.2 to 3.3\n",
      "Integrating indicies from 457 to 485\n",
      "Desired spectral range: 3.1 to 3.2\n",
      "Integrating indicies from 429 to 457\n",
      "Desired spectral range: 3.0 to 3.1\n",
      "Integrating indicies from 402 to 429\n",
      "Desired spectral range: 2.9 to 3.0\n",
      "Integrating indicies from 374 to 402\n",
      "Desired spectral range: 2.8 to 2.9\n",
      "Integrating indicies from 346 to 374\n",
      "Desired spectral range: 2.7 to 2.8\n",
      "Integrating indicies from 319 to 346\n",
      "Desired spectral range: 2.6 to 2.7\n",
      "Integrating indicies from 291 to 319\n",
      "Desired spectral range: 2.5 to 2.6\n",
      "Integrating indicies from 263 to 291\n"
     ]
    }
   ],
   "source": [
    "f5 = fncn.plot_spec_bands(En_spec_map,En,v_array,h_array,sample,' [eV] 0.1 eV spec bands',\n",
    "            (3.3,3.4,'viridis','1'),\n",
    "            (3.2,3.3,'viridis','2'),\n",
    "            (3.1,3.2,'viridis','3'),\n",
    "            (3.0,3.1,'viridis','4'),\n",
    "            (2.9,3.0,'viridis','5'),\n",
    "            (2.8,2.9,'viridis','6'),\n",
    "            (2.7,2.8,'viridis','7'),\n",
    "            (2.6,2.7,'viridis','8'),\n",
    "            (2.5,2.6,'viridis','9'),\n",
    "            no_of_cols=5,percentile=3)\n",
    "\n",
    "f5.set_size_inches(10,7)\n",
    "plt.tight_layout(h_pad=1)"
   ]
  },
  {
   "cell_type": "markdown",
   "metadata": {},
   "source": [
    "## Hyperspy signal setup"
   ]
  },
  {
   "cell_type": "code",
   "execution_count": 18,
   "metadata": {},
   "outputs": [],
   "source": [
    "#data_red = fncn.bin_ndarray(En_spec_map[:,:,0:449], (45,52,450), operation='mean')\n",
    "data_red = En_spec_map[:,:,:]\n",
    "escale=En[1]-En[0]\n",
    "eoffset=En[0]\n",
    "\n",
    "# define signal and dimensions\n",
    "s=hs.signals.Signal1D(data_red)\n",
    "s.change_dtype('float64')\n",
    "s.axes_manager[2].scale=escale\n",
    "s.axes_manager[2].offset=eoffset\n",
    "s.axes_manager[2].name='E'\n",
    "s.axes_manager[2].units='eV'\n",
    "s.axes_manager[0].name='x'\n",
    "s.axes_manager[0].units='um'\n",
    "s.axes_manager[0].scale=dh\n",
    "s.axes_manager[1].name='Y'\n",
    "s.axes_manager[1].units='um'\n",
    "s.axes_manager[1].scale=dv"
   ]
  },
  {
   "cell_type": "code",
   "execution_count": null,
   "metadata": {
    "scrolled": false
   },
   "outputs": [],
   "source": [
    "# plot an interactive map with spectra at each location\n",
    "roi = hs.roi.RectangularROI(left=0, right=100., top=0, bottom=100.)\n",
    "s.plot()\n",
    "scrop = roi.interactive(s)"
   ]
  },
  {
   "cell_type": "code",
   "execution_count": null,
   "metadata": {},
   "outputs": [],
   "source": [
    "scrop.plot()"
   ]
  },
  {
   "cell_type": "code",
   "execution_count": null,
   "metadata": {},
   "outputs": [],
   "source": [
    "s = scrop"
   ]
  },
  {
   "cell_type": "markdown",
   "metadata": {},
   "source": [
    "## PCA with SVD, BSS"
   ]
  },
  {
   "cell_type": "code",
   "execution_count": null,
   "metadata": {},
   "outputs": [],
   "source": [
    "# perform principal component analysis, look at the explained variance\n",
    "s.decomposition(algorithm='svd')\n",
    "s.plot_explained_variance_ratio()"
   ]
  },
  {
   "cell_type": "code",
   "execution_count": null,
   "metadata": {},
   "outputs": [],
   "source": [
    "# take a look at orthogonalized \n",
    "s.blind_source_separation(number_of_components=5,on_loadings=True,max_iter=1000)\n",
    "#s.plot_bss_results()\n",
    "#bss_comp_arr = s.get_bss_loadings().split()"
   ]
  },
  {
   "cell_type": "code",
   "execution_count": null,
   "metadata": {
    "scrolled": true
   },
   "outputs": [],
   "source": [
    "#fncn.plot_bss_results(s,cmap='viridis')\n",
    "fncn.plot_hs_results(s.get_bss_loadings(),s.get_bss_factors(),fncn.get_hs_axes(s),title='BSS',cmap='viridis',no_of_bands=5)"
   ]
  },
  {
   "cell_type": "markdown",
   "metadata": {},
   "source": [
    "## PCA with NMF"
   ]
  },
  {
   "cell_type": "code",
   "execution_count": null,
   "metadata": {},
   "outputs": [],
   "source": [
    "s.decomposition(algorithm='nmf',output_dimension=5)\n",
    "#s.plot_decomposition_results()\n",
    "nmf_comp_arr = s.get_decomposition_loadings().split()"
   ]
  },
  {
   "cell_type": "code",
   "execution_count": null,
   "metadata": {},
   "outputs": [],
   "source": [
    "#fncn.plot_decomp_results(s,cmap='viridis')\n",
    "fncn.plot_hs_results(s.get_decomposition_loadings(),s.get_decomposition_factors(),fncn.get_hs_axes(s),title='NMF',cmap='viridis',no_of_bands=5)"
   ]
  },
  {
   "cell_type": "markdown",
   "metadata": {},
   "source": [
    "## Set up mask"
   ]
  },
  {
   "cell_type": "code",
   "execution_count": null,
   "metadata": {},
   "outputs": [],
   "source": [
    "mask = None"
   ]
  },
  {
   "cell_type": "code",
   "execution_count": null,
   "metadata": {},
   "outputs": [],
   "source": [
    "mask_data = nmf_comp_arr[1]\n",
    "mask_data.plot()"
   ]
  },
  {
   "cell_type": "code",
   "execution_count": null,
   "metadata": {},
   "outputs": [],
   "source": [
    "mask = mask_data > 1000\n",
    "mask.plot()"
   ]
  },
  {
   "cell_type": "markdown",
   "metadata": {},
   "source": [
    "## Correlations between BSS and NMF loadings"
   ]
  },
  {
   "cell_type": "code",
   "execution_count": null,
   "metadata": {},
   "outputs": [],
   "source": [
    "fncn.plot_loading_correlations(s,mask=mask.data,alpha=0.1)\n",
    "plt.gcf().set_size_inches(10,10)\n",
    "plt.tight_layout(h_pad=1)"
   ]
  },
  {
   "cell_type": "code",
   "execution_count": null,
   "metadata": {},
   "outputs": [],
   "source": [
    "fncn.plot_relevant_correlations(s,mask=mask.data,alpha=0.1)"
   ]
  },
  {
   "cell_type": "code",
   "execution_count": null,
   "metadata": {
    "scrolled": true
   },
   "outputs": [],
   "source": [
    "import matplotlib.backends.backend_pdf\n",
    "pdf = matplotlib.backends.backend_pdf.PdfPages(fbase+\".pdf\")\n",
    "for fig in range(1, plt.figure().number): ## will open an empty extra figure :(\n",
    "    pdf.savefig( fig )\n",
    "pdf.close()\n",
    "plt.close(fig='all')"
   ]
  },
  {
   "cell_type": "code",
   "execution_count": null,
   "metadata": {},
   "outputs": [],
   "source": [
    "print('test')"
   ]
  },
  {
   "cell_type": "code",
   "execution_count": null,
   "metadata": {},
   "outputs": [],
   "source": [
    "sc = s.get_decomposition_model()\n",
    "sc.plot()"
   ]
  },
  {
   "cell_type": "code",
   "execution_count": null,
   "metadata": {},
   "outputs": [],
   "source": [
    "(s-sc).plot()"
   ]
  },
  {
   "cell_type": "code",
   "execution_count": null,
   "metadata": {},
   "outputs": [],
   "source": [
    "f5 = fncn.plot_spec_bands(sc.data,En,v_array,h_array,sample,' [eV] 0.1 eV spec bands',\n",
    "            (3.3,3.4,'plasma','1'),\n",
    "            (3.2,3.3,'plasma','2'),\n",
    "            (3.1,3.2,'plasma','3'),\n",
    "            (3.0,3.1,'plasma','4'),\n",
    "            (2.9,3.0,'plasma','5'),\n",
    "            (2.8,2.9,'plasma','6'),\n",
    "            (2.7,2.8,'plasma','7'),\n",
    "            (2.6,2.7,'plasma','8'),\n",
    "            (2.5,2.6,'plasma','9'),\n",
    "            no_of_cols=5,percentile=3)\n",
    "plt.tight_layout(h_pad=1)\n",
    "f4.set_size_inches(7,7)"
   ]
  },
  {
   "cell_type": "code",
   "execution_count": null,
   "metadata": {},
   "outputs": [],
   "source": [
    "plt.tight_layout(h_pad=1)"
   ]
  },
  {
   "cell_type": "code",
   "execution_count": null,
   "metadata": {},
   "outputs": [],
   "source": [
    "plt.gcf()"
   ]
  },
  {
   "cell_type": "code",
   "execution_count": null,
   "metadata": {},
   "outputs": [],
   "source": [
    "plt.figure()\n",
    "aa = np.linspace(1e-3,20e-3,num=50)\n",
    "dd = 135*np.tan(aa/10)\n",
    "print(aa.shape)\n",
    "plt.plot(aa,dd)"
   ]
  },
  {
   "cell_type": "code",
   "execution_count": null,
   "metadata": {},
   "outputs": [],
   "source": [
    "plt.close(fig='all')"
   ]
  },
  {
   "cell_type": "code",
   "execution_count": null,
   "metadata": {},
   "outputs": [],
   "source": [
    "scrop.plot()"
   ]
  },
  {
   "cell_type": "code",
   "execution_count": null,
   "metadata": {},
   "outputs": [],
   "source": [
    "# perform principal component analysis, look at the explained variance\n",
    "scrop.decomposition(algorithm='svd')\n",
    "scrop.plot_explained_variance_ratio()"
   ]
  },
  {
   "cell_type": "code",
   "execution_count": null,
   "metadata": {},
   "outputs": [],
   "source": [
    "# take a look at orthogonalized \n",
    "scrop.blind_source_separation(number_of_components=8,on_loadings=True,max_iter=1000)\n",
    "fncn.plot_hs_results(scrop.get_bss_loadings(),scrop.get_bss_factors(),fncn.get_hs_axes(scrop),title='BSS',cmap='viridis')"
   ]
  },
  {
   "cell_type": "code",
   "execution_count": null,
   "metadata": {
    "scrolled": true
   },
   "outputs": [],
   "source": [
    "np.shape(fncn.get_hs_axes(s)[2])"
   ]
  },
  {
   "cell_type": "code",
   "execution_count": null,
   "metadata": {},
   "outputs": [],
   "source": [
    "np.shape(fncn.get_hs_axes(scrop)[1])"
   ]
  },
  {
   "cell_type": "code",
   "execution_count": null,
   "metadata": {},
   "outputs": [],
   "source": []
  }
 ],
 "metadata": {
  "kernelspec": {
   "display_name": "Python 3",
   "language": "python",
   "name": "python3"
  },
  "language_info": {
   "codemirror_mode": {
    "name": "ipython",
    "version": 3
   },
   "file_extension": ".py",
   "mimetype": "text/x-python",
   "name": "python",
   "nbconvert_exporter": "python",
   "pygments_lexer": "ipython3",
   "version": "3.6.6"
  }
 },
 "nbformat": 4,
 "nbformat_minor": 2
}
